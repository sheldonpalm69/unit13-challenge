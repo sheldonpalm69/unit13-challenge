{
 "cells": [
  {
   "cell_type": "markdown",
   "metadata": {},
   "source": [
    "# Clustering Crypto"
   ]
  },
  {
   "cell_type": "code",
   "execution_count": 13,
   "metadata": {},
   "outputs": [],
   "source": [
    "# Initial imports\n",
    "import requests\n",
    "import pandas as pd\n",
    "import matplotlib.pyplot as plt\n",
    "import hvplot.pandas\n",
    "import plotly.express as px\n",
    "from sklearn.preprocessing import StandardScaler, MinMaxScaler\n",
    "from sklearn.decomposition import PCA\n",
    "from sklearn.cluster import KMeans\n",
    "from pathlib import Path"
   ]
  },
  {
   "cell_type": "markdown",
   "metadata": {},
   "source": [
    "### Fetching Cryptocurrency Data"
   ]
  },
  {
   "cell_type": "code",
   "execution_count": 7,
   "metadata": {},
   "outputs": [],
   "source": [
    "#pip install hvplot"
   ]
  },
  {
   "cell_type": "code",
   "execution_count": 8,
   "metadata": {},
   "outputs": [],
   "source": [
    "#pip install dash"
   ]
  },
  {
   "cell_type": "code",
   "execution_count": 14,
   "metadata": {},
   "outputs": [],
   "source": [
    "# Use the following endpoint to fetch json data\n",
    "url = \"https://min-api.cryptocompare.com/data/all/coinlist\""
   ]
  },
  {
   "cell_type": "code",
   "execution_count": null,
   "metadata": {},
   "outputs": [],
   "source": [
    "# Create a DataFrame \n",
    "# HINT: You will need to use the 'Data' key from the json response, then transpose the DataFrame."
   ]
  },
  {
   "cell_type": "code",
   "execution_count": 16,
   "metadata": {},
   "outputs": [
    {
     "data": {
      "text/html": [
       "<div>\n",
       "<style scoped>\n",
       "    .dataframe tbody tr th:only-of-type {\n",
       "        vertical-align: middle;\n",
       "    }\n",
       "\n",
       "    .dataframe tbody tr th {\n",
       "        vertical-align: top;\n",
       "    }\n",
       "\n",
       "    .dataframe thead th {\n",
       "        text-align: right;\n",
       "    }\n",
       "</style>\n",
       "<table border=\"1\" class=\"dataframe\">\n",
       "  <thead>\n",
       "    <tr style=\"text-align: right;\">\n",
       "      <th></th>\n",
       "      <th>Unnamed: 0</th>\n",
       "      <th>CoinName</th>\n",
       "      <th>Algorithm</th>\n",
       "      <th>IsTrading</th>\n",
       "      <th>ProofType</th>\n",
       "      <th>TotalCoinsMined</th>\n",
       "      <th>TotalCoinSupply</th>\n",
       "    </tr>\n",
       "  </thead>\n",
       "  <tbody>\n",
       "    <tr>\n",
       "      <th>0</th>\n",
       "      <td>42</td>\n",
       "      <td>42 Coin</td>\n",
       "      <td>Scrypt</td>\n",
       "      <td>True</td>\n",
       "      <td>PoW/PoS</td>\n",
       "      <td>4.199995e+01</td>\n",
       "      <td>42</td>\n",
       "    </tr>\n",
       "    <tr>\n",
       "      <th>1</th>\n",
       "      <td>365</td>\n",
       "      <td>365Coin</td>\n",
       "      <td>X11</td>\n",
       "      <td>True</td>\n",
       "      <td>PoW/PoS</td>\n",
       "      <td>NaN</td>\n",
       "      <td>2300000000</td>\n",
       "    </tr>\n",
       "    <tr>\n",
       "      <th>2</th>\n",
       "      <td>404</td>\n",
       "      <td>404Coin</td>\n",
       "      <td>Scrypt</td>\n",
       "      <td>True</td>\n",
       "      <td>PoW/PoS</td>\n",
       "      <td>1.055185e+09</td>\n",
       "      <td>532000000</td>\n",
       "    </tr>\n",
       "    <tr>\n",
       "      <th>3</th>\n",
       "      <td>611</td>\n",
       "      <td>SixEleven</td>\n",
       "      <td>SHA-256</td>\n",
       "      <td>True</td>\n",
       "      <td>PoW</td>\n",
       "      <td>NaN</td>\n",
       "      <td>611000</td>\n",
       "    </tr>\n",
       "    <tr>\n",
       "      <th>4</th>\n",
       "      <td>808</td>\n",
       "      <td>808</td>\n",
       "      <td>SHA-256</td>\n",
       "      <td>True</td>\n",
       "      <td>PoW/PoS</td>\n",
       "      <td>0.000000e+00</td>\n",
       "      <td>0</td>\n",
       "    </tr>\n",
       "  </tbody>\n",
       "</table>\n",
       "</div>"
      ],
      "text/plain": [
       "  Unnamed: 0   CoinName Algorithm  IsTrading ProofType  TotalCoinsMined  \\\n",
       "0         42    42 Coin    Scrypt       True   PoW/PoS     4.199995e+01   \n",
       "1        365    365Coin       X11       True   PoW/PoS              NaN   \n",
       "2        404    404Coin    Scrypt       True   PoW/PoS     1.055185e+09   \n",
       "3        611  SixEleven   SHA-256       True       PoW              NaN   \n",
       "4        808        808   SHA-256       True   PoW/PoS     0.000000e+00   \n",
       "\n",
       "  TotalCoinSupply  \n",
       "0              42  \n",
       "1      2300000000  \n",
       "2       532000000  \n",
       "3          611000  \n",
       "4               0  "
      ]
     },
     "execution_count": 16,
     "metadata": {},
     "output_type": "execute_result"
    }
   ],
   "source": [
    "# Alternatively, use the provided csv file:\n",
    "csv_path = Path(\"crypto_data.csv\")\n",
    "\n",
    "# Create a DataFrame\n",
    "crypto_df = pd.read_csv(csv_path)\n",
    "crypto_df.head()"
   ]
  },
  {
   "cell_type": "markdown",
   "metadata": {},
   "source": [
    "### Data Preprocessing"
   ]
  },
  {
   "cell_type": "code",
   "execution_count": 17,
   "metadata": {},
   "outputs": [
    {
     "data": {
      "text/html": [
       "<div>\n",
       "<style scoped>\n",
       "    .dataframe tbody tr th:only-of-type {\n",
       "        vertical-align: middle;\n",
       "    }\n",
       "\n",
       "    .dataframe tbody tr th {\n",
       "        vertical-align: top;\n",
       "    }\n",
       "\n",
       "    .dataframe thead th {\n",
       "        text-align: right;\n",
       "    }\n",
       "</style>\n",
       "<table border=\"1\" class=\"dataframe\">\n",
       "  <thead>\n",
       "    <tr style=\"text-align: right;\">\n",
       "      <th></th>\n",
       "      <th>CoinName</th>\n",
       "      <th>Algorithm</th>\n",
       "      <th>IsTrading</th>\n",
       "      <th>ProofType</th>\n",
       "      <th>TotalCoinsMined</th>\n",
       "      <th>TotalCoinSupply</th>\n",
       "    </tr>\n",
       "  </thead>\n",
       "  <tbody>\n",
       "    <tr>\n",
       "      <th>0</th>\n",
       "      <td>42 Coin</td>\n",
       "      <td>Scrypt</td>\n",
       "      <td>True</td>\n",
       "      <td>PoW/PoS</td>\n",
       "      <td>4.199995e+01</td>\n",
       "      <td>42</td>\n",
       "    </tr>\n",
       "    <tr>\n",
       "      <th>1</th>\n",
       "      <td>365Coin</td>\n",
       "      <td>X11</td>\n",
       "      <td>True</td>\n",
       "      <td>PoW/PoS</td>\n",
       "      <td>NaN</td>\n",
       "      <td>2300000000</td>\n",
       "    </tr>\n",
       "    <tr>\n",
       "      <th>2</th>\n",
       "      <td>404Coin</td>\n",
       "      <td>Scrypt</td>\n",
       "      <td>True</td>\n",
       "      <td>PoW/PoS</td>\n",
       "      <td>1.055185e+09</td>\n",
       "      <td>532000000</td>\n",
       "    </tr>\n",
       "    <tr>\n",
       "      <th>3</th>\n",
       "      <td>SixEleven</td>\n",
       "      <td>SHA-256</td>\n",
       "      <td>True</td>\n",
       "      <td>PoW</td>\n",
       "      <td>NaN</td>\n",
       "      <td>611000</td>\n",
       "    </tr>\n",
       "    <tr>\n",
       "      <th>4</th>\n",
       "      <td>808</td>\n",
       "      <td>SHA-256</td>\n",
       "      <td>True</td>\n",
       "      <td>PoW/PoS</td>\n",
       "      <td>0.000000e+00</td>\n",
       "      <td>0</td>\n",
       "    </tr>\n",
       "  </tbody>\n",
       "</table>\n",
       "</div>"
      ],
      "text/plain": [
       "    CoinName Algorithm  IsTrading ProofType  TotalCoinsMined TotalCoinSupply\n",
       "0    42 Coin    Scrypt       True   PoW/PoS     4.199995e+01              42\n",
       "1    365Coin       X11       True   PoW/PoS              NaN      2300000000\n",
       "2    404Coin    Scrypt       True   PoW/PoS     1.055185e+09       532000000\n",
       "3  SixEleven   SHA-256       True       PoW              NaN          611000\n",
       "4        808   SHA-256       True   PoW/PoS     0.000000e+00               0"
      ]
     },
     "execution_count": 17,
     "metadata": {},
     "output_type": "execute_result"
    }
   ],
   "source": [
    "# Keep only necessary columns:\n",
    "# 'CoinName','Algorithm','IsTrading','ProofType','TotalCoinsMined','TotalCoinSupply'\n",
    "crypto_df = crypto_df.drop(columns=['Unnamed: 0'])\n",
    "crypto_df.head()"
   ]
  },
  {
   "cell_type": "code",
   "execution_count": 18,
   "metadata": {},
   "outputs": [
    {
     "data": {
      "text/html": [
       "<div>\n",
       "<style scoped>\n",
       "    .dataframe tbody tr th:only-of-type {\n",
       "        vertical-align: middle;\n",
       "    }\n",
       "\n",
       "    .dataframe tbody tr th {\n",
       "        vertical-align: top;\n",
       "    }\n",
       "\n",
       "    .dataframe thead th {\n",
       "        text-align: right;\n",
       "    }\n",
       "</style>\n",
       "<table border=\"1\" class=\"dataframe\">\n",
       "  <thead>\n",
       "    <tr style=\"text-align: right;\">\n",
       "      <th></th>\n",
       "      <th>CoinName</th>\n",
       "      <th>Algorithm</th>\n",
       "      <th>IsTrading</th>\n",
       "      <th>ProofType</th>\n",
       "      <th>TotalCoinsMined</th>\n",
       "      <th>TotalCoinSupply</th>\n",
       "    </tr>\n",
       "  </thead>\n",
       "  <tbody>\n",
       "    <tr>\n",
       "      <th>0</th>\n",
       "      <td>42 Coin</td>\n",
       "      <td>Scrypt</td>\n",
       "      <td>True</td>\n",
       "      <td>PoW/PoS</td>\n",
       "      <td>4.199995e+01</td>\n",
       "      <td>42</td>\n",
       "    </tr>\n",
       "    <tr>\n",
       "      <th>1</th>\n",
       "      <td>365Coin</td>\n",
       "      <td>X11</td>\n",
       "      <td>True</td>\n",
       "      <td>PoW/PoS</td>\n",
       "      <td>NaN</td>\n",
       "      <td>2300000000</td>\n",
       "    </tr>\n",
       "    <tr>\n",
       "      <th>2</th>\n",
       "      <td>404Coin</td>\n",
       "      <td>Scrypt</td>\n",
       "      <td>True</td>\n",
       "      <td>PoW/PoS</td>\n",
       "      <td>1.055185e+09</td>\n",
       "      <td>532000000</td>\n",
       "    </tr>\n",
       "    <tr>\n",
       "      <th>3</th>\n",
       "      <td>SixEleven</td>\n",
       "      <td>SHA-256</td>\n",
       "      <td>True</td>\n",
       "      <td>PoW</td>\n",
       "      <td>NaN</td>\n",
       "      <td>611000</td>\n",
       "    </tr>\n",
       "    <tr>\n",
       "      <th>4</th>\n",
       "      <td>808</td>\n",
       "      <td>SHA-256</td>\n",
       "      <td>True</td>\n",
       "      <td>PoW/PoS</td>\n",
       "      <td>0.000000e+00</td>\n",
       "      <td>0</td>\n",
       "    </tr>\n",
       "    <tr>\n",
       "      <th>5</th>\n",
       "      <td>EliteCoin</td>\n",
       "      <td>X13</td>\n",
       "      <td>True</td>\n",
       "      <td>PoW/PoS</td>\n",
       "      <td>2.927942e+10</td>\n",
       "      <td>314159265359</td>\n",
       "    </tr>\n",
       "    <tr>\n",
       "      <th>6</th>\n",
       "      <td>2015 coin</td>\n",
       "      <td>X11</td>\n",
       "      <td>True</td>\n",
       "      <td>PoW/PoS</td>\n",
       "      <td>NaN</td>\n",
       "      <td>0</td>\n",
       "    </tr>\n",
       "    <tr>\n",
       "      <th>7</th>\n",
       "      <td>Bitcoin</td>\n",
       "      <td>SHA-256</td>\n",
       "      <td>True</td>\n",
       "      <td>PoW</td>\n",
       "      <td>1.792718e+07</td>\n",
       "      <td>21000000</td>\n",
       "    </tr>\n",
       "    <tr>\n",
       "      <th>8</th>\n",
       "      <td>Ethereum</td>\n",
       "      <td>Ethash</td>\n",
       "      <td>True</td>\n",
       "      <td>PoW</td>\n",
       "      <td>1.076842e+08</td>\n",
       "      <td>0</td>\n",
       "    </tr>\n",
       "    <tr>\n",
       "      <th>9</th>\n",
       "      <td>Litecoin</td>\n",
       "      <td>Scrypt</td>\n",
       "      <td>True</td>\n",
       "      <td>PoW</td>\n",
       "      <td>6.303924e+07</td>\n",
       "      <td>84000000</td>\n",
       "    </tr>\n",
       "  </tbody>\n",
       "</table>\n",
       "</div>"
      ],
      "text/plain": [
       "    CoinName Algorithm  IsTrading ProofType  TotalCoinsMined TotalCoinSupply\n",
       "0    42 Coin    Scrypt       True   PoW/PoS     4.199995e+01              42\n",
       "1    365Coin       X11       True   PoW/PoS              NaN      2300000000\n",
       "2    404Coin    Scrypt       True   PoW/PoS     1.055185e+09       532000000\n",
       "3  SixEleven   SHA-256       True       PoW              NaN          611000\n",
       "4        808   SHA-256       True   PoW/PoS     0.000000e+00               0\n",
       "5  EliteCoin       X13       True   PoW/PoS     2.927942e+10    314159265359\n",
       "6  2015 coin       X11       True   PoW/PoS              NaN               0\n",
       "7    Bitcoin   SHA-256       True       PoW     1.792718e+07        21000000\n",
       "8   Ethereum    Ethash       True       PoW     1.076842e+08               0\n",
       "9   Litecoin    Scrypt       True       PoW     6.303924e+07        84000000"
      ]
     },
     "execution_count": 18,
     "metadata": {},
     "output_type": "execute_result"
    }
   ],
   "source": [
    "# Keep only cryptocurrencies that are trading\n",
    "crypto_df = crypto_df.loc[crypto_df['IsTrading'] == True]\n",
    "crypto_df.head(10)"
   ]
  },
  {
   "cell_type": "code",
   "execution_count": 19,
   "metadata": {},
   "outputs": [
    {
     "data": {
      "text/html": [
       "<div>\n",
       "<style scoped>\n",
       "    .dataframe tbody tr th:only-of-type {\n",
       "        vertical-align: middle;\n",
       "    }\n",
       "\n",
       "    .dataframe tbody tr th {\n",
       "        vertical-align: top;\n",
       "    }\n",
       "\n",
       "    .dataframe thead th {\n",
       "        text-align: right;\n",
       "    }\n",
       "</style>\n",
       "<table border=\"1\" class=\"dataframe\">\n",
       "  <thead>\n",
       "    <tr style=\"text-align: right;\">\n",
       "      <th></th>\n",
       "      <th>CoinName</th>\n",
       "      <th>Algorithm</th>\n",
       "      <th>IsTrading</th>\n",
       "      <th>ProofType</th>\n",
       "      <th>TotalCoinsMined</th>\n",
       "      <th>TotalCoinSupply</th>\n",
       "    </tr>\n",
       "  </thead>\n",
       "  <tbody>\n",
       "    <tr>\n",
       "      <th>0</th>\n",
       "      <td>42 Coin</td>\n",
       "      <td>Scrypt</td>\n",
       "      <td>True</td>\n",
       "      <td>PoW/PoS</td>\n",
       "      <td>4.199995e+01</td>\n",
       "      <td>42</td>\n",
       "    </tr>\n",
       "    <tr>\n",
       "      <th>1</th>\n",
       "      <td>365Coin</td>\n",
       "      <td>X11</td>\n",
       "      <td>True</td>\n",
       "      <td>PoW/PoS</td>\n",
       "      <td>NaN</td>\n",
       "      <td>2300000000</td>\n",
       "    </tr>\n",
       "    <tr>\n",
       "      <th>2</th>\n",
       "      <td>404Coin</td>\n",
       "      <td>Scrypt</td>\n",
       "      <td>True</td>\n",
       "      <td>PoW/PoS</td>\n",
       "      <td>1.055185e+09</td>\n",
       "      <td>532000000</td>\n",
       "    </tr>\n",
       "    <tr>\n",
       "      <th>3</th>\n",
       "      <td>SixEleven</td>\n",
       "      <td>SHA-256</td>\n",
       "      <td>True</td>\n",
       "      <td>PoW</td>\n",
       "      <td>NaN</td>\n",
       "      <td>611000</td>\n",
       "    </tr>\n",
       "    <tr>\n",
       "      <th>4</th>\n",
       "      <td>808</td>\n",
       "      <td>SHA-256</td>\n",
       "      <td>True</td>\n",
       "      <td>PoW/PoS</td>\n",
       "      <td>0.000000e+00</td>\n",
       "      <td>0</td>\n",
       "    </tr>\n",
       "    <tr>\n",
       "      <th>5</th>\n",
       "      <td>EliteCoin</td>\n",
       "      <td>X13</td>\n",
       "      <td>True</td>\n",
       "      <td>PoW/PoS</td>\n",
       "      <td>2.927942e+10</td>\n",
       "      <td>314159265359</td>\n",
       "    </tr>\n",
       "    <tr>\n",
       "      <th>6</th>\n",
       "      <td>2015 coin</td>\n",
       "      <td>X11</td>\n",
       "      <td>True</td>\n",
       "      <td>PoW/PoS</td>\n",
       "      <td>NaN</td>\n",
       "      <td>0</td>\n",
       "    </tr>\n",
       "    <tr>\n",
       "      <th>7</th>\n",
       "      <td>Bitcoin</td>\n",
       "      <td>SHA-256</td>\n",
       "      <td>True</td>\n",
       "      <td>PoW</td>\n",
       "      <td>1.792718e+07</td>\n",
       "      <td>21000000</td>\n",
       "    </tr>\n",
       "    <tr>\n",
       "      <th>8</th>\n",
       "      <td>Ethereum</td>\n",
       "      <td>Ethash</td>\n",
       "      <td>True</td>\n",
       "      <td>PoW</td>\n",
       "      <td>1.076842e+08</td>\n",
       "      <td>0</td>\n",
       "    </tr>\n",
       "    <tr>\n",
       "      <th>9</th>\n",
       "      <td>Litecoin</td>\n",
       "      <td>Scrypt</td>\n",
       "      <td>True</td>\n",
       "      <td>PoW</td>\n",
       "      <td>6.303924e+07</td>\n",
       "      <td>84000000</td>\n",
       "    </tr>\n",
       "  </tbody>\n",
       "</table>\n",
       "</div>"
      ],
      "text/plain": [
       "    CoinName Algorithm  IsTrading ProofType  TotalCoinsMined TotalCoinSupply\n",
       "0    42 Coin    Scrypt       True   PoW/PoS     4.199995e+01              42\n",
       "1    365Coin       X11       True   PoW/PoS              NaN      2300000000\n",
       "2    404Coin    Scrypt       True   PoW/PoS     1.055185e+09       532000000\n",
       "3  SixEleven   SHA-256       True       PoW              NaN          611000\n",
       "4        808   SHA-256       True   PoW/PoS     0.000000e+00               0\n",
       "5  EliteCoin       X13       True   PoW/PoS     2.927942e+10    314159265359\n",
       "6  2015 coin       X11       True   PoW/PoS              NaN               0\n",
       "7    Bitcoin   SHA-256       True       PoW     1.792718e+07        21000000\n",
       "8   Ethereum    Ethash       True       PoW     1.076842e+08               0\n",
       "9   Litecoin    Scrypt       True       PoW     6.303924e+07        84000000"
      ]
     },
     "execution_count": 19,
     "metadata": {},
     "output_type": "execute_result"
    }
   ],
   "source": [
    "# Keep only cryptocurrencies with a working algorithm\n",
    "crypto_df = crypto_df.loc[crypto_df['Algorithm'] != 'N/A']\n",
    "\n",
    "crypto_df.head(10)"
   ]
  },
  {
   "cell_type": "code",
   "execution_count": 20,
   "metadata": {},
   "outputs": [
    {
     "data": {
      "text/html": [
       "<div>\n",
       "<style scoped>\n",
       "    .dataframe tbody tr th:only-of-type {\n",
       "        vertical-align: middle;\n",
       "    }\n",
       "\n",
       "    .dataframe tbody tr th {\n",
       "        vertical-align: top;\n",
       "    }\n",
       "\n",
       "    .dataframe thead th {\n",
       "        text-align: right;\n",
       "    }\n",
       "</style>\n",
       "<table border=\"1\" class=\"dataframe\">\n",
       "  <thead>\n",
       "    <tr style=\"text-align: right;\">\n",
       "      <th></th>\n",
       "      <th>CoinName</th>\n",
       "      <th>Algorithm</th>\n",
       "      <th>ProofType</th>\n",
       "      <th>TotalCoinsMined</th>\n",
       "      <th>TotalCoinSupply</th>\n",
       "    </tr>\n",
       "  </thead>\n",
       "  <tbody>\n",
       "    <tr>\n",
       "      <th>0</th>\n",
       "      <td>42 Coin</td>\n",
       "      <td>Scrypt</td>\n",
       "      <td>PoW/PoS</td>\n",
       "      <td>4.199995e+01</td>\n",
       "      <td>42</td>\n",
       "    </tr>\n",
       "    <tr>\n",
       "      <th>1</th>\n",
       "      <td>365Coin</td>\n",
       "      <td>X11</td>\n",
       "      <td>PoW/PoS</td>\n",
       "      <td>NaN</td>\n",
       "      <td>2300000000</td>\n",
       "    </tr>\n",
       "    <tr>\n",
       "      <th>2</th>\n",
       "      <td>404Coin</td>\n",
       "      <td>Scrypt</td>\n",
       "      <td>PoW/PoS</td>\n",
       "      <td>1.055185e+09</td>\n",
       "      <td>532000000</td>\n",
       "    </tr>\n",
       "    <tr>\n",
       "      <th>3</th>\n",
       "      <td>SixEleven</td>\n",
       "      <td>SHA-256</td>\n",
       "      <td>PoW</td>\n",
       "      <td>NaN</td>\n",
       "      <td>611000</td>\n",
       "    </tr>\n",
       "    <tr>\n",
       "      <th>4</th>\n",
       "      <td>808</td>\n",
       "      <td>SHA-256</td>\n",
       "      <td>PoW/PoS</td>\n",
       "      <td>0.000000e+00</td>\n",
       "      <td>0</td>\n",
       "    </tr>\n",
       "  </tbody>\n",
       "</table>\n",
       "</div>"
      ],
      "text/plain": [
       "    CoinName Algorithm ProofType  TotalCoinsMined TotalCoinSupply\n",
       "0    42 Coin    Scrypt   PoW/PoS     4.199995e+01              42\n",
       "1    365Coin       X11   PoW/PoS              NaN      2300000000\n",
       "2    404Coin    Scrypt   PoW/PoS     1.055185e+09       532000000\n",
       "3  SixEleven   SHA-256       PoW              NaN          611000\n",
       "4        808   SHA-256   PoW/PoS     0.000000e+00               0"
      ]
     },
     "execution_count": 20,
     "metadata": {},
     "output_type": "execute_result"
    }
   ],
   "source": [
    "# Remove the \"IsTrading\" column\n",
    "crypto_df = crypto_df.drop(columns=['IsTrading'])\n",
    "crypto_df.head()"
   ]
  },
  {
   "cell_type": "code",
   "execution_count": 21,
   "metadata": {},
   "outputs": [
    {
     "data": {
      "text/html": [
       "<div>\n",
       "<style scoped>\n",
       "    .dataframe tbody tr th:only-of-type {\n",
       "        vertical-align: middle;\n",
       "    }\n",
       "\n",
       "    .dataframe tbody tr th {\n",
       "        vertical-align: top;\n",
       "    }\n",
       "\n",
       "    .dataframe thead th {\n",
       "        text-align: right;\n",
       "    }\n",
       "</style>\n",
       "<table border=\"1\" class=\"dataframe\">\n",
       "  <thead>\n",
       "    <tr style=\"text-align: right;\">\n",
       "      <th></th>\n",
       "      <th>CoinName</th>\n",
       "      <th>Algorithm</th>\n",
       "      <th>ProofType</th>\n",
       "      <th>TotalCoinsMined</th>\n",
       "      <th>TotalCoinSupply</th>\n",
       "    </tr>\n",
       "  </thead>\n",
       "  <tbody>\n",
       "    <tr>\n",
       "      <th>0</th>\n",
       "      <td>42 Coin</td>\n",
       "      <td>Scrypt</td>\n",
       "      <td>PoW/PoS</td>\n",
       "      <td>4.199995e+01</td>\n",
       "      <td>42</td>\n",
       "    </tr>\n",
       "    <tr>\n",
       "      <th>2</th>\n",
       "      <td>404Coin</td>\n",
       "      <td>Scrypt</td>\n",
       "      <td>PoW/PoS</td>\n",
       "      <td>1.055185e+09</td>\n",
       "      <td>532000000</td>\n",
       "    </tr>\n",
       "    <tr>\n",
       "      <th>4</th>\n",
       "      <td>808</td>\n",
       "      <td>SHA-256</td>\n",
       "      <td>PoW/PoS</td>\n",
       "      <td>0.000000e+00</td>\n",
       "      <td>0</td>\n",
       "    </tr>\n",
       "    <tr>\n",
       "      <th>5</th>\n",
       "      <td>EliteCoin</td>\n",
       "      <td>X13</td>\n",
       "      <td>PoW/PoS</td>\n",
       "      <td>2.927942e+10</td>\n",
       "      <td>314159265359</td>\n",
       "    </tr>\n",
       "    <tr>\n",
       "      <th>7</th>\n",
       "      <td>Bitcoin</td>\n",
       "      <td>SHA-256</td>\n",
       "      <td>PoW</td>\n",
       "      <td>1.792718e+07</td>\n",
       "      <td>21000000</td>\n",
       "    </tr>\n",
       "    <tr>\n",
       "      <th>8</th>\n",
       "      <td>Ethereum</td>\n",
       "      <td>Ethash</td>\n",
       "      <td>PoW</td>\n",
       "      <td>1.076842e+08</td>\n",
       "      <td>0</td>\n",
       "    </tr>\n",
       "    <tr>\n",
       "      <th>9</th>\n",
       "      <td>Litecoin</td>\n",
       "      <td>Scrypt</td>\n",
       "      <td>PoW</td>\n",
       "      <td>6.303924e+07</td>\n",
       "      <td>84000000</td>\n",
       "    </tr>\n",
       "    <tr>\n",
       "      <th>10</th>\n",
       "      <td>Dash</td>\n",
       "      <td>X11</td>\n",
       "      <td>PoW/PoS</td>\n",
       "      <td>9.031294e+06</td>\n",
       "      <td>22000000</td>\n",
       "    </tr>\n",
       "    <tr>\n",
       "      <th>11</th>\n",
       "      <td>Monero</td>\n",
       "      <td>CryptoNight-V7</td>\n",
       "      <td>PoW</td>\n",
       "      <td>1.720114e+07</td>\n",
       "      <td>0</td>\n",
       "    </tr>\n",
       "    <tr>\n",
       "      <th>12</th>\n",
       "      <td>Ethereum Classic</td>\n",
       "      <td>Ethash</td>\n",
       "      <td>PoW</td>\n",
       "      <td>1.133597e+08</td>\n",
       "      <td>210000000</td>\n",
       "    </tr>\n",
       "  </tbody>\n",
       "</table>\n",
       "</div>"
      ],
      "text/plain": [
       "            CoinName       Algorithm ProofType  TotalCoinsMined  \\\n",
       "0            42 Coin          Scrypt   PoW/PoS     4.199995e+01   \n",
       "2            404Coin          Scrypt   PoW/PoS     1.055185e+09   \n",
       "4                808         SHA-256   PoW/PoS     0.000000e+00   \n",
       "5          EliteCoin             X13   PoW/PoS     2.927942e+10   \n",
       "7            Bitcoin         SHA-256       PoW     1.792718e+07   \n",
       "8           Ethereum          Ethash       PoW     1.076842e+08   \n",
       "9           Litecoin          Scrypt       PoW     6.303924e+07   \n",
       "10              Dash             X11   PoW/PoS     9.031294e+06   \n",
       "11            Monero  CryptoNight-V7       PoW     1.720114e+07   \n",
       "12  Ethereum Classic          Ethash       PoW     1.133597e+08   \n",
       "\n",
       "   TotalCoinSupply  \n",
       "0               42  \n",
       "2        532000000  \n",
       "4                0  \n",
       "5     314159265359  \n",
       "7         21000000  \n",
       "8                0  \n",
       "9         84000000  \n",
       "10        22000000  \n",
       "11               0  \n",
       "12       210000000  "
      ]
     },
     "execution_count": 21,
     "metadata": {},
     "output_type": "execute_result"
    }
   ],
   "source": [
    "# Remove rows with at least 1 null value\n",
    "crypto_df = crypto_df.dropna()\n",
    "crypto_df.head(10)"
   ]
  },
  {
   "cell_type": "code",
   "execution_count": 22,
   "metadata": {},
   "outputs": [
    {
     "data": {
      "text/html": [
       "<div>\n",
       "<style scoped>\n",
       "    .dataframe tbody tr th:only-of-type {\n",
       "        vertical-align: middle;\n",
       "    }\n",
       "\n",
       "    .dataframe tbody tr th {\n",
       "        vertical-align: top;\n",
       "    }\n",
       "\n",
       "    .dataframe thead th {\n",
       "        text-align: right;\n",
       "    }\n",
       "</style>\n",
       "<table border=\"1\" class=\"dataframe\">\n",
       "  <thead>\n",
       "    <tr style=\"text-align: right;\">\n",
       "      <th></th>\n",
       "      <th>CoinName</th>\n",
       "      <th>Algorithm</th>\n",
       "      <th>ProofType</th>\n",
       "      <th>TotalCoinsMined</th>\n",
       "      <th>TotalCoinSupply</th>\n",
       "    </tr>\n",
       "  </thead>\n",
       "  <tbody>\n",
       "    <tr>\n",
       "      <th>0</th>\n",
       "      <td>42 Coin</td>\n",
       "      <td>Scrypt</td>\n",
       "      <td>PoW/PoS</td>\n",
       "      <td>4.199995e+01</td>\n",
       "      <td>42</td>\n",
       "    </tr>\n",
       "    <tr>\n",
       "      <th>2</th>\n",
       "      <td>404Coin</td>\n",
       "      <td>Scrypt</td>\n",
       "      <td>PoW/PoS</td>\n",
       "      <td>1.055185e+09</td>\n",
       "      <td>532000000</td>\n",
       "    </tr>\n",
       "    <tr>\n",
       "      <th>5</th>\n",
       "      <td>EliteCoin</td>\n",
       "      <td>X13</td>\n",
       "      <td>PoW/PoS</td>\n",
       "      <td>2.927942e+10</td>\n",
       "      <td>314159265359</td>\n",
       "    </tr>\n",
       "    <tr>\n",
       "      <th>7</th>\n",
       "      <td>Bitcoin</td>\n",
       "      <td>SHA-256</td>\n",
       "      <td>PoW</td>\n",
       "      <td>1.792718e+07</td>\n",
       "      <td>21000000</td>\n",
       "    </tr>\n",
       "    <tr>\n",
       "      <th>8</th>\n",
       "      <td>Ethereum</td>\n",
       "      <td>Ethash</td>\n",
       "      <td>PoW</td>\n",
       "      <td>1.076842e+08</td>\n",
       "      <td>0</td>\n",
       "    </tr>\n",
       "    <tr>\n",
       "      <th>9</th>\n",
       "      <td>Litecoin</td>\n",
       "      <td>Scrypt</td>\n",
       "      <td>PoW</td>\n",
       "      <td>6.303924e+07</td>\n",
       "      <td>84000000</td>\n",
       "    </tr>\n",
       "    <tr>\n",
       "      <th>10</th>\n",
       "      <td>Dash</td>\n",
       "      <td>X11</td>\n",
       "      <td>PoW/PoS</td>\n",
       "      <td>9.031294e+06</td>\n",
       "      <td>22000000</td>\n",
       "    </tr>\n",
       "    <tr>\n",
       "      <th>11</th>\n",
       "      <td>Monero</td>\n",
       "      <td>CryptoNight-V7</td>\n",
       "      <td>PoW</td>\n",
       "      <td>1.720114e+07</td>\n",
       "      <td>0</td>\n",
       "    </tr>\n",
       "    <tr>\n",
       "      <th>12</th>\n",
       "      <td>Ethereum Classic</td>\n",
       "      <td>Ethash</td>\n",
       "      <td>PoW</td>\n",
       "      <td>1.133597e+08</td>\n",
       "      <td>210000000</td>\n",
       "    </tr>\n",
       "    <tr>\n",
       "      <th>13</th>\n",
       "      <td>ZCash</td>\n",
       "      <td>Equihash</td>\n",
       "      <td>PoW</td>\n",
       "      <td>7.383056e+06</td>\n",
       "      <td>21000000</td>\n",
       "    </tr>\n",
       "  </tbody>\n",
       "</table>\n",
       "</div>"
      ],
      "text/plain": [
       "            CoinName       Algorithm ProofType  TotalCoinsMined  \\\n",
       "0            42 Coin          Scrypt   PoW/PoS     4.199995e+01   \n",
       "2            404Coin          Scrypt   PoW/PoS     1.055185e+09   \n",
       "5          EliteCoin             X13   PoW/PoS     2.927942e+10   \n",
       "7            Bitcoin         SHA-256       PoW     1.792718e+07   \n",
       "8           Ethereum          Ethash       PoW     1.076842e+08   \n",
       "9           Litecoin          Scrypt       PoW     6.303924e+07   \n",
       "10              Dash             X11   PoW/PoS     9.031294e+06   \n",
       "11            Monero  CryptoNight-V7       PoW     1.720114e+07   \n",
       "12  Ethereum Classic          Ethash       PoW     1.133597e+08   \n",
       "13             ZCash        Equihash       PoW     7.383056e+06   \n",
       "\n",
       "   TotalCoinSupply  \n",
       "0               42  \n",
       "2        532000000  \n",
       "5     314159265359  \n",
       "7         21000000  \n",
       "8                0  \n",
       "9         84000000  \n",
       "10        22000000  \n",
       "11               0  \n",
       "12       210000000  \n",
       "13        21000000  "
      ]
     },
     "execution_count": 22,
     "metadata": {},
     "output_type": "execute_result"
    }
   ],
   "source": [
    "# Remove rows with cryptocurrencies having no coins mined\n",
    "crypto_df = crypto_df.loc[crypto_df['TotalCoinsMined'] != 0]\n",
    "crypto_df.head(10)"
   ]
  },
  {
   "cell_type": "code",
   "execution_count": 23,
   "metadata": {},
   "outputs": [
    {
     "data": {
      "text/html": [
       "<div>\n",
       "<style scoped>\n",
       "    .dataframe tbody tr th:only-of-type {\n",
       "        vertical-align: middle;\n",
       "    }\n",
       "\n",
       "    .dataframe tbody tr th {\n",
       "        vertical-align: top;\n",
       "    }\n",
       "\n",
       "    .dataframe thead th {\n",
       "        text-align: right;\n",
       "    }\n",
       "</style>\n",
       "<table border=\"1\" class=\"dataframe\">\n",
       "  <thead>\n",
       "    <tr style=\"text-align: right;\">\n",
       "      <th></th>\n",
       "      <th>CoinName</th>\n",
       "      <th>Algorithm</th>\n",
       "      <th>ProofType</th>\n",
       "      <th>TotalCoinsMined</th>\n",
       "      <th>TotalCoinSupply</th>\n",
       "    </tr>\n",
       "  </thead>\n",
       "  <tbody>\n",
       "    <tr>\n",
       "      <th>0</th>\n",
       "      <td>42 Coin</td>\n",
       "      <td>Scrypt</td>\n",
       "      <td>PoW/PoS</td>\n",
       "      <td>4.199995e+01</td>\n",
       "      <td>42</td>\n",
       "    </tr>\n",
       "    <tr>\n",
       "      <th>2</th>\n",
       "      <td>404Coin</td>\n",
       "      <td>Scrypt</td>\n",
       "      <td>PoW/PoS</td>\n",
       "      <td>1.055185e+09</td>\n",
       "      <td>532000000</td>\n",
       "    </tr>\n",
       "    <tr>\n",
       "      <th>5</th>\n",
       "      <td>EliteCoin</td>\n",
       "      <td>X13</td>\n",
       "      <td>PoW/PoS</td>\n",
       "      <td>2.927942e+10</td>\n",
       "      <td>314159265359</td>\n",
       "    </tr>\n",
       "    <tr>\n",
       "      <th>7</th>\n",
       "      <td>Bitcoin</td>\n",
       "      <td>SHA-256</td>\n",
       "      <td>PoW</td>\n",
       "      <td>1.792718e+07</td>\n",
       "      <td>21000000</td>\n",
       "    </tr>\n",
       "    <tr>\n",
       "      <th>8</th>\n",
       "      <td>Ethereum</td>\n",
       "      <td>Ethash</td>\n",
       "      <td>PoW</td>\n",
       "      <td>1.076842e+08</td>\n",
       "      <td>0</td>\n",
       "    </tr>\n",
       "    <tr>\n",
       "      <th>9</th>\n",
       "      <td>Litecoin</td>\n",
       "      <td>Scrypt</td>\n",
       "      <td>PoW</td>\n",
       "      <td>6.303924e+07</td>\n",
       "      <td>84000000</td>\n",
       "    </tr>\n",
       "    <tr>\n",
       "      <th>10</th>\n",
       "      <td>Dash</td>\n",
       "      <td>X11</td>\n",
       "      <td>PoW/PoS</td>\n",
       "      <td>9.031294e+06</td>\n",
       "      <td>22000000</td>\n",
       "    </tr>\n",
       "    <tr>\n",
       "      <th>11</th>\n",
       "      <td>Monero</td>\n",
       "      <td>CryptoNight-V7</td>\n",
       "      <td>PoW</td>\n",
       "      <td>1.720114e+07</td>\n",
       "      <td>0</td>\n",
       "    </tr>\n",
       "    <tr>\n",
       "      <th>12</th>\n",
       "      <td>Ethereum Classic</td>\n",
       "      <td>Ethash</td>\n",
       "      <td>PoW</td>\n",
       "      <td>1.133597e+08</td>\n",
       "      <td>210000000</td>\n",
       "    </tr>\n",
       "    <tr>\n",
       "      <th>13</th>\n",
       "      <td>ZCash</td>\n",
       "      <td>Equihash</td>\n",
       "      <td>PoW</td>\n",
       "      <td>7.383056e+06</td>\n",
       "      <td>21000000</td>\n",
       "    </tr>\n",
       "  </tbody>\n",
       "</table>\n",
       "</div>"
      ],
      "text/plain": [
       "            CoinName       Algorithm ProofType  TotalCoinsMined  \\\n",
       "0            42 Coin          Scrypt   PoW/PoS     4.199995e+01   \n",
       "2            404Coin          Scrypt   PoW/PoS     1.055185e+09   \n",
       "5          EliteCoin             X13   PoW/PoS     2.927942e+10   \n",
       "7            Bitcoin         SHA-256       PoW     1.792718e+07   \n",
       "8           Ethereum          Ethash       PoW     1.076842e+08   \n",
       "9           Litecoin          Scrypt       PoW     6.303924e+07   \n",
       "10              Dash             X11   PoW/PoS     9.031294e+06   \n",
       "11            Monero  CryptoNight-V7       PoW     1.720114e+07   \n",
       "12  Ethereum Classic          Ethash       PoW     1.133597e+08   \n",
       "13             ZCash        Equihash       PoW     7.383056e+06   \n",
       "\n",
       "   TotalCoinSupply  \n",
       "0               42  \n",
       "2        532000000  \n",
       "5     314159265359  \n",
       "7         21000000  \n",
       "8                0  \n",
       "9         84000000  \n",
       "10        22000000  \n",
       "11               0  \n",
       "12       210000000  \n",
       "13        21000000  "
      ]
     },
     "execution_count": 23,
     "metadata": {},
     "output_type": "execute_result"
    }
   ],
   "source": [
    "# Drop rows where there are 'N/A' text values\n",
    "for column in crypto_df:\n",
    "    crypto_df = crypto_df.loc[crypto_df[column] != 'N/A']\n",
    "\n",
    "crypto_df.head(10)"
   ]
  },
  {
   "cell_type": "code",
   "execution_count": 24,
   "metadata": {},
   "outputs": [
    {
     "data": {
      "text/html": [
       "<div>\n",
       "<style scoped>\n",
       "    .dataframe tbody tr th:only-of-type {\n",
       "        vertical-align: middle;\n",
       "    }\n",
       "\n",
       "    .dataframe tbody tr th {\n",
       "        vertical-align: top;\n",
       "    }\n",
       "\n",
       "    .dataframe thead th {\n",
       "        text-align: right;\n",
       "    }\n",
       "</style>\n",
       "<table border=\"1\" class=\"dataframe\">\n",
       "  <thead>\n",
       "    <tr style=\"text-align: right;\">\n",
       "      <th></th>\n",
       "      <th>CoinName</th>\n",
       "    </tr>\n",
       "  </thead>\n",
       "  <tbody>\n",
       "    <tr>\n",
       "      <th>0</th>\n",
       "      <td>42 Coin</td>\n",
       "    </tr>\n",
       "    <tr>\n",
       "      <th>2</th>\n",
       "      <td>404Coin</td>\n",
       "    </tr>\n",
       "    <tr>\n",
       "      <th>5</th>\n",
       "      <td>EliteCoin</td>\n",
       "    </tr>\n",
       "    <tr>\n",
       "      <th>7</th>\n",
       "      <td>Bitcoin</td>\n",
       "    </tr>\n",
       "    <tr>\n",
       "      <th>8</th>\n",
       "      <td>Ethereum</td>\n",
       "    </tr>\n",
       "  </tbody>\n",
       "</table>\n",
       "</div>"
      ],
      "text/plain": [
       "    CoinName\n",
       "0    42 Coin\n",
       "2    404Coin\n",
       "5  EliteCoin\n",
       "7    Bitcoin\n",
       "8   Ethereum"
      ]
     },
     "execution_count": 24,
     "metadata": {},
     "output_type": "execute_result"
    }
   ],
   "source": [
    "# Store the 'CoinName'column in its own DataFrame prior to dropping it from crypto_df\n",
    "coin_name_df = crypto_df[['CoinName']]\n",
    "\n",
    "coin_name_df.head()"
   ]
  },
  {
   "cell_type": "code",
   "execution_count": 25,
   "metadata": {},
   "outputs": [
    {
     "data": {
      "text/html": [
       "<div>\n",
       "<style scoped>\n",
       "    .dataframe tbody tr th:only-of-type {\n",
       "        vertical-align: middle;\n",
       "    }\n",
       "\n",
       "    .dataframe tbody tr th {\n",
       "        vertical-align: top;\n",
       "    }\n",
       "\n",
       "    .dataframe thead th {\n",
       "        text-align: right;\n",
       "    }\n",
       "</style>\n",
       "<table border=\"1\" class=\"dataframe\">\n",
       "  <thead>\n",
       "    <tr style=\"text-align: right;\">\n",
       "      <th></th>\n",
       "      <th>Algorithm</th>\n",
       "      <th>ProofType</th>\n",
       "      <th>TotalCoinsMined</th>\n",
       "      <th>TotalCoinSupply</th>\n",
       "    </tr>\n",
       "  </thead>\n",
       "  <tbody>\n",
       "    <tr>\n",
       "      <th>0</th>\n",
       "      <td>Scrypt</td>\n",
       "      <td>PoW/PoS</td>\n",
       "      <td>4.199995e+01</td>\n",
       "      <td>42</td>\n",
       "    </tr>\n",
       "    <tr>\n",
       "      <th>2</th>\n",
       "      <td>Scrypt</td>\n",
       "      <td>PoW/PoS</td>\n",
       "      <td>1.055185e+09</td>\n",
       "      <td>532000000</td>\n",
       "    </tr>\n",
       "    <tr>\n",
       "      <th>5</th>\n",
       "      <td>X13</td>\n",
       "      <td>PoW/PoS</td>\n",
       "      <td>2.927942e+10</td>\n",
       "      <td>314159265359</td>\n",
       "    </tr>\n",
       "    <tr>\n",
       "      <th>7</th>\n",
       "      <td>SHA-256</td>\n",
       "      <td>PoW</td>\n",
       "      <td>1.792718e+07</td>\n",
       "      <td>21000000</td>\n",
       "    </tr>\n",
       "    <tr>\n",
       "      <th>8</th>\n",
       "      <td>Ethash</td>\n",
       "      <td>PoW</td>\n",
       "      <td>1.076842e+08</td>\n",
       "      <td>0</td>\n",
       "    </tr>\n",
       "  </tbody>\n",
       "</table>\n",
       "</div>"
      ],
      "text/plain": [
       "  Algorithm ProofType  TotalCoinsMined TotalCoinSupply\n",
       "0    Scrypt   PoW/PoS     4.199995e+01              42\n",
       "2    Scrypt   PoW/PoS     1.055185e+09       532000000\n",
       "5       X13   PoW/PoS     2.927942e+10    314159265359\n",
       "7   SHA-256       PoW     1.792718e+07        21000000\n",
       "8    Ethash       PoW     1.076842e+08               0"
      ]
     },
     "execution_count": 25,
     "metadata": {},
     "output_type": "execute_result"
    }
   ],
   "source": [
    "# Drop the 'CoinName' column since it's not going to be used on the clustering algorithm\n",
    "crypto_df = crypto_df.drop(columns=['CoinName'])\n",
    "crypto_df.head()"
   ]
  },
  {
   "cell_type": "code",
   "execution_count": 28,
   "metadata": {},
   "outputs": [
    {
     "data": {
      "text/html": [
       "<div>\n",
       "<style scoped>\n",
       "    .dataframe tbody tr th:only-of-type {\n",
       "        vertical-align: middle;\n",
       "    }\n",
       "\n",
       "    .dataframe tbody tr th {\n",
       "        vertical-align: top;\n",
       "    }\n",
       "\n",
       "    .dataframe thead th {\n",
       "        text-align: right;\n",
       "    }\n",
       "</style>\n",
       "<table border=\"1\" class=\"dataframe\">\n",
       "  <thead>\n",
       "    <tr style=\"text-align: right;\">\n",
       "      <th></th>\n",
       "      <th>Algorithm</th>\n",
       "      <th>ProofType</th>\n",
       "      <th>TotalCoinsMined</th>\n",
       "      <th>TotalCoinSupply</th>\n",
       "    </tr>\n",
       "  </thead>\n",
       "  <tbody>\n",
       "    <tr>\n",
       "      <th>0</th>\n",
       "      <td>53</td>\n",
       "      <td>16</td>\n",
       "      <td>4.199995e+01</td>\n",
       "      <td>42</td>\n",
       "    </tr>\n",
       "    <tr>\n",
       "      <th>2</th>\n",
       "      <td>53</td>\n",
       "      <td>16</td>\n",
       "      <td>1.055185e+09</td>\n",
       "      <td>532000000</td>\n",
       "    </tr>\n",
       "    <tr>\n",
       "      <th>5</th>\n",
       "      <td>67</td>\n",
       "      <td>16</td>\n",
       "      <td>2.927942e+10</td>\n",
       "      <td>314159265359</td>\n",
       "    </tr>\n",
       "    <tr>\n",
       "      <th>7</th>\n",
       "      <td>47</td>\n",
       "      <td>13</td>\n",
       "      <td>1.792718e+07</td>\n",
       "      <td>21000000</td>\n",
       "    </tr>\n",
       "    <tr>\n",
       "      <th>8</th>\n",
       "      <td>20</td>\n",
       "      <td>13</td>\n",
       "      <td>1.076842e+08</td>\n",
       "      <td>0</td>\n",
       "    </tr>\n",
       "  </tbody>\n",
       "</table>\n",
       "</div>"
      ],
      "text/plain": [
       "   Algorithm  ProofType  TotalCoinsMined TotalCoinSupply\n",
       "0         53         16     4.199995e+01              42\n",
       "2         53         16     1.055185e+09       532000000\n",
       "5         67         16     2.927942e+10    314159265359\n",
       "7         47         13     1.792718e+07        21000000\n",
       "8         20         13     1.076842e+08               0"
      ]
     },
     "execution_count": 28,
     "metadata": {},
     "output_type": "execute_result"
    }
   ],
   "source": [
    "# Create dummy variables for text features\n",
    "\n",
    "text_feature_variable = ''\n",
    "\n",
    "# Import Label Encoder from SKLearn and encode categorical data:\n",
    "from sklearn.preprocessing import LabelEncoder\n",
    "le = LabelEncoder()\n",
    "\n",
    "le.fit(crypto_df['Algorithm'])\n",
    "crypto_df['Algorithm'] = le.transform(crypto_df['Algorithm'])\n",
    "\n",
    "le.fit(crypto_df['ProofType'])\n",
    "crypto_df['ProofType'] = le.transform(crypto_df['ProofType'])\n",
    "\n",
    "\n",
    "crypto_df.head()"
   ]
  },
  {
   "cell_type": "code",
   "execution_count": 29,
   "metadata": {},
   "outputs": [
    {
     "data": {
      "text/plain": [
       "array([[ 0.39335561,  0.8871567 , -0.11674788, -0.15286468],\n",
       "       [ 0.39335561,  0.8871567 , -0.09358885, -0.14499604],\n",
       "       [ 1.21439604,  0.8871567 ,  0.52587231,  4.4937636 ],\n",
       "       ...,\n",
       "       [-2.12841143,  0.00878917, -0.09523411, -0.13215444],\n",
       "       [-1.65924547,  0.00878917, -0.11658774, -0.15255408],\n",
       "       [ 0.39335561, -1.45515672, -0.11674507, -0.15284989]])"
      ]
     },
     "execution_count": 29,
     "metadata": {},
     "output_type": "execute_result"
    }
   ],
   "source": [
    "# Standardize data\n",
    "scaler = StandardScaler()\n",
    "\n",
    "crypto_scaled = scaler.fit_transform(crypto_df)\n",
    "crypto_scaled"
   ]
  },
  {
   "cell_type": "markdown",
   "metadata": {},
   "source": [
    "### Reducing Dimensions Using PCA"
   ]
  },
  {
   "cell_type": "code",
   "execution_count": 30,
   "metadata": {},
   "outputs": [],
   "source": [
    "# Use PCA to reduce dimensions to 3 principal components\n",
    "pca = PCA(n_components=3)"
   ]
  },
  {
   "cell_type": "code",
   "execution_count": 31,
   "metadata": {},
   "outputs": [
    {
     "data": {
      "text/html": [
       "<div>\n",
       "<style scoped>\n",
       "    .dataframe tbody tr th:only-of-type {\n",
       "        vertical-align: middle;\n",
       "    }\n",
       "\n",
       "    .dataframe tbody tr th {\n",
       "        vertical-align: top;\n",
       "    }\n",
       "\n",
       "    .dataframe thead th {\n",
       "        text-align: right;\n",
       "    }\n",
       "</style>\n",
       "<table border=\"1\" class=\"dataframe\">\n",
       "  <thead>\n",
       "    <tr style=\"text-align: right;\">\n",
       "      <th></th>\n",
       "      <th>PC_1</th>\n",
       "      <th>PC_2</th>\n",
       "      <th>PC_3</th>\n",
       "    </tr>\n",
       "  </thead>\n",
       "  <tbody>\n",
       "    <tr>\n",
       "      <th>0</th>\n",
       "      <td>-0.412665</td>\n",
       "      <td>0.823150</td>\n",
       "      <td>0.357227</td>\n",
       "    </tr>\n",
       "    <tr>\n",
       "      <th>2</th>\n",
       "      <td>-0.391306</td>\n",
       "      <td>0.827873</td>\n",
       "      <td>0.358336</td>\n",
       "    </tr>\n",
       "    <tr>\n",
       "      <th>5</th>\n",
       "      <td>3.143152</td>\n",
       "      <td>2.186748</td>\n",
       "      <td>0.487273</td>\n",
       "    </tr>\n",
       "    <tr>\n",
       "      <th>7</th>\n",
       "      <td>-0.190301</td>\n",
       "      <td>-0.003829</td>\n",
       "      <td>-0.043688</td>\n",
       "    </tr>\n",
       "    <tr>\n",
       "      <th>8</th>\n",
       "      <td>-0.051013</td>\n",
       "      <td>-1.161387</td>\n",
       "      <td>1.020473</td>\n",
       "    </tr>\n",
       "  </tbody>\n",
       "</table>\n",
       "</div>"
      ],
      "text/plain": [
       "       PC_1      PC_2      PC_3\n",
       "0 -0.412665  0.823150  0.357227\n",
       "2 -0.391306  0.827873  0.358336\n",
       "5  3.143152  2.186748  0.487273\n",
       "7 -0.190301 -0.003829 -0.043688\n",
       "8 -0.051013 -1.161387  1.020473"
      ]
     },
     "execution_count": 31,
     "metadata": {},
     "output_type": "execute_result"
    }
   ],
   "source": [
    "# Create a DataFrame with the principal components data\n",
    "crypto_pca = pca.fit_transform(crypto_scaled)\n",
    "\n",
    "pcs_df = pd.DataFrame(data=crypto_pca, columns=[\"PC_1\", \"PC_2\", \"PC_3\"], index=crypto_df.index)\n",
    "\n",
    "pcs_df.head()"
   ]
  },
  {
   "cell_type": "markdown",
   "metadata": {},
   "source": [
    "### Clustering Crytocurrencies Using K-Means\n",
    "\n",
    "#### Find the Best Value for `k` Using the Elbow Curve"
   ]
  },
  {
   "cell_type": "code",
   "execution_count": 32,
   "metadata": {},
   "outputs": [
    {
     "data": {},
     "metadata": {},
     "output_type": "display_data"
    },
    {
     "data": {
      "application/vnd.holoviews_exec.v0+json": "",
      "text/html": [
       "<div id='1002'>\n",
       "\n",
       "\n",
       "\n",
       "\n",
       "\n",
       "  <div class=\"bk-root\" id=\"96710daa-b008-4b22-ba37-83df2057bc85\" data-root-id=\"1002\"></div>\n",
       "</div>\n",
       "<script type=\"application/javascript\">(function(root) {\n",
       "  function embed_document(root) {\n",
       "    var docs_json = {\"b5b6fedc-fb38-4d3c-b5a9-fa1e8f7fb5b3\":{\"defs\":[],\"roots\":{\"references\":[{\"attributes\":{\"margin\":[5,5,5,5],\"name\":\"HSpacer01630\",\"sizing_mode\":\"stretch_width\"},\"id\":\"1073\",\"type\":\"Spacer\"},{\"attributes\":{},\"id\":\"1026\",\"type\":\"WheelZoomTool\"},{\"attributes\":{\"overlay\":{\"id\":\"1029\"}},\"id\":\"1027\",\"type\":\"BoxZoomTool\"},{\"attributes\":{\"end\":2156.0095261816796,\"reset_end\":2156.0095261816796,\"reset_start\":2.0768632273445746,\"start\":2.0768632273445746,\"tags\":[[[\"inertia\",\"inertia\",null]]]},\"id\":\"1005\",\"type\":\"Range1d\"},{\"attributes\":{},\"id\":\"1028\",\"type\":\"ResetTool\"},{\"attributes\":{},\"id\":\"1012\",\"type\":\"LinearScale\"},{\"attributes\":{},\"id\":\"1038\",\"type\":\"Selection\"},{\"attributes\":{\"end\":10.0,\"reset_end\":10.0,\"reset_start\":1.0,\"start\":1.0,\"tags\":[[[\"k\",\"k\",null]]]},\"id\":\"1004\",\"type\":\"Range1d\"},{\"attributes\":{\"children\":[{\"id\":\"1003\"},{\"id\":\"1007\"},{\"id\":\"1073\"}],\"margin\":[0,0,0,0],\"name\":\"Row01625\",\"tags\":[\"embedded\"]},\"id\":\"1002\",\"type\":\"Row\"},{\"attributes\":{\"data\":{\"inertia\":{\"__ndarray__\":\"ukg7gA/inkDE8WgakUOUQGGTgl5OiYpAmgw82U/LgUBpKTsdn3d6QGMwRDrd+3ZAgcf14S2nckCcry5D2eduQLhn06LACWpAjInesUeyZkA=\",\"dtype\":\"float64\",\"order\":\"little\",\"shape\":[10]},\"k\":[1,2,3,4,5,6,7,8,9,10]},\"selected\":{\"id\":\"1038\"},\"selection_policy\":{\"id\":\"1062\"}},\"id\":\"1037\",\"type\":\"ColumnDataSource\"},{\"attributes\":{\"active_multi\":null,\"tools\":[{\"id\":\"1006\"},{\"id\":\"1024\"},{\"id\":\"1025\"},{\"id\":\"1026\"},{\"id\":\"1027\"},{\"id\":\"1028\"}]},\"id\":\"1030\",\"type\":\"Toolbar\"},{\"attributes\":{\"margin\":[5,5,5,5],\"name\":\"HSpacer01629\",\"sizing_mode\":\"stretch_width\"},\"id\":\"1003\",\"type\":\"Spacer\"},{\"attributes\":{\"callback\":null,\"renderers\":[{\"id\":\"1043\"}],\"tags\":[\"hv_created\"],\"tooltips\":[[\"k\",\"@{k}\"],[\"inertia\",\"@{inertia}\"]]},\"id\":\"1006\",\"type\":\"HoverTool\"},{\"attributes\":{\"below\":[{\"id\":\"1016\"}],\"center\":[{\"id\":\"1019\"},{\"id\":\"1023\"}],\"height\":300,\"left\":[{\"id\":\"1020\"}],\"margin\":[5,5,5,5],\"min_border_bottom\":10,\"min_border_left\":10,\"min_border_right\":10,\"min_border_top\":10,\"renderers\":[{\"id\":\"1043\"}],\"sizing_mode\":\"fixed\",\"title\":{\"id\":\"1008\"},\"toolbar\":{\"id\":\"1030\"},\"width\":700,\"x_range\":{\"id\":\"1004\"},\"x_scale\":{\"id\":\"1012\"},\"y_range\":{\"id\":\"1005\"},\"y_scale\":{\"id\":\"1014\"}},\"id\":\"1007\",\"subtype\":\"Figure\",\"type\":\"Plot\"},{\"attributes\":{\"text\":\"Elbow Curve\",\"text_color\":\"black\",\"text_font_size\":\"12pt\"},\"id\":\"1008\",\"type\":\"Title\"},{\"attributes\":{\"line_alpha\":0.2,\"line_color\":\"#30a2da\",\"line_width\":2,\"x\":{\"field\":\"k\"},\"y\":{\"field\":\"inertia\"}},\"id\":\"1042\",\"type\":\"Line\"},{\"attributes\":{\"bottom_units\":\"screen\",\"fill_alpha\":0.5,\"fill_color\":\"lightgrey\",\"left_units\":\"screen\",\"level\":\"overlay\",\"line_alpha\":1.0,\"line_color\":\"black\",\"line_dash\":[4,4],\"line_width\":2,\"right_units\":\"screen\",\"syncable\":false,\"top_units\":\"screen\"},\"id\":\"1029\",\"type\":\"BoxAnnotation\"},{\"attributes\":{\"axis\":{\"id\":\"1020\"},\"dimension\":1,\"grid_line_color\":null,\"ticker\":null},\"id\":\"1023\",\"type\":\"Grid\"},{\"attributes\":{},\"id\":\"1014\",\"type\":\"LinearScale\"},{\"attributes\":{\"line_alpha\":0.1,\"line_color\":\"#30a2da\",\"line_width\":2,\"x\":{\"field\":\"k\"},\"y\":{\"field\":\"inertia\"}},\"id\":\"1041\",\"type\":\"Line\"},{\"attributes\":{\"data_source\":{\"id\":\"1037\"},\"glyph\":{\"id\":\"1040\"},\"hover_glyph\":null,\"muted_glyph\":{\"id\":\"1042\"},\"nonselection_glyph\":{\"id\":\"1041\"},\"selection_glyph\":{\"id\":\"1045\"},\"view\":{\"id\":\"1044\"}},\"id\":\"1043\",\"type\":\"GlyphRenderer\"},{\"attributes\":{\"axis_label\":\"k\",\"formatter\":{\"id\":\"1048\"},\"major_label_policy\":{\"id\":\"1049\"},\"ticker\":{\"id\":\"1046\"}},\"id\":\"1016\",\"type\":\"LinearAxis\"},{\"attributes\":{\"axis_label\":\"inertia\",\"formatter\":{\"id\":\"1053\"},\"major_label_policy\":{\"id\":\"1054\"},\"ticker\":{\"id\":\"1021\"}},\"id\":\"1020\",\"type\":\"LinearAxis\"},{\"attributes\":{\"source\":{\"id\":\"1037\"}},\"id\":\"1044\",\"type\":\"CDSView\"},{\"attributes\":{},\"id\":\"1053\",\"type\":\"BasicTickFormatter\"},{\"attributes\":{},\"id\":\"1048\",\"type\":\"BasicTickFormatter\"},{\"attributes\":{\"line_color\":\"#30a2da\",\"line_width\":2,\"x\":{\"field\":\"k\"},\"y\":{\"field\":\"inertia\"}},\"id\":\"1045\",\"type\":\"Line\"},{\"attributes\":{\"axis\":{\"id\":\"1016\"},\"grid_line_color\":null,\"ticker\":null},\"id\":\"1019\",\"type\":\"Grid\"},{\"attributes\":{\"ticks\":[1,2,3,4,5,6,7,8,9,10]},\"id\":\"1046\",\"type\":\"FixedTicker\"},{\"attributes\":{},\"id\":\"1021\",\"type\":\"BasicTicker\"},{\"attributes\":{},\"id\":\"1049\",\"type\":\"AllLabels\"},{\"attributes\":{},\"id\":\"1024\",\"type\":\"SaveTool\"},{\"attributes\":{},\"id\":\"1054\",\"type\":\"AllLabels\"},{\"attributes\":{},\"id\":\"1062\",\"type\":\"UnionRenderers\"},{\"attributes\":{\"line_color\":\"#30a2da\",\"line_width\":2,\"x\":{\"field\":\"k\"},\"y\":{\"field\":\"inertia\"}},\"id\":\"1040\",\"type\":\"Line\"},{\"attributes\":{},\"id\":\"1025\",\"type\":\"PanTool\"}],\"root_ids\":[\"1002\"]},\"title\":\"Bokeh Application\",\"version\":\"2.3.2\"}};\n",
       "    var render_items = [{\"docid\":\"b5b6fedc-fb38-4d3c-b5a9-fa1e8f7fb5b3\",\"root_ids\":[\"1002\"],\"roots\":{\"1002\":\"96710daa-b008-4b22-ba37-83df2057bc85\"}}];\n",
       "    root.Bokeh.embed.embed_items_notebook(docs_json, render_items);\n",
       "  }\n",
       "  if (root.Bokeh !== undefined && root.Bokeh.Panel !== undefined) {\n",
       "    embed_document(root);\n",
       "  } else {\n",
       "    var attempts = 0;\n",
       "    var timer = setInterval(function(root) {\n",
       "      if (root.Bokeh !== undefined && root.Bokeh.Panel !== undefined) {\n",
       "        clearInterval(timer);\n",
       "        embed_document(root);\n",
       "      } else if (document.readyState == \"complete\") {\n",
       "        attempts++;\n",
       "        if (attempts > 100) {\n",
       "          clearInterval(timer);\n",
       "          console.log(\"Bokeh: ERROR: Unable to run BokehJS code because BokehJS library is missing\");\n",
       "        }\n",
       "      }\n",
       "    }, 10, root)\n",
       "  }\n",
       "})(window);</script>"
      ],
      "text/plain": [
       ":Curve   [k]   (inertia)"
      ]
     },
     "execution_count": 32,
     "metadata": {
      "application/vnd.holoviews_exec.v0+json": {
       "id": "1002"
      }
     },
     "output_type": "execute_result"
    }
   ],
   "source": [
    "inertia = []\n",
    "k = list(range(1, 11))\n",
    "\n",
    "# Calculate the inertia for the range of k values\n",
    "for i in k:\n",
    "    km = KMeans(n_clusters=i, random_state=0)\n",
    "    km.fit(pcs_df)\n",
    "    inertia.append(km.inertia_)\n",
    "\n",
    "# Create the Elbow Curve using hvPlot\n",
    "elbow_data = {\"k\": k, \"inertia\": inertia}\n",
    "df_elbow = pd.DataFrame(elbow_data)\n",
    "df_elbow.hvplot.line(x=\"k\", y=\"inertia\", xticks=k, title=\"Elbow Curve\")"
   ]
  },
  {
   "cell_type": "markdown",
   "metadata": {},
   "source": [
    "Running K-Means with `k=5`"
   ]
  },
  {
   "cell_type": "code",
   "execution_count": null,
   "metadata": {},
   "outputs": [],
   "source": [
    "# To proof we running the k in a longer range to confirm k=5 is best value"
   ]
  },
  {
   "cell_type": "code",
   "execution_count": 33,
   "metadata": {},
   "outputs": [
    {
     "data": {},
     "metadata": {},
     "output_type": "display_data"
    },
    {
     "data": {
      "application/vnd.holoviews_exec.v0+json": "",
      "text/html": [
       "<div id='1120'>\n",
       "\n",
       "\n",
       "\n",
       "\n",
       "\n",
       "  <div class=\"bk-root\" id=\"a28ef501-2eb6-4427-9b60-ca62abae11bd\" data-root-id=\"1120\"></div>\n",
       "</div>\n",
       "<script type=\"application/javascript\">(function(root) {\n",
       "  function embed_document(root) {\n",
       "    var docs_json = {\"dbae4676-1897-4b33-9bb8-52c00cdb12ac\":{\"defs\":[],\"roots\":{\"references\":[{\"attributes\":{},\"id\":\"1142\",\"type\":\"SaveTool\"},{\"attributes\":{},\"id\":\"1167\",\"type\":\"AllLabels\"},{\"attributes\":{},\"id\":\"1143\",\"type\":\"PanTool\"},{\"attributes\":{\"callback\":null,\"renderers\":[{\"id\":\"1161\"}],\"tags\":[\"hv_created\"],\"tooltips\":[[\"k\",\"@{k}\"],[\"inertia\",\"@{inertia}\"]]},\"id\":\"1124\",\"type\":\"HoverTool\"},{\"attributes\":{},\"id\":\"1144\",\"type\":\"WheelZoomTool\"},{\"attributes\":{\"end\":20.0,\"reset_end\":20.0,\"reset_start\":1.0,\"start\":1.0,\"tags\":[[[\"k\",\"k\",null]]]},\"id\":\"1122\",\"type\":\"Range1d\"},{\"attributes\":{\"end\":2168.134830926028,\"reset_end\":2168.134830926028,\"reset_start\":-131.30148896048462,\"start\":-131.30148896048462,\"tags\":[[[\"inertia\",\"inertia\",null]]]},\"id\":\"1123\",\"type\":\"Range1d\"},{\"attributes\":{},\"id\":\"1172\",\"type\":\"AllLabels\"},{\"attributes\":{\"overlay\":{\"id\":\"1147\"}},\"id\":\"1145\",\"type\":\"BoxZoomTool\"},{\"attributes\":{\"children\":[{\"id\":\"1121\"},{\"id\":\"1125\"},{\"id\":\"1191\"}],\"margin\":[0,0,0,0],\"name\":\"Row01803\",\"tags\":[\"embedded\"]},\"id\":\"1120\",\"type\":\"Row\"},{\"attributes\":{},\"id\":\"1146\",\"type\":\"ResetTool\"},{\"attributes\":{\"ticks\":[1,2,3,4,5,6,7,8,9,10,11,12,13,14,15,16,17,18,19,20]},\"id\":\"1164\",\"type\":\"FixedTicker\"},{\"attributes\":{\"active_multi\":null,\"tools\":[{\"id\":\"1124\"},{\"id\":\"1142\"},{\"id\":\"1143\"},{\"id\":\"1144\"},{\"id\":\"1145\"},{\"id\":\"1146\"}]},\"id\":\"1148\",\"type\":\"Toolbar\"},{\"attributes\":{\"data\":{\"inertia\":{\"__ndarray__\":\"ukg7gA/inkDE8WgakUOUQGGTgl5OiYpAmgw82U/LgUBpKTsdn3d6QGMwRDrd+3ZAgcf14S2nckCcry5D2eduQLhn06LACWpAjInesUeyZkACVpoWORZkQOFa5A5PxmFAig6yNKnXX0CztcbBrPNdQEiBfuTTNVlASPPmT3l0VkB51C7cpRJUQENrC6K2UVJAHoX5nq1OUED2GqvruihOQA==\",\"dtype\":\"float64\",\"order\":\"little\",\"shape\":[20]},\"k\":[1,2,3,4,5,6,7,8,9,10,11,12,13,14,15,16,17,18,19,20]},\"selected\":{\"id\":\"1156\"},\"selection_policy\":{\"id\":\"1180\"}},\"id\":\"1155\",\"type\":\"ColumnDataSource\"},{\"attributes\":{\"margin\":[5,5,5,5],\"name\":\"HSpacer01807\",\"sizing_mode\":\"stretch_width\"},\"id\":\"1121\",\"type\":\"Spacer\"},{\"attributes\":{\"below\":[{\"id\":\"1134\"}],\"center\":[{\"id\":\"1137\"},{\"id\":\"1141\"}],\"height\":300,\"left\":[{\"id\":\"1138\"}],\"margin\":[5,5,5,5],\"min_border_bottom\":10,\"min_border_left\":10,\"min_border_right\":10,\"min_border_top\":10,\"renderers\":[{\"id\":\"1161\"}],\"sizing_mode\":\"fixed\",\"title\":{\"id\":\"1126\"},\"toolbar\":{\"id\":\"1148\"},\"width\":700,\"x_range\":{\"id\":\"1122\"},\"x_scale\":{\"id\":\"1130\"},\"y_range\":{\"id\":\"1123\"},\"y_scale\":{\"id\":\"1132\"}},\"id\":\"1125\",\"subtype\":\"Figure\",\"type\":\"Plot\"},{\"attributes\":{\"margin\":[5,5,5,5],\"name\":\"HSpacer01808\",\"sizing_mode\":\"stretch_width\"},\"id\":\"1191\",\"type\":\"Spacer\"},{\"attributes\":{\"text\":\"Elbow Curve\",\"text_color\":\"black\",\"text_font_size\":\"12pt\"},\"id\":\"1126\",\"type\":\"Title\"},{\"attributes\":{},\"id\":\"1130\",\"type\":\"LinearScale\"},{\"attributes\":{\"bottom_units\":\"screen\",\"fill_alpha\":0.5,\"fill_color\":\"lightgrey\",\"left_units\":\"screen\",\"level\":\"overlay\",\"line_alpha\":1.0,\"line_color\":\"black\",\"line_dash\":[4,4],\"line_width\":2,\"right_units\":\"screen\",\"syncable\":false,\"top_units\":\"screen\"},\"id\":\"1147\",\"type\":\"BoxAnnotation\"},{\"attributes\":{},\"id\":\"1132\",\"type\":\"LinearScale\"},{\"attributes\":{},\"id\":\"1180\",\"type\":\"UnionRenderers\"},{\"attributes\":{\"axis_label\":\"k\",\"formatter\":{\"id\":\"1166\"},\"major_label_policy\":{\"id\":\"1167\"},\"ticker\":{\"id\":\"1164\"}},\"id\":\"1134\",\"type\":\"LinearAxis\"},{\"attributes\":{},\"id\":\"1171\",\"type\":\"BasicTickFormatter\"},{\"attributes\":{\"axis\":{\"id\":\"1134\"},\"grid_line_color\":null,\"ticker\":null},\"id\":\"1137\",\"type\":\"Grid\"},{\"attributes\":{\"line_color\":\"#30a2da\",\"line_width\":2,\"x\":{\"field\":\"k\"},\"y\":{\"field\":\"inertia\"}},\"id\":\"1158\",\"type\":\"Line\"},{\"attributes\":{\"line_alpha\":0.2,\"line_color\":\"#30a2da\",\"line_width\":2,\"x\":{\"field\":\"k\"},\"y\":{\"field\":\"inertia\"}},\"id\":\"1160\",\"type\":\"Line\"},{\"attributes\":{\"axis_label\":\"inertia\",\"formatter\":{\"id\":\"1171\"},\"major_label_policy\":{\"id\":\"1172\"},\"ticker\":{\"id\":\"1139\"}},\"id\":\"1138\",\"type\":\"LinearAxis\"},{\"attributes\":{\"data_source\":{\"id\":\"1155\"},\"glyph\":{\"id\":\"1158\"},\"hover_glyph\":null,\"muted_glyph\":{\"id\":\"1160\"},\"nonselection_glyph\":{\"id\":\"1159\"},\"selection_glyph\":{\"id\":\"1163\"},\"view\":{\"id\":\"1162\"}},\"id\":\"1161\",\"type\":\"GlyphRenderer\"},{\"attributes\":{},\"id\":\"1139\",\"type\":\"BasicTicker\"},{\"attributes\":{\"line_alpha\":0.1,\"line_color\":\"#30a2da\",\"line_width\":2,\"x\":{\"field\":\"k\"},\"y\":{\"field\":\"inertia\"}},\"id\":\"1159\",\"type\":\"Line\"},{\"attributes\":{\"source\":{\"id\":\"1155\"}},\"id\":\"1162\",\"type\":\"CDSView\"},{\"attributes\":{\"axis\":{\"id\":\"1138\"},\"dimension\":1,\"grid_line_color\":null,\"ticker\":null},\"id\":\"1141\",\"type\":\"Grid\"},{\"attributes\":{},\"id\":\"1166\",\"type\":\"BasicTickFormatter\"},{\"attributes\":{\"line_color\":\"#30a2da\",\"line_width\":2,\"x\":{\"field\":\"k\"},\"y\":{\"field\":\"inertia\"}},\"id\":\"1163\",\"type\":\"Line\"},{\"attributes\":{},\"id\":\"1156\",\"type\":\"Selection\"}],\"root_ids\":[\"1120\"]},\"title\":\"Bokeh Application\",\"version\":\"2.3.2\"}};\n",
       "    var render_items = [{\"docid\":\"dbae4676-1897-4b33-9bb8-52c00cdb12ac\",\"root_ids\":[\"1120\"],\"roots\":{\"1120\":\"a28ef501-2eb6-4427-9b60-ca62abae11bd\"}}];\n",
       "    root.Bokeh.embed.embed_items_notebook(docs_json, render_items);\n",
       "  }\n",
       "  if (root.Bokeh !== undefined && root.Bokeh.Panel !== undefined) {\n",
       "    embed_document(root);\n",
       "  } else {\n",
       "    var attempts = 0;\n",
       "    var timer = setInterval(function(root) {\n",
       "      if (root.Bokeh !== undefined && root.Bokeh.Panel !== undefined) {\n",
       "        clearInterval(timer);\n",
       "        embed_document(root);\n",
       "      } else if (document.readyState == \"complete\") {\n",
       "        attempts++;\n",
       "        if (attempts > 100) {\n",
       "          clearInterval(timer);\n",
       "          console.log(\"Bokeh: ERROR: Unable to run BokehJS code because BokehJS library is missing\");\n",
       "        }\n",
       "      }\n",
       "    }, 10, root)\n",
       "  }\n",
       "})(window);</script>"
      ],
      "text/plain": [
       ":Curve   [k]   (inertia)"
      ]
     },
     "execution_count": 33,
     "metadata": {
      "application/vnd.holoviews_exec.v0+json": {
       "id": "1120"
      }
     },
     "output_type": "execute_result"
    }
   ],
   "source": [
    "inertia = []\n",
    "k = list(range(1, 21))\n",
    "\n",
    "# Calculate the inertia for the range of k values\n",
    "for i in k:\n",
    "    km = KMeans(n_clusters=i, random_state=0)\n",
    "    km.fit(pcs_df)\n",
    "    inertia.append(km.inertia_)\n",
    "\n",
    "# Create the Elbow Curve using hvPlot\n",
    "elbow_data = {\"k\": k, \"inertia\": inertia}\n",
    "df_elbow = pd.DataFrame(elbow_data)\n",
    "df_elbow.hvplot.line(x=\"k\", y=\"inertia\", xticks=k, title=\"Elbow Curve\")\n"
   ]
  },
  {
   "cell_type": "code",
   "execution_count": 46,
   "metadata": {},
   "outputs": [
    {
     "data": {
      "text/html": [
       "<div>\n",
       "<style scoped>\n",
       "    .dataframe tbody tr th:only-of-type {\n",
       "        vertical-align: middle;\n",
       "    }\n",
       "\n",
       "    .dataframe tbody tr th {\n",
       "        vertical-align: top;\n",
       "    }\n",
       "\n",
       "    .dataframe thead th {\n",
       "        text-align: right;\n",
       "    }\n",
       "</style>\n",
       "<table border=\"1\" class=\"dataframe\">\n",
       "  <thead>\n",
       "    <tr style=\"text-align: right;\">\n",
       "      <th></th>\n",
       "      <th>Algorithm</th>\n",
       "      <th>ProofType</th>\n",
       "      <th>TotalCoinsMined</th>\n",
       "      <th>TotalCoinSupply</th>\n",
       "      <th>PC_1</th>\n",
       "      <th>PC_2</th>\n",
       "      <th>PC_3</th>\n",
       "      <th>CoinName</th>\n",
       "      <th>Class</th>\n",
       "    </tr>\n",
       "  </thead>\n",
       "  <tbody>\n",
       "    <tr>\n",
       "      <th>0</th>\n",
       "      <td>53</td>\n",
       "      <td>16</td>\n",
       "      <td>4.199995e+01</td>\n",
       "      <td>42</td>\n",
       "      <td>-0.412665</td>\n",
       "      <td>0.823150</td>\n",
       "      <td>0.357227</td>\n",
       "      <td>42 Coin</td>\n",
       "      <td>0</td>\n",
       "    </tr>\n",
       "    <tr>\n",
       "      <th>2</th>\n",
       "      <td>53</td>\n",
       "      <td>16</td>\n",
       "      <td>1.055185e+09</td>\n",
       "      <td>532000000</td>\n",
       "      <td>-0.391306</td>\n",
       "      <td>0.827873</td>\n",
       "      <td>0.358336</td>\n",
       "      <td>404Coin</td>\n",
       "      <td>0</td>\n",
       "    </tr>\n",
       "    <tr>\n",
       "      <th>5</th>\n",
       "      <td>67</td>\n",
       "      <td>16</td>\n",
       "      <td>2.927942e+10</td>\n",
       "      <td>314159265359</td>\n",
       "      <td>3.143152</td>\n",
       "      <td>2.186748</td>\n",
       "      <td>0.487273</td>\n",
       "      <td>EliteCoin</td>\n",
       "      <td>2</td>\n",
       "    </tr>\n",
       "    <tr>\n",
       "      <th>7</th>\n",
       "      <td>47</td>\n",
       "      <td>13</td>\n",
       "      <td>1.792718e+07</td>\n",
       "      <td>21000000</td>\n",
       "      <td>-0.190301</td>\n",
       "      <td>-0.003829</td>\n",
       "      <td>-0.043688</td>\n",
       "      <td>Bitcoin</td>\n",
       "      <td>0</td>\n",
       "    </tr>\n",
       "    <tr>\n",
       "      <th>8</th>\n",
       "      <td>20</td>\n",
       "      <td>13</td>\n",
       "      <td>1.076842e+08</td>\n",
       "      <td>0</td>\n",
       "      <td>-0.051013</td>\n",
       "      <td>-1.161387</td>\n",
       "      <td>1.020473</td>\n",
       "      <td>Ethereum</td>\n",
       "      <td>3</td>\n",
       "    </tr>\n",
       "  </tbody>\n",
       "</table>\n",
       "</div>"
      ],
      "text/plain": [
       "   Algorithm  ProofType  TotalCoinsMined TotalCoinSupply      PC_1      PC_2  \\\n",
       "0         53         16     4.199995e+01              42 -0.412665  0.823150   \n",
       "2         53         16     1.055185e+09       532000000 -0.391306  0.827873   \n",
       "5         67         16     2.927942e+10    314159265359  3.143152  2.186748   \n",
       "7         47         13     1.792718e+07        21000000 -0.190301 -0.003829   \n",
       "8         20         13     1.076842e+08               0 -0.051013 -1.161387   \n",
       "\n",
       "       PC_3   CoinName  Class  \n",
       "0  0.357227    42 Coin      0  \n",
       "2  0.358336    404Coin      0  \n",
       "5  0.487273  EliteCoin      2  \n",
       "7 -0.043688    Bitcoin      0  \n",
       "8  1.020473   Ethereum      3  "
      ]
     },
     "execution_count": 46,
     "metadata": {},
     "output_type": "execute_result"
    }
   ],
   "source": [
    "# Initialize the K-Means model\n",
    "model = KMeans(n_clusters=5, random_state=0)\n",
    "\n",
    "# Fit the model\n",
    "model.fit(pcs_df)\n",
    "\n",
    "# Predict clusters\n",
    "predictions = model.predict(pcs_df)\n",
    "\n",
    "# Create a new DataFrame including predicted clusters and cryptocurrencies features\n",
    "clustered_df = crypto_df.join(pcs_df)\n",
    "clustered_df['CoinName'] = coin_name_df['CoinName']\n",
    "clustered_df['Class'] = predictions\n",
    "clustered_df.head()"
   ]
  },
  {
   "cell_type": "markdown",
   "metadata": {
    "toc-hr-collapsed": true,
    "toc-nb-collapsed": true
   },
   "source": [
    "### Visualizing Results\n",
    "\n",
    "#### 3D-Scatter with Clusters"
   ]
  },
  {
   "cell_type": "code",
   "execution_count": 47,
   "metadata": {},
   "outputs": [
    {
     "data": {
      "application/vnd.plotly.v1+json": {
       "config": {
        "plotlyServerURL": "https://plot.ly"
       },
       "data": [
        {
         "customdata": [
          [
           53
          ],
          [
           53
          ],
          [
           47
          ],
          [
           53
          ],
          [
           65
          ],
          [
           47
          ],
          [
           53
          ],
          [
           69
          ],
          [
           65
          ],
          [
           53
          ],
          [
           53
          ],
          [
           53
          ],
          [
           47
          ],
          [
           53
          ],
          [
           53
          ],
          [
           53
          ],
          [
           46
          ],
          [
           53
          ],
          [
           53
          ],
          [
           53
          ],
          [
           53
          ],
          [
           53
          ],
          [
           65
          ],
          [
           47
          ],
          [
           53
          ],
          [
           53
          ],
          [
           53
          ],
          [
           53
          ],
          [
           53
          ],
          [
           53
          ],
          [
           53
          ],
          [
           53
          ],
          [
           53
          ],
          [
           53
          ],
          [
           53
          ],
          [
           65
          ],
          [
           47
          ],
          [
           53
          ],
          [
           53
          ],
          [
           53
          ],
          [
           51
          ],
          [
           53
          ],
          [
           53
          ],
          [
           47
          ],
          [
           67
          ],
          [
           53
          ],
          [
           47
          ],
          [
           53
          ],
          [
           67
          ],
          [
           53
          ],
          [
           53
          ],
          [
           53
          ],
          [
           53
          ],
          [
           53
          ],
          [
           53
          ],
          [
           65
          ],
          [
           47
          ],
          [
           47
          ],
          [
           65
          ],
          [
           47
          ],
          [
           47
          ],
          [
           47
          ],
          [
           65
          ],
          [
           53
          ],
          [
           53
          ],
          [
           53
          ],
          [
           53
          ],
          [
           53
          ],
          [
           65
          ],
          [
           47
          ],
          [
           67
          ],
          [
           53
          ],
          [
           53
          ],
          [
           47
          ],
          [
           53
          ],
          [
           53
          ],
          [
           67
          ],
          [
           53
          ],
          [
           53
          ],
          [
           53
          ],
          [
           67
          ],
          [
           53
          ],
          [
           59
          ],
          [
           45
          ],
          [
           53
          ],
          [
           53
          ],
          [
           53
          ],
          [
           53
          ],
          [
           47
          ],
          [
           53
          ],
          [
           65
          ],
          [
           51
          ],
          [
           65
          ],
          [
           47
          ],
          [
           44
          ],
          [
           65
          ],
          [
           53
          ],
          [
           53
          ],
          [
           67
          ],
          [
           47
          ],
          [
           69
          ],
          [
           65
          ],
          [
           47
          ],
          [
           53
          ],
          [
           47
          ],
          [
           65
          ],
          [
           53
          ],
          [
           47
          ],
          [
           47
          ],
          [
           53
          ],
          [
           65
          ],
          [
           53
          ],
          [
           66
          ],
          [
           65
          ],
          [
           47
          ],
          [
           53
          ],
          [
           65
          ],
          [
           65
          ],
          [
           47
          ],
          [
           47
          ],
          [
           65
          ],
          [
           53
          ],
          [
           53
          ],
          [
           53
          ],
          [
           53
          ],
          [
           65
          ],
          [
           65
          ],
          [
           53
          ],
          [
           47
          ],
          [
           47
          ],
          [
           65
          ],
          [
           53
          ],
          [
           53
          ],
          [
           53
          ],
          [
           47
          ],
          [
           53
          ],
          [
           53
          ],
          [
           49
          ],
          [
           53
          ],
          [
           65
          ],
          [
           68
          ],
          [
           49
          ],
          [
           65
          ],
          [
           53
          ],
          [
           65
          ],
          [
           67
          ],
          [
           65
          ],
          [
           53
          ],
          [
           53
          ],
          [
           65
          ],
          [
           65
          ],
          [
           47
          ],
          [
           53
          ],
          [
           65
          ],
          [
           53
          ],
          [
           53
          ],
          [
           65
          ],
          [
           53
          ],
          [
           53
          ],
          [
           53
          ],
          [
           45
          ],
          [
           53
          ],
          [
           53
          ],
          [
           47
          ],
          [
           65
          ],
          [
           53
          ],
          [
           65
          ],
          [
           53
          ],
          [
           53
          ],
          [
           53
          ],
          [
           65
          ],
          [
           53
          ],
          [
           53
          ],
          [
           65
          ],
          [
           65
          ],
          [
           53
          ],
          [
           65
          ],
          [
           65
          ],
          [
           53
          ],
          [
           53
          ],
          [
           53
          ],
          [
           65
          ],
          [
           53
          ],
          [
           47
          ],
          [
           53
          ],
          [
           69
          ],
          [
           53
          ],
          [
           65
          ],
          [
           56
          ],
          [
           53
          ],
          [
           67
          ],
          [
           53
          ],
          [
           65
          ],
          [
           65
          ],
          [
           53
          ],
          [
           67
          ],
          [
           61
          ],
          [
           65
          ],
          [
           56
          ],
          [
           47
          ],
          [
           65
          ],
          [
           64
          ],
          [
           53
          ],
          [
           53
          ],
          [
           53
          ],
          [
           53
          ],
          [
           53
          ],
          [
           53
          ],
          [
           53
          ],
          [
           53
          ],
          [
           65
          ],
          [
           65
          ],
          [
           53
          ],
          [
           53
          ],
          [
           47
          ],
          [
           38
          ],
          [
           53
          ],
          [
           46
          ],
          [
           53
          ],
          [
           53
          ],
          [
           65
          ],
          [
           65
          ],
          [
           67
          ],
          [
           53
          ],
          [
           65
          ],
          [
           53
          ],
          [
           53
          ],
          [
           53
          ],
          [
           65
          ],
          [
           65
          ],
          [
           53
          ],
          [
           53
          ],
          [
           53
          ],
          [
           65
          ],
          [
           47
          ],
          [
           53
          ],
          [
           57
          ],
          [
           53
          ],
          [
           53
          ],
          [
           48
          ],
          [
           53
          ],
          [
           53
          ],
          [
           65
          ],
          [
           65
          ],
          [
           71
          ],
          [
           53
          ],
          [
           53
          ],
          [
           53
          ],
          [
           53
          ],
          [
           65
          ],
          [
           46
          ],
          [
           53
          ],
          [
           62
          ],
          [
           53
          ],
          [
           49
          ],
          [
           53
          ],
          [
           70
          ],
          [
           65
          ],
          [
           70
          ],
          [
           46
          ],
          [
           53
          ],
          [
           53
          ],
          [
           71
          ],
          [
           65
          ],
          [
           47
          ],
          [
           65
          ],
          [
           53
          ],
          [
           50
          ],
          [
           70
          ],
          [
           47
          ],
          [
           71
          ],
          [
           46
          ],
          [
           53
          ],
          [
           53
          ],
          [
           46
          ],
          [
           53
          ],
          [
           45
          ],
          [
           53
          ],
          [
           71
          ],
          [
           49
          ],
          [
           65
          ],
          [
           47
          ],
          [
           67
          ],
          [
           47
          ],
          [
           65
          ],
          [
           53
          ],
          [
           53
          ],
          [
           65
          ],
          [
           53
          ],
          [
           53
          ],
          [
           53
          ],
          [
           65
          ],
          [
           53
          ],
          [
           53
          ],
          [
           47
          ],
          [
           65
          ],
          [
           47
          ],
          [
           53
          ],
          [
           53
          ],
          [
           53
          ],
          [
           65
          ],
          [
           53
          ],
          [
           53
          ],
          [
           53
          ],
          [
           65
          ],
          [
           47
          ],
          [
           53
          ],
          [
           67
          ],
          [
           53
          ]
         ],
         "hovertemplate": "<b>%{hovertext}</b><br><br>Class=%{marker.color}<br>PC_3=%{x}<br>PC_2=%{y}<br>PC_1=%{z}<br>Algorithm=%{customdata[0]}<extra></extra>",
         "hovertext": [
          "42 Coin",
          "404Coin",
          "Bitcoin",
          "Litecoin",
          "Dash",
          "BitcoinDark",
          "ProsperCoin",
          "KoboCoin",
          "Spreadcoin",
          "Argentum",
          "Aurora Coin",
          "BlueCoin",
          "ZetaCoin",
          "SexCoin",
          "Quatloo",
          "EnergyCoin",
          "QuarkCoin",
          "Digitalcoin ",
          "BitBar",
          "Catcoin",
          "CryptoBullion",
          "CannaCoin",
          "CryptCoin",
          "DevCoin",
          "EarthCoin",
          "E-Gulden",
          "Einsteinium",
          "Emerald",
          "FlutterCoin",
          "Franko",
          "GrandCoin",
          "GlobalCoin",
          "GoldCoin",
          "HoboNickels",
          "Infinite Coin",
          "IOCoin",
          "IXcoin",
          "KrugerCoin",
          "LuckyCoin",
          "Litebar ",
          "MaxCoin",
          "MegaCoin",
          "MinCoin",
          "MazaCoin",
          "NavCoin",
          "NobleCoin",
          "Namecoin",
          "NyanCoin",
          "OpalCoin",
          "PotCoin",
          "PhoenixCoin",
          "Reddcoin",
          "RonPaulCoin",
          "StableCoin",
          "SmartCoin",
          "SyncCoin",
          "SysCoin",
          "TigerCoin",
          "TorCoin",
          "TerraCoin",
          "UnbreakableCoin",
          "Unobtanium",
          "UroCoin",
          "UnitaryStatus Dollar",
          "UltraCoin",
          "ViaCoin",
          "VeriCoin",
          "WorldCoin",
          "X11 Coin",
          "JouleCoin",
          "StealthCoin",
          "ZCC Coin",
          "MonaCoin",
          "Neutron",
          "Gulden",
          "PesetaCoin",
          "Kore",
          "Wild Beast Coin",
          "Flo",
          "8BIT Coin",
          "Sativa Coin",
          "ArtByte",
          "Folding Coin",
          "CypherPunkCoin",
          "OmniCron",
          "Vtorrent",
          "GreenCoin",
          "MasterCoin",
          "SoonCoin",
          "1Credit",
          "IslaCoin",
          "Nexus",
          "MarsCoin ",
          "Anarchists Prime",
          "Droidz",
          "BowsCoin",
          "Song Coin",
          "BitZeny",
          "Paycon",
          "Emercoin",
          "EverGreenCoin",
          "MindCoin",
          "I0coin",
          "Revolution VR",
          "EDRCoin",
          "Hitcoin",
          "Gamecredits",
          "DubaiCoin",
          "CarpeDiemCoin",
          "BillaryCoin",
          "Adzcoin",
          "YoCoin",
          "SibCoin",
          "EuropeCoin",
          "SwingCoin",
          "Francs",
          "BolivarCoin",
          "Ratecoin",
          "Revenu",
          "Clockcoin",
          "BitSend",
          "Omni",
          "PutinCoin",
          "iBankCoin",
          "Frankywillcoin",
          "PizzaCoin",
          "GoldBlocks",
          "CarterCoin",
          "BitTokens",
          "ZayedCoin",
          "MustangCoin",
          "ZoneCoin",
          "RootCoin",
          "DopeCoin",
          "DollarCoin",
          "Swiscoin",
          "Shilling",
          "BuzzCoin",
          "PesoBit",
          "Halloween Coin",
          "GanjaCoin V2",
          "LanaCoin",
          "InsaneCoin",
          "KiloCoin",
          "ArtexCoin",
          "EmberCoin",
          "XenixCoin",
          "PLNCoin",
          "AquariusCoin",
          "Kurrent",
          "Eternity",
          "Eurocoin",
          "BitcoinFast",
          "Stakenet",
          "BitConnect Coin",
          "MoneyCoin",
          "Enigma",
          "Russiacoin",
          "GameUnits",
          "GAKHcoin",
          "LiteCreed",
          "OsmiumCoin",
          "Klingon Empire Darsek",
          "Internet of People",
          "KushCoin",
          "Printerium",
          "PacCoin",
          "Impeach",
          "FirstCoin",
          "BeaverCoin",
          "VaultCoin",
          "OpenChat",
          "Canada eCoin",
          "VirtacoinPlus",
          "Impact",
          "EB3coin",
          "HappyCoin",
          "Condensate",
          "Independent Money System",
          "ArgusCoin",
          "LomoCoin",
          "GoldReserve",
          "BenjiRolls",
          "ILCoin",
          "Degas Coin",
          "HTML5 Coin",
          "EquiTrader",
          "DigitalPrice",
          "Bitcoin Planet",
          "Unify",
          "BritCoin",
          "SocialCoin",
          "ArcticCoin",
          "DAS",
          "Linda",
          "DeepOnion",
          "Bitcore",
          "Onix",
          "Cream",
          "Bitcoin Cash",
          "Monoeci",
          "Vechain",
          "Sojourn Coin",
          "NewYorkCoin",
          "FrazCoin",
          "Kronecoin",
          "AdCoin",
          "Linx",
          "CoinonatX",
          "Ethereum Dark",
          "Regalcoin",
          "Elements",
          "TerraNovaCoin",
          "WomenCoin",
          "Theresa May Coin",
          "LUXCoin",
          "Xios",
          "Bitcloud 2.0",
          "eBoost",
          "BlackholeCoin",
          "Pura",
          "Magnet",
          "Bitcoin Diamond",
          "Cash & Back Coin",
          "AC3",
          "GermanCoin",
          "LiteCoin Ultra",
          "PopularCoin",
          "PhantomX",
          "Sucre",
          "IrishCoin",
          "Trollcoin",
          "Litecoin Plus",
          "Pioneer Coin",
          "UnitedBitcoin",
          "My Big Coin",
          "MUNcoin",
          "Unified Society USDEX",
          "ShareChain",
          "LitecoinCash",
          "BitFlip",
          "LottoCoin",
          "Crypto Improvement Fund",
          "Pushi",
          "Ellerium",
          "Poseidon",
          "Briacoin",
          "Ignition",
          "Abjcoin",
          "FuturoCoin",
          "Carebit",
          "iDealCash",
          "KEYCO",
          "Swisscoin",
          "TheVig",
          "EmaratCoin",
          "Motion",
          "Axe",
          "Trivechain",
          "Giant",
          "HexCoin",
          "TPCash",
          "Urals Coin",
          "EUNO",
          "Project Pai",
          "Azart",
          "ThunderStake",
          "Kcash",
          "Xchange",
          "Bitcoin SV",
          "BitMoney",
          "HerbCoin",
          "Block-Logic",
          "Oduwa",
          "Galilel",
          "Credit",
          "SLICE",
          "Nasdacoin",
          "Beetle Coin",
          "Titan Coin",
          "Award",
          "BLAST",
          "Bitcoin Rhodium",
          "GlobalToken",
          "Insane Coin",
          "LiteDoge",
          "SolarCoin",
          "TruckCoin",
          "OrangeCoin",
          "BitstarCoin",
          "HyperCoin",
          "PinkCoin",
          "Crypto Escudo",
          "AudioCoin",
          "IncaKoin",
          "Piggy Coin",
          "Crown Coin",
          "Genstake",
          "SmileyCoin",
          "XiaoMiCoin",
          "CapriCoin",
          " ClubCoin",
          "Bata",
          "Pakcoin",
          "Creditbit ",
          "OKCash",
          "WhiteCoin",
          "Triangles Coin",
          "Gapcoin"
         ],
         "legendgroup": "0",
         "marker": {
          "color": [
           0,
           0,
           0,
           0,
           0,
           0,
           0,
           0,
           0,
           0,
           0,
           0,
           0,
           0,
           0,
           0,
           0,
           0,
           0,
           0,
           0,
           0,
           0,
           0,
           0,
           0,
           0,
           0,
           0,
           0,
           0,
           0,
           0,
           0,
           0,
           0,
           0,
           0,
           0,
           0,
           0,
           0,
           0,
           0,
           0,
           0,
           0,
           0,
           0,
           0,
           0,
           0,
           0,
           0,
           0,
           0,
           0,
           0,
           0,
           0,
           0,
           0,
           0,
           0,
           0,
           0,
           0,
           0,
           0,
           0,
           0,
           0,
           0,
           0,
           0,
           0,
           0,
           0,
           0,
           0,
           0,
           0,
           0,
           0,
           0,
           0,
           0,
           0,
           0,
           0,
           0,
           0,
           0,
           0,
           0,
           0,
           0,
           0,
           0,
           0,
           0,
           0,
           0,
           0,
           0,
           0,
           0,
           0,
           0,
           0,
           0,
           0,
           0,
           0,
           0,
           0,
           0,
           0,
           0,
           0,
           0,
           0,
           0,
           0,
           0,
           0,
           0,
           0,
           0,
           0,
           0,
           0,
           0,
           0,
           0,
           0,
           0,
           0,
           0,
           0,
           0,
           0,
           0,
           0,
           0,
           0,
           0,
           0,
           0,
           0,
           0,
           0,
           0,
           0,
           0,
           0,
           0,
           0,
           0,
           0,
           0,
           0,
           0,
           0,
           0,
           0,
           0,
           0,
           0,
           0,
           0,
           0,
           0,
           0,
           0,
           0,
           0,
           0,
           0,
           0,
           0,
           0,
           0,
           0,
           0,
           0,
           0,
           0,
           0,
           0,
           0,
           0,
           0,
           0,
           0,
           0,
           0,
           0,
           0,
           0,
           0,
           0,
           0,
           0,
           0,
           0,
           0,
           0,
           0,
           0,
           0,
           0,
           0,
           0,
           0,
           0,
           0,
           0,
           0,
           0,
           0,
           0,
           0,
           0,
           0,
           0,
           0,
           0,
           0,
           0,
           0,
           0,
           0,
           0,
           0,
           0,
           0,
           0,
           0,
           0,
           0,
           0,
           0,
           0,
           0,
           0,
           0,
           0,
           0,
           0,
           0,
           0,
           0,
           0,
           0,
           0,
           0,
           0,
           0,
           0,
           0,
           0,
           0,
           0,
           0,
           0,
           0,
           0,
           0,
           0,
           0,
           0,
           0,
           0,
           0,
           0,
           0,
           0,
           0,
           0,
           0,
           0,
           0,
           0,
           0,
           0,
           0,
           0,
           0,
           0,
           0,
           0,
           0,
           0,
           0,
           0,
           0,
           0,
           0,
           0,
           0,
           0,
           0,
           0,
           0,
           0,
           0,
           0,
           0
          ],
          "coloraxis": "coloraxis",
          "symbol": "circle"
         },
         "mode": "markers",
         "name": "0",
         "scene": "scene",
         "showlegend": true,
         "type": "scatter3d",
         "x": [
          0.35722699423775595,
          0.3583355649057405,
          -0.04368780606873787,
          -0.2800440795954826,
          -0.11570799958505339,
          0.5937659899207637,
          -0.28017846026634385,
          -0.2726562637810687,
          -0.7531633047083481,
          -0.2800852434135061,
          0.357262629446208,
          0.35719786757006017,
          -0.04337120096347369,
          -0.2796861008387988,
          -0.2800067321292985,
          0.3572213531922689,
          -0.0037921986582029866,
          -0.2801206510233888,
          0.3572280795446638,
          -0.2801785268069629,
          0.3572291212134406,
          -0.2801955045866934,
          -0.7531673720708262,
          0.0010754096210554326,
          -0.2514402301698003,
          -0.28017915435349605,
          -0.2795819396292165,
          -0.28015516789496436,
          -0.7052122729334481,
          -0.2801994823788606,
          -0.2771749968014998,
          -0.2800746460549896,
          -0.2800686615821268,
          0.35748386586624037,
          -0.08734912386835833,
          -0.11570839469141464,
          -0.0436879510165569,
          -0.27965359694707365,
          -0.28018125643489217,
          -0.28022097925871026,
          0.43627205105422684,
          -0.2801342760516592,
          -0.2802023835693508,
          0.5989052555479992,
          -0.1945888620711184,
          -0.24771187803204908,
          -0.04368765980990513,
          -0.2795063342854531,
          -0.1945865275068233,
          0.3581301594467382,
          0.3574367242238273,
          0.3558832263703417,
          -0.28017824647078915,
          -0.2796813004160844,
          -0.2801136932010742,
          -0.11575542680289952,
          -0.041827344995817514,
          -0.04363241183675843,
          -0.11573374759536459,
          -0.04364236701654884,
          -0.04355878167541506,
          -0.043732118476918797,
          -0.7532063428902532,
          0.3606561341699154,
          0.35744216108040594,
          -0.28017490765732456,
          -0.4927089518039712,
          -0.2796521374317838,
          -0.11574378670720423,
          -0.04363658827016558,
          -0.19458734972007613,
          0.3593949067182772,
          -0.2799983863275978,
          0.5938642917612903,
          -0.2765893992121696,
          -0.2798683290218904,
          -0.1945598291209712,
          -0.28021815771488795,
          -0.2798828928804083,
          0.35722692686541135,
          -0.19456441111234388,
          -0.27808549667137133,
          -0.5145733565188688,
          0.03509745913166607,
          -0.2802169976435934,
          0.357269956133791,
          -0.258688231893778,
          -0.2802225456967799,
          -0.043687555584314655,
          -0.08015182267070196,
          -0.11575549830884999,
          1.073674964997913,
          -0.7531359995500132,
          -0.04361641725906389,
          0.7119744226728842,
          -0.7531613460974044,
          -0.2797681490879824,
          -0.27968365645945586,
          -0.19447815418896772,
          0.5958909280588269,
          -0.27335966666896,
          -0.7531722197549771,
          -0.04368794680531949,
          -0.2797768042717404,
          0.5937658807882197,
          -0.05852129565950632,
          -0.28004439114998786,
          0.593740804890039,
          0.002301417491057849,
          0.3573179189020293,
          -0.7530256808411763,
          -0.27985778072769085,
          -0.7925700880827403,
          -0.11492082265055416,
          0.5938049928935779,
          -0.28018067174740413,
          -0.7531525460219913,
          -0.11559849444546409,
          0.5942025100839664,
          0.5948591573725776,
          -0.11545426404390773,
          -0.2802225521472201,
          0.3615391159003578,
          0.3573231981991991,
          0.3574398799606392,
          -0.753151983306778,
          -0.11564740753335752,
          0.35742073818051523,
          0.5937638470102142,
          -0.04371176630514492,
          -0.11574893497994555,
          0.35727254441509704,
          0.3572269052276622,
          -0.2797942812022327,
          -0.04370993530965521,
          0.7889052998403829,
          -0.2801591332752326,
          0.5574843176965671,
          0.3572254575221183,
          -0.11250551703630844,
          -0.23378814887935087,
          0.5311614669442281,
          -0.11569102883749703,
          -0.25848590088389745,
          -0.7521567100090408,
          -0.1969632781966535,
          -0.11574722573763457,
          0.35731002358443287,
          0.35731821910287354,
          -0.7527132696692133,
          -0.1156252253676987,
          0.5937611304570093,
          0.35729783117520064,
          1.3717928072122159,
          0.3572873777221047,
          0.3586414812870947,
          -0.11574459278580335,
          0.3575397663688525,
          0.3572551060036141,
          0.3572340529926941,
          0.6727186665552036,
          -0.28021800271062497,
          0.3583132436982375,
          0.5937637585130502,
          -0.11573534621769456,
          0.35726994618666397,
          -0.5357612866939516,
          0.35727467835687404,
          0.5699447880838349,
          -0.2802167002957687,
          -0.7510329842122186,
          0.359355852271261,
          -0.2800109714874069,
          -0.11553856266304588,
          -0.11552128342585959,
          -0.2715280179119654,
          -0.11553894580354238,
          -0.11467365775270517,
          0.35727287796488627,
          0.357289137821346,
          0.35940166737988133,
          -0.11566922817990476,
          -0.2801475478167993,
          -0.03835631551150748,
          0.35745435820054083,
          -0.07955731234737808,
          -0.2800679131166947,
          -0.7529904286357963,
          0.2391985460968712,
          -0.28018277448469076,
          -0.19452156677184868,
          -0.2800609991468744,
          -0.7530769995111289,
          -0.7531653060202197,
          0.46554719988119264,
          -0.19454573958598215,
          -0.5955006272421058,
          -0.7508197358256387,
          0.23919668839893476,
          -0.04368780920473024,
          -0.11573532964820166,
          1.1721095674196842,
          -0.2573895771380573,
          -0.2867790081570323,
          -0.28018081536868655,
          -0.2800419900463537,
          -0.280007891324258,
          -0.28000794036154797,
          0.35733103193082927,
          0.35723593535246406,
          -0.11569704502176496,
          -0.7494157280513986,
          0.35726115707801953,
          0.4093731112745523,
          0.5939314558722845,
          0.9485851240370119,
          0.35727256423005144,
          0.6335669390802174,
          -0.280010978206949,
          0.35725840412842896,
          -0.7524531754462391,
          -0.11544402362621092,
          -0.19413755941506602,
          0.3576785933742107,
          -0.7520138862032589,
          0.46573666819064335,
          0.3575528126421337,
          -0.26953209489338276,
          -0.11564876481299165,
          -0.7531634224166388,
          -0.2800867687771897,
          0.35915712936678523,
          0.357235578132241,
          -0.7531566581576625,
          -0.04368972238864953,
          0.144808184643575,
          -0.43784879307527275,
          0.35772075876565396,
          -0.2589352832484192,
          0.1311332472572193,
          -0.2801374471362061,
          -0.24085851579577666,
          -0.752128624941263,
          -0.11570116088879898,
          -0.3521161779093639,
          -0.2801783824288876,
          0.35723347947442985,
          0.35723781344151584,
          0.3572917821301233,
          -0.7529902756507459,
          0.6335619414496332,
          0.3683013179381352,
          -0.6349215737125579,
          0.3789413470020633,
          0.5151037478812825,
          0.357408678553865,
          -0.9502346616966886,
          -0.7531608478010619,
          -0.3126536173250256,
          0.6331443381291455,
          -0.28017585718424004,
          0.359401442599247,
          -0.9892414888284982,
          -0.11564810460383985,
          -0.03926205088343828,
          -0.7531521500638895,
          0.3963229386537711,
          2.177470414374993,
          -0.9500652746406469,
          -0.0436878090637783,
          0.6499070102905907,
          0.6332492225581934,
          -0.27996451832132735,
          0.35727198539379174,
          0.6331739678886665,
          0.5184812764624708,
          0.03531462802609195,
          0.35740872681266617,
          -0.3511684113165254,
          0.5257201951637599,
          -0.1148427633735513,
          -0.0435958694342496,
          -0.8320321781768599,
          -0.04337118248588024,
          -0.11569127788225404,
          0.43263917184816353,
          -0.06688871910235974,
          -0.11576654804218287,
          0.3576617712424777,
          0.35734404153383836,
          0.35722655267313624,
          -0.11468808243786814,
          -0.2780849316466318,
          0.3800163488843304,
          0.5933090763405716,
          -0.1136033877904043,
          -0.04364236937872385,
          0.3572568643089479,
          -0.1728451286702935,
          0.35807833953878776,
          -0.11531232226793556,
          0.35757019571001203,
          -0.28021322259599735,
          -0.2798312639761466,
          1.159181405528329,
          0.5939431257766224,
          0.3578678515554965,
          -0.1945855782584128,
          0.3577699837762782
         ],
         "y": [
          0.8231502329380407,
          0.82787258690934,
          -0.0038285427857423786,
          0.25375181908503575,
          1.3378144202429372,
          0.5659076197497603,
          0.2534234505957639,
          1.5100923194938338,
          0.7680266223431018,
          0.2535362064095147,
          0.823247495787238,
          0.8253175090988915,
          -0.0029949643802058977,
          0.25432712060546725,
          0.25359568892321466,
          0.8235699699928414,
          -0.04540942244167045,
          0.25357520611884976,
          0.823151433738019,
          0.25342840180944526,
          0.8231558884876509,
          0.2534032228484088,
          0.7680014136019657,
          0.10444278504558205,
          0.32463366329943444,
          0.25347509685110536,
          0.2547389953101867,
          0.2534935027707512,
          -0.12492591141269972,
          0.2533870557454934,
          0.2593747403522009,
          0.25373123873219633,
          0.2536540746076785,
          0.8237080933909787,
          0.7536711406488631,
          1.3378438196691647,
          -0.003817757379247674,
          0.2544364481557614,
          0.25346758206039266,
          0.25336604985815264,
          0.737806482035372,
          0.2535782472414134,
          0.2534003453435466,
          0.576469571381124,
          1.4237270564499214,
          0.2931036196862462,
          -0.0038394257432959097,
          0.25521265598130055,
          1.4235533441094435,
          0.8247966056615269,
          0.823609427326727,
          0.9231385030039224,
          0.25340754230560464,
          0.2539699264743315,
          0.2535548408485815,
          1.3377371674583283,
          -0.00013752049617880673,
          -0.00368626751987216,
          1.3377631611013978,
          -0.0037671172073290146,
          -0.0037573329701067067,
          -0.0039328186113609465,
          0.7679504790055823,
          0.8302770645174675,
          0.8235327335304107,
          0.2534869615709496,
          0.06353838202964275,
          0.2543278472414552,
          1.3377724827672202,
          -0.003705322308431381,
          1.4236145240858677,
          0.8257665987769397,
          0.25381400015579,
          0.566133792277586,
          0.2583225075540025,
          0.2541798137166722,
          1.4235338868608123,
          0.2533656023250577,
          0.2542166479228938,
          0.8231552391547823,
          1.4235469710850917,
          0.25817419171868966,
          0.5152182606071839,
          -0.08967680943967404,
          0.25340113670425457,
          0.8232320457378467,
          0.290200256857639,
          0.2533628535217287,
          -0.0038471810539104606,
          0.4476276104545865,
          1.3377423242084834,
          1.307558369439716,
          0.768125944163313,
          -0.003770212650035567,
          0.4372499444648791,
          0.7680448126110747,
          0.25391444918848394,
          0.2541452370490564,
          1.4236858225230418,
          0.5681152422404545,
          1.5093678180287287,
          0.7680342677312729,
          -0.0038180707327540894,
          0.2545191290136908,
          0.5659157401813624,
          1.4313061035354033,
          0.2537750015102972,
          0.5658964340897072,
          0.11588193748403862,
          0.8232696127399555,
          0.7682775965276373,
          0.25371709520163255,
          0.8109381648991733,
          1.3385835152244596,
          0.5659561618482827,
          0.25342407611275086,
          0.7680457221035972,
          1.3383544660657578,
          0.5663311537871201,
          0.567022195083331,
          1.3381138553525536,
          0.2533628367889653,
          0.8301467076536263,
          0.8232592854887152,
          0.8237024691227995,
          0.768003851088548,
          1.3378958262860094,
          0.8234875043914123,
          0.5659031430110758,
          -0.003892176945425547,
          1.3377457391919803,
          0.8232033829323961,
          0.8231568491957121,
          0.25418028466731685,
          -0.00388050707934308,
          1.2118255845874784,
          0.253460705646492,
          0.760628474856799,
          0.8232645713599056,
          1.3418073262245007,
          1.4669361299055013,
          0.6711619749115993,
          1.3378630724273497,
          0.27514503077119085,
          0.7718126284540261,
          1.73974381342888,
          1.3377584408059775,
          0.8232899025232643,
          0.8232472751280291,
          0.7686371080963713,
          1.3378845593011248,
          0.5659413503862867,
          0.8232889631904019,
          2.6676683867183626,
          0.8232471513614386,
          0.8245613972232696,
          1.3377504980137154,
          0.823482879053188,
          0.8231895291021787,
          0.8231685437004577,
          0.48036184878123717,
          0.2533682133501776,
          0.8242877764413811,
          0.565909727986917,
          1.337776215110971,
          0.8232327858925386,
          0.9809386123455377,
          0.8231975984170947,
          1.0136879594869626,
          0.25337715292677765,
          0.7701616062113571,
          0.8286725968731059,
          0.25391113485916716,
          1.337993217004231,
          1.3383467714902835,
          0.26202447802098106,
          1.3380217260637353,
          1.3392079362793152,
          0.8232133365050974,
          0.8232145413304714,
          0.8252635454436644,
          1.3378801930346829,
          0.25350359451986015,
          0.005839502880089312,
          0.8234448010285308,
          1.8379888291308633,
          0.2535581049325551,
          0.7682773723988988,
          0.9520313336225698,
          0.2534619854896545,
          1.4236375379469741,
          0.25353542911431903,
          0.7681618817779098,
          0.7679952165701495,
          0.9595806604553412,
          1.4236163086071962,
          0.5965224465433914,
          0.7706868638772912,
          0.9521695628660826,
          -0.003828309440019662,
          1.3378001076534334,
          2.6167519022096206,
          0.2755329647567709,
          0.7411204049274017,
          0.25343476281311755,
          0.25359633805139187,
          0.2536819433347625,
          0.2536855921451268,
          0.8233187667671866,
          0.8231734266356003,
          1.3378189450181657,
          0.7809660377844356,
          0.8231873460972292,
          1.041223892262227,
          0.5663818920217019,
          0.18007159734465628,
          0.823201908523622,
          0.523501595442718,
          0.25391163485284574,
          0.8232372684002357,
          0.7692830424244138,
          1.3381715189093604,
          1.4245710769069087,
          0.8239721857323403,
          0.7693816842621252,
          0.9454825336448098,
          0.8234956903437574,
          0.2774383957295737,
          1.337996819958526,
          0.7680025952191812,
          0.2536497070297829,
          0.8270665141906769,
          0.8231672213289867,
          0.7680238448861356,
          -0.003822667778669575,
          0.6333153730758984,
          0.4249398956120128,
          0.8244411291132377,
          0.3085830742086921,
          0.23282959606749612,
          0.25348634745330134,
          0.3416530727177186,
          0.7697228497033587,
          1.337797345447279,
          1.595158752133247,
          0.25341765879695916,
          0.8231594517931056,
          0.8231648227809925,
          0.823247280917603,
          0.7682659889509389,
          0.5238734635927811,
          0.8387550224484124,
          0.6393403510169758,
          0.8794783472095731,
          0.6519457845947065,
          0.8234012778191023,
          0.9824319119856995,
          0.7680077349327658,
          1.5524486233102,
          0.5230055911703705,
          0.25341094206784304,
          0.8252802711214114,
          1.0257335585653478,
          1.3379476945276267,
          0.007662932976253854,
          0.7680162593003002,
          0.8647744107668547,
          2.2194679984965107,
          0.9826020098431422,
          -0.003828319928096796,
          2.5032754045805667,
          0.5232089924161579,
          0.2537331730110326,
          0.8232449790878402,
          0.5230770184078769,
          1.0862374634106688,
          -0.08944327241522448,
          0.8233976869352244,
          1.5967649589551494,
          0.6652365632492312,
          1.3386766310930402,
          -0.003620527344188471,
          0.8537192752277065,
          -0.003290687031264367,
          1.337881603571562,
          0.9493054886769468,
          0.4606976334349459,
          1.3385645226130594,
          0.823584618536374,
          0.8233349818728595,
          0.8231830823870431,
          1.3402812611071995,
          0.2581321488543599,
          0.8486671501271901,
          0.6274460131205094,
          1.341534503407793,
          -0.0037669414405070746,
          0.8233865522249568,
          0.4598435934830893,
          0.8253739008212543,
          1.3388631804135964,
          0.823841518903143,
          0.25338722361491556,
          0.2539814218087752,
          2.4774112575958758,
          0.5663331890626374,
          0.824643244607532,
          1.423502382988184,
          0.8237290607132095
         ],
         "z": [
          -0.41266542545356155,
          -0.39130558072105875,
          -0.19030134717362865,
          -0.21967866006234618,
          -0.47370285277092566,
          -0.38172438302719025,
          -0.22118388243616516,
          -0.4905940203953464,
          -0.28250967235078783,
          -0.22065061164542413,
          -0.4122210307693855,
          -0.4030499948813664,
          -0.18648881870234674,
          -0.21699880513799172,
          -0.22035906975890843,
          -0.41080320202048626,
          -0.1792377212032364,
          -0.22048974050331027,
          -0.41265971408708235,
          -0.2211619156686528,
          -0.4126395660754216,
          -0.22127966029038124,
          -0.28262305004723476,
          0.30616663017038714,
          0.10509898951177424,
          -0.2209547464390159,
          -0.21513323566498901,
          -0.2208646406307568,
          -0.08704121317342114,
          -0.22135284990493595,
          -0.1937055760167855,
          -0.21978071632179103,
          -0.22012134184536622,
          -0.41009826711794717,
          2.067779081128012,
          -0.47357241801239985,
          -0.19025349617542014,
          -0.2165019184189085,
          -0.22098885463840934,
          -0.22145363541813928,
          -0.40048914129826535,
          -0.22048098211040745,
          -0.2212948375053742,
          -0.33302431008389666,
          -0.48329531100428685,
          -0.03363692402975763,
          -0.19034963097105942,
          -0.21300320605896556,
          -0.48406601064338856,
          -0.4050386000360269,
          -0.4105529038485493,
          0.030946832814495184,
          -0.22125446184031525,
          -0.21858354797893095,
          -0.22057776456597536,
          -0.4740624856565739,
          -0.1732599547025812,
          -0.1896501517723262,
          -0.47393948435186334,
          -0.1900127009395685,
          -0.18994011705182715,
          -0.19077991271797898,
          -0.28286284827194336,
          -0.379817808788305,
          -0.4108916313314013,
          -0.2209005714012041,
          -0.15727234524316924,
          -0.21698374190497458,
          -0.47390158234953433,
          -0.18973623576666118,
          -0.48379457692934963,
          -0.4002897885115574,
          -0.21938656984778643,
          -0.3806856194986766,
          -0.19817480882171626,
          -0.21771654834773355,
          -0.4841431224397652,
          -0.22145463977080673,
          -0.21755803101310342,
          -0.412643214689341,
          -0.4840866079193156,
          -0.19935490717397317,
          -0.2311599291826073,
          -0.18045631771255743,
          -0.22129641571485514,
          -0.4122870961844834,
          -0.05035688736526277,
          -0.2214683772842531,
          -0.19038403851559713,
          0.7110480538271583,
          -0.4740396077648606,
          -0.5918600699058468,
          -0.2820590360672456,
          -0.19001740550564075,
          -0.36643666779190903,
          -0.2824282008699549,
          -0.21886020686112403,
          -0.21780575754504838,
          -0.4834398634275655,
          -0.3711790849943383,
          -0.4940568988338246,
          -0.2824788235160643,
          -0.19025488641306038,
          -0.2161776426097952,
          -0.38168835557118014,
          -0.03854660498626953,
          -0.2195758079176263,
          -0.3817828389991786,
          0.3573988958417138,
          -0.41210353418014,
          -0.28134705312139224,
          -0.21976795633720714,
          -0.28749303824951783,
          -0.470012725308665,
          -0.3814951994613648,
          -0.22118187499639863,
          -0.28242109475314603,
          -0.4712661711952577,
          -0.3796912059240278,
          -0.37639322901299793,
          -0.4722845386604912,
          -0.2214684538478508,
          -0.3800890533379127,
          -0.4121475610771166,
          -0.4101385751038669,
          -0.28260686149889624,
          -0.4733201860576747,
          -0.4110999744321989,
          -0.3817450124743249,
          -0.19059231722390454,
          -0.47402215343485743,
          -0.41241349506380237,
          -0.4126360715125235,
          -0.21768865156459072,
          -0.19053984944974114,
          -0.4986314450173654,
          -0.2210116852740546,
          0.10678149716198505,
          -0.41215814672699164,
          -0.4548530113412774,
          -0.48688493396470145,
          -0.29974176429393,
          -0.47348085835124604,
          -0.11715155076958175,
          -0.26534399206605924,
          0.9194108136180147,
          -0.47396514576147086,
          -0.4120161720901338,
          -0.41220263818969144,
          -0.27964147180281074,
          -0.4733624960893341,
          -0.3815762677464057,
          -0.4120245929417998,
          -0.9182331609573456,
          -0.41221393587898764,
          -0.40590504548351375,
          -0.47399950473013736,
          -0.41107903659376593,
          -0.41248110160898976,
          -0.4125816414537081,
          -0.370477529775651,
          -0.22144298933791365,
          -0.40723467316939155,
          -0.3817157972873647,
          -0.4738820643419337,
          -0.41228381238235223,
          0.7388650416411335,
          -0.41243844232129473,
          -0.4736130219434375,
          -0.2214028318773181,
          -0.27228511044199655,
          -0.3873969124051174,
          -0.21895954875582122,
          -0.4728497104198741,
          -0.4712734378268682,
          -0.17996929402718947,
          -0.4727232259006342,
          -0.4671533323355325,
          -0.4123691717580442,
          -0.41235815429107503,
          -0.40252165656040706,
          -0.47339722277065255,
          -0.22081716433523443,
          -0.14550441344949738,
          -0.41127791767121963,
          1.0329950401937964,
          -0.220547313670151,
          -0.2813357634078856,
          -0.4268981121898298,
          -0.2210142398657791,
          -0.48366943996978456,
          -0.22064561491297646,
          -0.2818788642946293,
          -0.282649853084837,
          0.23101546521870964,
          -0.4837721504522467,
          -0.2619331783377829,
          -0.26987795411671583,
          -0.4262848383844375,
          -0.19030031190196187,
          -0.47377594398600864,
          0.9305134405138312,
          -0.11504654827161083,
          1.9425372724216436,
          -0.22113446192204167,
          -0.2203684739016315,
          -0.21997638972784153,
          -0.21996020125888688,
          -0.4118806553001625,
          -0.41255929875557856,
          -0.4736789391796177,
          -0.22373550011737905,
          -0.4124886882903665,
          0.5740434431214635,
          -0.37956032132065326,
          -0.33518520985657096,
          -0.412420036489168,
          -0.3743584815738686,
          -0.21895733046236815,
          -0.41226792642726706,
          -0.2766820255820582,
          -0.4720248672659565,
          -0.4793894648366124,
          -0.40885748565927266,
          -0.2760908358046198,
          0.16846710961556705,
          -0.41101759093639784,
          -0.11081548815561491,
          -0.4728721131876323,
          -0.2826164256730576,
          -0.22014704991320766,
          -0.3945993034722222,
          -0.41258698303687624,
          -0.2825196916684082,
          -0.19027592217296646,
          -0.34849197465233966,
          -0.24170855268522123,
          -0.40676006066434234,
          0.031201110524381896,
          -0.24145443219414875,
          -0.22089024417346884,
          0.18437539534629088,
          -0.2746155943282121,
          -0.4737763042761482,
          -0.5041465403147282,
          -0.22120957857977946,
          -0.4126222214496378,
          -0.41259685678224645,
          -0.4122118255729481,
          -0.2813862677025725,
          -0.37270863534959886,
          -0.3395001376384228,
          -0.26733735727011093,
          -0.1549265825956763,
          -0.39068313992844345,
          -0.4114871374852706,
          -0.3081165103765325,
          -0.28259270129181735,
          -0.49824919230929016,
          -0.3767086719046291,
          -0.2212385297369121,
          -0.4024474506993377,
          -0.31122791504345143,
          -0.47309006518667096,
          -0.13772160739808714,
          -0.2825518106931035,
          -0.21417420406789395,
          -0.8818646964782908,
          -0.3073020200754585,
          -0.19030035843381585,
          -0.04697999235684659,
          -0.37576874908887503,
          -0.21973374682743108,
          -0.4122289477719954,
          -0.3763811144630257,
          0.811986826931322,
          -0.17934342172878012,
          -0.4115030689550846,
          -0.4966825615151109,
          -0.3279546964778221,
          -0.46957196423370745,
          -0.1893454434221738,
          -0.29307497025237306,
          -0.18780221310469586,
          -0.47339864228002615,
          0.1739118593804383,
          0.7737183901145621,
          -0.4703918069699812,
          -0.41058466050356923,
          -0.41180410496796077,
          -0.4125196842078818,
          -0.4623913732529936,
          -0.1995414363536304,
          -0.29139453766235984,
          -0.10857151797859345,
          -0.45644730667784433,
          -0.19001192112492862,
          -0.41160544483922346,
          0.733000266046351,
          -0.40249270262354936,
          -0.4689070757251701,
          -0.4094755955218448,
          -0.22135689270980094,
          -0.2185847546778556,
          -0.8560022627759768,
          -0.37977256018401234,
          -0.4058111389777357,
          -0.48429201481451345,
          -0.40990543434134813
         ]
        },
        {
         "customdata": [
          [
           67
          ],
          [
           53
          ],
          [
           10
          ],
          [
           53
          ],
          [
           10
          ],
          [
           11
          ]
         ],
         "hovertemplate": "<b>%{hovertext}</b><br><br>Class=%{marker.color}<br>PC_3=%{x}<br>PC_2=%{y}<br>PC_1=%{z}<br>Algorithm=%{customdata[0]}<extra></extra>",
         "hovertext": [
          "EliteCoin",
          "MoonCoin",
          "ByteCoin",
          "gCn Coin",
          "TurtleCoin",
          "Qwertycoin"
         ],
         "legendgroup": "2",
         "marker": {
          "color": [
           2,
           2,
           2,
           2,
           2,
           2
          ],
          "coloraxis": "coloraxis",
          "symbol": "diamond"
         },
         "mode": "markers",
         "name": "2",
         "scene": "scene",
         "showlegend": true,
         "type": "scatter3d",
         "x": [
          0.4872730011910807,
          0.5548594573286131,
          1.8073531910791225,
          0.14724124156684107,
          3.5868901435094793,
          1.7718174969344178
         ],
         "y": [
          2.1867476629785227,
          1.0642166587568611,
          -0.5732470668474775,
          1.2318221882230087,
          0.7022773521797389,
          -0.8186151586300707
         ],
         "z": [
          3.1431523167574063,
          3.6708182296812657,
          4.653678143255549,
          4.273157062352416,
          10.938854473739452,
          3.369699849981999
         ]
        },
        {
         "customdata": [
          [
           20
          ],
          [
           12
          ],
          [
           20
          ],
          [
           18
          ],
          [
           34
          ],
          [
           34
          ],
          [
           23
          ],
          [
           23
          ],
          [
           34
          ],
          [
           36
          ],
          [
           25
          ],
          [
           36
          ],
          [
           31
          ],
          [
           10
          ],
          [
           9
          ],
          [
           23
          ],
          [
           34
          ],
          [
           33
          ],
          [
           30
          ],
          [
           20
          ],
          [
           6
          ],
          [
           3
          ],
          [
           0
          ],
          [
           35
          ],
          [
           15
          ],
          [
           35
          ],
          [
           18
          ],
          [
           10
          ],
          [
           34
          ],
          [
           32
          ],
          [
           20
          ],
          [
           18
          ],
          [
           10
          ],
          [
           10
          ],
          [
           30
          ],
          [
           12
          ],
          [
           18
          ],
          [
           30
          ],
          [
           16
          ],
          [
           5
          ],
          [
           35
          ],
          [
           12
          ],
          [
           1
          ],
          [
           2
          ],
          [
           6
          ],
          [
           8
          ],
          [
           10
          ],
          [
           35
          ],
          [
           35
          ],
          [
           10
          ],
          [
           28
          ],
          [
           10
          ],
          [
           18
          ],
          [
           36
          ],
          [
           36
          ],
          [
           18
          ],
          [
           35
          ],
          [
           15
          ],
          [
           36
          ],
          [
           20
          ],
          [
           36
          ],
          [
           35
          ],
          [
           34
          ],
          [
           10
          ],
          [
           10
          ],
          [
           20
          ],
          [
           12
          ],
          [
           3
          ],
          [
           36
          ],
          [
           36
          ],
          [
           7
          ],
          [
           20
          ],
          [
           10
          ],
          [
           15
          ],
          [
           31
          ],
          [
           7
          ],
          [
           20
          ],
          [
           10
          ],
          [
           26
          ],
          [
           35
          ],
          [
           18
          ],
          [
           32
          ],
          [
           10
          ],
          [
           35
          ],
          [
           30
          ],
          [
           32
          ],
          [
           10
          ],
          [
           11
          ],
          [
           10
          ],
          [
           27
          ],
          [
           10
          ],
          [
           14
          ],
          [
           24
          ],
          [
           31
          ],
          [
           12
          ],
          [
           13
          ],
          [
           28
          ],
          [
           18
          ],
          [
           32
          ],
          [
           10
          ],
          [
           4
          ],
          [
           4
          ],
          [
           18
          ],
          [
           21
          ],
          [
           18
          ],
          [
           18
          ],
          [
           36
          ],
          [
           4
          ],
          [
           23
          ],
          [
           36
          ],
          [
           34
          ],
          [
           19
          ],
          [
           20
          ],
          [
           10
          ],
          [
           18
          ]
         ],
         "hovertemplate": "<b>%{hovertext}</b><br><br>Class=%{marker.color}<br>PC_3=%{x}<br>PC_2=%{y}<br>PC_1=%{z}<br>Algorithm=%{customdata[0]}<extra></extra>",
         "hovertext": [
          "Ethereum",
          "Monero",
          "Ethereum Classic",
          "ZCash",
          "DigiByte",
          "MyriadCoin",
          "Riecoin",
          "Diamond",
          "Verge",
          "FeatherCoin",
          "MediterraneanCoin",
          "Orbitcoin",
          "Vertcoin",
          "DigitalNote ",
          "StorjCoin",
          "FairCoin",
          "Unitus",
          "Cryptonite",
          "Crypto",
          "Expanse",
          "Siacoin",
          "Decred",
          "HOdlcoin",
          "PWR Coin",
          "SoilCoin",
          "VIP Tokens",
          "Komodo",
          "Karbo",
          "Circuits of Value",
          "ZCoin",
          "Elementrem",
          "ZClassic",
          "Cannabis Industry Coin",
          "Bikercoins",
          "HexxCoin",
          "Citadel",
          "Zero",
          "Zoin",
          "DubaiCoin",
          "TajCoin",
          "Coinonat",
          "Quantum Resistant Ledger",
          "Espers",
          "Dynamic",
          "Nano",
          "ChanCoin",
          "Dinastycoin",
          "Denarius",
          "Virta Unique Coin",
          "LeviarCoin",
          "SmartCash",
          "Sumokoin",
          "BitcoinZ",
          "TrezarCoin",
          "VIVO Coin",
          "Bitcoin Gold",
          "NamoCoin",
          "Pirl",
          "Innova",
          "Ellaism",
          "GoByte",
          "Electra",
          "SHIELD",
          "UltraNote",
          "BitCoal",
          "DaxxCoin",
          "Lethean",
          "Photon",
          "SparksPay",
          "GunCoin",
          "Interzone",
          "1717 Masonic Commemorative Token",
          "Niobio Cash",
          "Travelflex",
          "KREDS",
          "Stipend",
          "Callisto Network",
          "BitTube",
          "Aidos Kuneen",
          "Bitspace",
          "Bitrolium",
          "Alpenschillling",
          "Monero Classic",
          "Jumpcoin",
          "Infinex",
          "GINcoin",
          "PlatinCoin",
          "Loki",
          "Newton Coin",
          "MassGrid",
          "PluraCoin",
          "Muse",
          "PlusOneCoin",
          "Absolute Coin",
          "Webchain",
          "Ryo",
          "XDNA",
          "CrypticCoin",
          "Actinium",
          "FREDEnergy",
          "Universal Molecule",
          "Lithium",
          "PirateCash",
          "Exosis",
          "Beam",
          "Bithereum",
          "UFO Coin",
          "BlakeCoin",
          "Groestlcoin",
          "FriendshipCoin",
          "JoinCoin",
          "Vollar",
          "Reality Clash",
          "Beldex",
          "Horizen"
         ],
         "legendgroup": "3",
         "marker": {
          "color": [
           3,
           3,
           3,
           3,
           3,
           3,
           3,
           3,
           3,
           3,
           3,
           3,
           3,
           3,
           3,
           3,
           3,
           3,
           3,
           3,
           3,
           3,
           3,
           3,
           3,
           3,
           3,
           3,
           3,
           3,
           3,
           3,
           3,
           3,
           3,
           3,
           3,
           3,
           3,
           3,
           3,
           3,
           3,
           3,
           3,
           3,
           3,
           3,
           3,
           3,
           3,
           3,
           3,
           3,
           3,
           3,
           3,
           3,
           3,
           3,
           3,
           3,
           3,
           3,
           3,
           3,
           3,
           3,
           3,
           3,
           3,
           3,
           3,
           3,
           3,
           3,
           3,
           3,
           3,
           3,
           3,
           3,
           3,
           3,
           3,
           3,
           3,
           3,
           3,
           3,
           3,
           3,
           3,
           3,
           3,
           3,
           3,
           3,
           3,
           3,
           3,
           3,
           3,
           3,
           3,
           3,
           3,
           3,
           3,
           3,
           3,
           3,
           3,
           3,
           3
          ],
          "coloraxis": "coloraxis",
          "symbol": "square"
         },
         "mode": "markers",
         "name": "3",
         "scene": "scene",
         "showlegend": true,
         "type": "scatter3d",
         "x": [
          1.0204728629380504,
          1.3357986258852788,
          1.020929288976842,
          1.0993535330101827,
          0.5138107526264114,
          0.4729369781092317,
          0.9024125964696588,
          1.5396924255262665,
          0.5039368885584046,
          0.39055570113470206,
          0.8238348752706314,
          1.0272934778114593,
          0.5870909065951794,
          1.4360601953488177,
          0.3927119248092032,
          1.5396806135280323,
          0.4686619873877654,
          0.5120491383513323,
          0.6264682211062795,
          1.020514084164058,
          1.570773465256766,
          2.328032283787501,
          1.8089595552898656,
          1.0662390650733502,
          1.2176187880976383,
          1.066892526208006,
          3.649541264007735,
          1.4146512065937031,
          0.47122876940612457,
          0.5475415674809704,
          1.0205335868449914,
          1.0993536141208593,
          1.4146754419800096,
          1.4146837566903905,
          0.6263474407042441,
          1.3362012303276791,
          1.0993448553753542,
          0.6263705982619825,
          1.1781433601905211,
          2.249236374224761,
          0.4293542395415707,
          1.3360245929727135,
          2.5145071083171984,
          1.729950526708577,
          1.5730245288022437,
          1.4935246191744829,
          1.418896268093277,
          1.0667221845099177,
          1.0669587071538282,
          1.4147466026400979,
          0.7159269409025244,
          1.4148227144227181,
          1.1447379346549957,
          1.0281469335098625,
          0.38989309404409767,
          1.0993530829126161,
          1.0692845690246238,
          1.2178921703375563,
          0.38993213730524434,
          1.0210861291658757,
          0.38990345620391353,
          1.1306397522407383,
          0.47007818993344047,
          1.5985951503308262,
          1.4146567956278433,
          1.0422008838240937,
          1.337952756916751,
          1.8848796340098959,
          0.3898798771167986,
          0.3909081741361893,
          1.5329248957436519,
          -0.041936854176712134,
          1.4153543769035106,
          1.2177663586203007,
          0.589273233251918,
          2.1703678267669706,
          1.0346019738825205,
          1.4168008450555585,
          0.7840398088875028,
          1.0668087315558017,
          1.0994571607519694,
          0.5481465315089278,
          1.4146690984248012,
          0.42929447297232154,
          0.6263826970905604,
          0.5475178899652319,
          1.4159346331497606,
          1.3755399427322887,
          1.8128810505481299,
          0.7449305067998752,
          1.416778841112269,
          0.19458940121051238,
          0.8628622636105563,
          1.2244749968539939,
          1.3396044184496056,
          1.2965757722752707,
          1.3434027668272792,
          1.1156417644017638,
          0.5476774253804487,
          1.4321157809806324,
          1.6513495614502562,
          1.6511751683248779,
          0.03711783049213892,
          0.9811082470524685,
          1.0998780771185936,
          1.0993742176185712,
          0.3983580367926876,
          1.6663428321577207,
          0.9024571764531399,
          1.0274162229107482,
          0.4686709084277297,
          1.0644552790064779,
          1.0205299303289195,
          1.4176299454465644,
          1.0993535369760314
         ],
         "y": [
          -1.1613873364876992,
          -1.504753904684681,
          -1.160924541259158,
          -1.247449583723775,
          -0.4781556103234629,
          -0.5514217650579178,
          -1.0327615158345247,
          -0.4632965692149908,
          -0.472113789446393,
          -0.4742174967462014,
          -0.9467831762194162,
          0.09417102931768061,
          -0.6896980204642833,
          -1.545904297402413,
          -2.581880296540913,
          -0.4631356576380862,
          -0.5611811188147252,
          -0.5979835475276326,
          -0.7327463867766187,
          -1.1616831246701136,
          -1.6492157976960566,
          -1.32088227349399,
          -2.01918738087265,
          0.08561428160374948,
          -1.3760830449244157,
          0.05174451345933084,
          1.0324617131933898,
          -1.5905292652158647,
          -0.5554585188139634,
          -0.6470966905928816,
          -1.1616099046537738,
          -1.2474556190792634,
          -1.5905293817358657,
          -1.5904923567695481,
          -0.7329046655107884,
          -1.504384512561491,
          -1.2474596038844188,
          -0.7328245818383311,
          -1.3332712664995745,
          -1.2350780061577913,
          -0.5183845433490115,
          -1.5043553897636506,
          -1.2233744128152206,
          -1.9335675349436485,
          -1.7609330176273694,
          -1.6762154189044602,
          -1.5801821946102423,
          0.05130518341000288,
          0.051737912760762235,
          -1.5904147324417368,
          -0.8004950947579201,
          -1.5903588484174496,
          -1.1854000139910639,
          0.09561966192887547,
          -0.4755674938474776,
          -1.247416092462947,
          0.055715713416693555,
          -1.3757198616737352,
          -0.475521949559108,
          -1.1611198622571708,
          -0.47555167465404213,
          0.21148065545067288,
          -0.5583664777862933,
          -1.3453248325226486,
          -1.5905353182075006,
          -1.1388619124069217,
          -1.5011970638387795,
          -1.5980795557272653,
          -0.47556760696180594,
          -0.47356037475968893,
          -1.719134582308435,
          -2.1113970194283302,
          -1.589410750556195,
          -1.3755886203265506,
          -0.685531337226117,
          -1.1493537783616001,
          -1.1471846274889963,
          -1.5881924263914817,
          -0.904323097766069,
          0.05142244715385201,
          -1.2471279205935886,
          -0.646440958547277,
          -1.5904835785017888,
          -0.5184047542299137,
          -0.7328593006402394,
          -0.6471216917695382,
          -1.5893098086690165,
          -1.5473127481683318,
          -1.0611957423446736,
          -0.8607607691212864,
          -1.586555137370821,
          -2.368599178932424,
          -0.9901518138421181,
          -0.12010280273809794,
          -1.501064120451373,
          -1.4617274275834493,
          -0.2481170834965468,
          -1.2170259579638025,
          -0.6469438123815321,
          -1.5671472041234245,
          -1.847643170715836,
          -1.8477632033860834,
          -2.196902761041556,
          -1.118826648295804,
          -1.246842457421902,
          -1.2473681069631017,
          -0.454147216469252,
          -1.8330096101730629,
          -1.0326361679061606,
          0.0942829566775891,
          -0.5613859241640905,
          -1.1998614141004809,
          -1.1616193898385285,
          -1.5842770404482844,
          -1.2474498788181905
         ],
         "z": [
          -0.05101253000577025,
          -0.011450356650793204,
          -0.04879804407865732,
          -0.04208461025289084,
          0.26119075127958724,
          -0.07845238122329858,
          -0.06639008716622741,
          -0.2590783076865199,
          0.28458347906613235,
          -0.12794141391974206,
          -0.07558509253438572,
          -0.32559927095264235,
          -0.10729688645593959,
          0.2043968630609139,
          0.32811675178315547,
          -0.2583677632358774,
          -0.1232866613245783,
          -0.08978359658344105,
          -0.10293146921825538,
          -0.05231185659000749,
          0.5198415876968501,
          -0.15647452292577416,
          0.05069047100052423,
          -0.16819576847553977,
          -0.026669550185003922,
          -0.31839474014617564,
          -0.8033537297563524,
          -0.001258068321084158,
          -0.09697622114620269,
          -0.11370768782597918,
          -0.051979866047026965,
          -0.042111386970562034,
          -0.0012501399649918353,
          -0.0010828023842450487,
          -0.10367652786152864,
          -0.009669460851906704,
          -0.04213213715162901,
          -0.10331277988234047,
          -0.03211992329235481,
          -0.16651867720634303,
          -0.12874612043037822,
          -0.009601673858302911,
          0.7052439747662989,
          0.039752970580674535,
          0.02445341985753211,
          0.009337676480137804,
          0.046176024064538926,
          -0.32040531119699805,
          -0.31840099241544173,
          -0.0007161460357327314,
          -0.00898076762047866,
          -0.0004414224247501554,
          0.24931392765362562,
          -0.3188679973427798,
          -0.13416810564722267,
          -0.041936021485034336,
          -0.29992373472904343,
          -0.024961263032900652,
          -0.13395222229482104,
          -0.04961087071132582,
          -0.13409423630561598,
          0.41326107159686315,
          -0.11029238508895138,
          1.151878026079663,
          -0.0012830038945571684,
          0.05660229296689088,
          0.005097434109246996,
          1.4019217543041176,
          -0.13417321402987947,
          -0.12490008630902055,
          0.014284928129996035,
          0.2660345041140266,
          0.0039546703011134115,
          -0.024422221849112104,
          -0.08803076055438791,
          -0.17694362700450136,
          0.016990232091827075,
          0.009869729523427868,
          -0.08270887177059205,
          -0.3198543435971315,
          -0.04061988574462688,
          -0.11058454207285218,
          -0.001048923532290285,
          -0.12885671177452343,
          -0.10346276106114276,
          -0.11382697765949802,
          0.004605201345434015,
          -0.004783956489613076,
          2.4884651882466775,
          -0.08469821407006967,
          0.017133796393139895,
          0.2971507746569756,
          -0.07276405152654856,
          -0.2993701961742143,
          0.0062634713728172324,
          -0.015859162497911923,
          -0.28097427189349117,
          0.09871297712147882,
          -0.11298136026729311,
          0.1086755785688758,
          0.03031014250645639,
          0.02971626346763177,
          0.2774946898745302,
          -0.057539459614248493,
          -0.039205364245589854,
          -0.04171553691934363,
          -0.03608368822549166,
          0.10052761049722614,
          -0.06581784028582226,
          -0.3250593892123862,
          -0.12419315982763139,
          -0.024726358145419118,
          -0.05202326711906928,
          0.02754817238172002,
          -0.042085919481463514
         ]
        },
        {
         "customdata": [
          [
           50
          ],
          [
           47
          ],
          [
           53
          ],
          [
           41
          ],
          [
           65
          ],
          [
           53
          ],
          [
           53
          ],
          [
           65
          ],
          [
           34
          ],
          [
           38
          ],
          [
           34
          ],
          [
           55
          ],
          [
           53
          ],
          [
           53
          ],
          [
           65
          ],
          [
           65
          ],
          [
           53
          ],
          [
           53
          ],
          [
           53
          ],
          [
           53
          ],
          [
           41
          ],
          [
           40
          ],
          [
           67
          ],
          [
           65
          ],
          [
           53
          ],
          [
           41
          ],
          [
           41
          ],
          [
           67
          ],
          [
           41
          ],
          [
           14
          ],
          [
           41
          ],
          [
           41
          ],
          [
           53
          ],
          [
           46
          ],
          [
           53
          ],
          [
           67
          ],
          [
           53
          ],
          [
           41
          ],
          [
           41
          ],
          [
           47
          ],
          [
           53
          ],
          [
           41
          ],
          [
           47
          ],
          [
           40
          ],
          [
           58
          ],
          [
           53
          ],
          [
           41
          ],
          [
           50
          ],
          [
           37
          ],
          [
           31
          ],
          [
           39
          ],
          [
           47
          ],
          [
           14
          ],
          [
           35
          ],
          [
           46
          ],
          [
           46
          ],
          [
           65
          ],
          [
           40
          ],
          [
           67
          ],
          [
           43
          ],
          [
           42
          ],
          [
           53
          ],
          [
           63
          ],
          [
           53
          ],
          [
           22
          ],
          [
           41
          ],
          [
           54
          ],
          [
           41
          ],
          [
           70
          ],
          [
           71
          ],
          [
           53
          ],
          [
           53
          ],
          [
           69
          ],
          [
           53
          ],
          [
           46
          ],
          [
           47
          ],
          [
           46
          ],
          [
           53
          ],
          [
           46
          ],
          [
           65
          ],
          [
           53
          ],
          [
           41
          ],
          [
           65
          ],
          [
           17
          ],
          [
           71
          ],
          [
           65
          ],
          [
           46
          ],
          [
           65
          ],
          [
           14
          ],
          [
           47
          ],
          [
           41
          ],
          [
           14
          ],
          [
           53
          ],
          [
           52
          ],
          [
           14
          ],
          [
           14
          ],
          [
           47
          ],
          [
           29
          ],
          [
           41
          ],
          [
           41
          ],
          [
           47
          ],
          [
           53
          ]
         ],
         "hovertemplate": "<b>%{hovertext}</b><br><br>Class=%{marker.color}<br>PC_3=%{x}<br>PC_2=%{y}<br>PC_1=%{z}<br>Algorithm=%{customdata[0]}<extra></extra>",
         "hovertext": [
          "Bitshares",
          "PayCoin",
          "CasinoCoin",
          "Exclusive Coin",
          "HyperStake",
          "MintCoin",
          "Nautilus Coin",
          "SuperCoin",
          "TeslaCoin",
          "TittieCoin",
          "Crypti",
          "BurstCoin",
          "RubyCoin",
          "Dnotes",
          "Ucoin",
          "Squall Coin",
          "Diggits",
          "GPU Coin",
          "ZeitCoin",
          "SafeExchangeCoin",
          "Nebuchadnezzar",
          "Let it Ride",
          "MudraCoin",
          "Lutetium Coin",
          "BitCurrency",
          "Opair",
          "CoffeeCoin",
          "RoyalCoin",
          "TeamUP",
          "ARK",
          "FreeCoin",
          "Creatio",
          "PandaCoin",
          "Allsafe",
          "Zilbercoin",
          "FindCoin",
          "RenosCoin",
          "Atmos",
          "MacronCoin",
          "ProCurrency",
          "GrowthCoin",
          "Phreak",
          "Ultimate Secure Cash",
          "QTUM",
          "Signatum",
          "Draftcoin",
          "Stakecoin",
          "Obsidian",
          "Cardano",
          "Rupee",
          "KekCoin",
          "Infinity Economics",
          "Lamden Tau",
          "Bulwark",
          "Kalkulus",
          "Digiwage",
          "Monkey Project",
          "TokenPay",
          "Tokyo Coin",
          "BiblePay",
          "Poa Network",
          "Velox",
          "Ontology",
          "MedicCoin",
          "Bitcoin Green",
          "Deviant Coin",
          "Semux",
          "Zealium",
          "Proton",
          "Bitcoin Incognito",
          "HollyWoodCoin",
          "Xt3ch",
          "Dekado",
          "Lynx",
          "Poseidon Quark",
          "BitcoinWSpectrum",
          "Dystem",
          "Peony Coin",
          "Vitae",
          "ARENON",
          "MMOCoin",
          "Ketan",
          "PAXEX",
          "Acute Angle Cloud",
          "Bettex coin",
          "Junson Ming Chan Coin",
          "Crypto Sports",
          "Dash Platinum",
          "ALAX",
          "NeosCoin",
          "Radium",
          "Lisk",
          "HiCoin",
          "Fiii",
          "EOS",
          "Oxycoin",
          "TigerCash",
          "Waves",
          "Particl",
          "Nxt",
          "ZEPHYR",
          "BitcoinPlus"
         ],
         "legendgroup": "4",
         "marker": {
          "color": [
           4,
           4,
           4,
           4,
           4,
           4,
           4,
           4,
           4,
           4,
           4,
           4,
           4,
           4,
           4,
           4,
           4,
           4,
           4,
           4,
           4,
           4,
           4,
           4,
           4,
           4,
           4,
           4,
           4,
           4,
           4,
           4,
           4,
           4,
           4,
           4,
           4,
           4,
           4,
           4,
           4,
           4,
           4,
           4,
           4,
           4,
           4,
           4,
           4,
           4,
           4,
           4,
           4,
           4,
           4,
           4,
           4,
           4,
           4,
           4,
           4,
           4,
           4,
           4,
           4,
           4,
           4,
           4,
           4,
           4,
           4,
           4,
           4,
           4,
           4,
           4,
           4,
           4,
           4,
           4,
           4,
           4,
           4,
           4,
           4,
           4,
           4,
           4,
           4,
           4,
           4,
           4,
           4,
           4,
           4,
           4,
           4,
           4,
           4,
           4,
           4,
           4
          ],
          "coloraxis": "coloraxis",
          "symbol": "x"
         },
         "mode": "markers",
         "name": "4",
         "scene": "scene",
         "showlegend": true,
         "type": "scatter3d",
         "x": [
          -1.2166918777703342,
          -1.1061241167919993,
          -1.4699712566890508,
          -0.8696597994618681,
          -1.8157013253096823,
          -1.3436180337303945,
          -1.3426075172629564,
          -1.8156267095985776,
          -0.5935393350230312,
          -0.7464864964476381,
          -0.5937577094594947,
          -1.629344329587698,
          -1.3426432082708073,
          -1.3415626195455082,
          -1.815581014632043,
          -1.3906571612653233,
          -1.342429076375094,
          -1.3421630952672765,
          -1.1290417318227737,
          -1.5505538937236125,
          -0.8696169619529353,
          -0.8301732537523999,
          -1.8940200790647381,
          -1.8142257254726233,
          -1.3426497362534318,
          -0.8695020051639346,
          -0.869579368376712,
          -1.8944494666954232,
          -0.8690057723473238,
          -1.0800839272065095,
          -0.8695530962092475,
          -0.8696169619529353,
          -1.2734818253948372,
          -1.0667034104004225,
          -1.3425224878659647,
          -1.8944238677566458,
          -1.3425687476554373,
          -0.8694247860592709,
          -0.8688080610204464,
          -0.9430531481789726,
          -1.3383060983139534,
          -0.8695948203363698,
          -1.1057161024197633,
          -0.8300314513804361,
          -1.5394239003386467,
          -1.3426049651515422,
          -0.8695257612607444,
          -1.2241987591810093,
          -0.615325850425889,
          -0.4754564272937833,
          -0.7907840318707398,
          -1.0869910275447112,
          -1.0792766618833325,
          -0.6331086606623018,
          -1.0666928320245324,
          -1.0664758365541438,
          -1.815578918659955,
          -0.8301909069869298,
          -1.8927255886327596,
          -1.5747136107852127,
          -1.333502327507909,
          -1.3423734719436857,
          -1.734649118880756,
          -1.3415668665103855,
          -0.12072548334745324,
          -0.8694691686337382,
          -2.656741468180147,
          -0.869486071091153,
          -2.0126027354074387,
          -1.6271031889542777,
          -1.3425871943312728,
          -1.3425466253009126,
          -1.9730908584643219,
          -2.2085575156753405,
          -1.0653221207390953,
          -1.1059353607623916,
          -1.0666902047524534,
          -1.305933138929941,
          -1.0665211068931368,
          -1.8155056602474264,
          -1.3420814808713986,
          -0.8692032804610943,
          -1.8154071221280896,
          -1.6214347911842288,
          -2.052007173109112,
          -1.816413254218817,
          -1.0667065617240994,
          -1.8155815765496286,
          -1.0782219463322982,
          -1.1061052833646825,
          -0.8696401420084061,
          -1.0800085316461192,
          -1.321334177352373,
          -2.7794673478873664,
          -1.080397584203262,
          -1.0804022522453327,
          -1.1040218925284762,
          -1.2463987083989763,
          -0.8696411880050882,
          -0.6550470614505135,
          -2.3767947516571475,
          -1.3426397933734915
         ],
         "y": [
          -0.8079848135194977,
          -0.9535180571248171,
          -0.6653276103255803,
          -1.2108594576075125,
          -0.17597994862098124,
          -0.6236634998948618,
          -0.6962025492216243,
          -0.1815320209451635,
          -1.5105696284062737,
          -1.32913550380858,
          -1.510713462384484,
          -0.7897152969109519,
          -0.6961991813881746,
          -0.6946404219721991,
          -0.18165356600591093,
          0.1981566838184983,
          -0.6957396646571457,
          -0.6956870673627901,
          -0.3611428774757237,
          -0.8743629810549126,
          -1.2107683824166675,
          -1.2535587144530356,
          -0.09550110908745327,
          -0.17807677918996123,
          -0.695713441439723,
          -1.210470059444893,
          -1.210287128728412,
          -0.095926677748134,
          -1.2101824606933975,
          -3.5076480175293088,
          -1.2106027114916573,
          -1.2107683824166675,
          -0.5123047527845175,
          -0.9964000617637462,
          -0.6961657943436173,
          -0.09586027282396556,
          -0.6960962469578409,
          -1.2102668831487529,
          -1.208665035980067,
          -0.7948718763655406,
          -0.6910620510543924,
          -1.2107766321884483,
          -0.953127588274676,
          -1.2532088373354873,
          -0.4812220659543647,
          -0.696191490697412,
          -1.2107351117333582,
          -0.824660386739271,
          -1.1989545424014754,
          -1.6395687334818005,
          -1.2965569166682738,
          -0.9038840879179691,
          -3.506242608899894,
          -1.4680685855424653,
          -0.9963675453013521,
          -0.9961211039865958,
          -0.18164559662837976,
          -1.2536385477067882,
          -0.09346570482971218,
          -1.6778806101775794,
          -1.5466265927353036,
          -0.695942848664934,
          -0.26313796681428786,
          -0.6943244100250615,
          -2.0255636849298333,
          -1.2106183925348601,
          -1.7927758974776977,
          -1.2106721261129783,
          0.032816290435208284,
          0.45553056324203073,
          -0.6961049797686102,
          -0.6961729662755468,
          -0.009882659547703846,
          -1.1860726995808986,
          -0.9950858001364716,
          -0.9531764717117712,
          -0.996399109366991,
          -0.6606444148001313,
          -0.996031154990395,
          -0.18152311043071942,
          -0.6953753268143243,
          -1.2104035795769912,
          -0.18147844748363276,
          -3.7539724565652692,
          0.07571722242177942,
          -0.12300610792879213,
          -0.9964327784518052,
          -0.18166093284239423,
          -3.5027586552768226,
          -0.9535260407076686,
          -1.2108467918938481,
          -3.507534002349996,
          -0.641048767475753,
          -2.078312757598078,
          -3.504800190264051,
          -3.5044528464298206,
          -0.94806300121992,
          -2.4846345887994414,
          -1.2108289352618267,
          -1.0154261988105073,
          -2.0821222374038832,
          -0.6962893517743108
         ],
         "z": [
          0.1904833054824113,
          0.12815839255207892,
          1.1716192848406382,
          0.1586346634777,
          0.061154429117700276,
          0.4193779168992328,
          0.09756047388879607,
          0.03652186631454157,
          0.19659183051035528,
          0.22176080480821886,
          0.19587691491860207,
          0.19996347184914717,
          0.09756299347474129,
          0.1048625304207119,
          0.035997969387679615,
          -0.09169474016269943,
          0.09967848074147302,
          0.10000477501881228,
          1.6600960218799317,
          0.21514248214578477,
          0.15905408670136256,
          0.16458865613005136,
          0.027624596705129706,
          0.05235595601192056,
          0.09971804821603474,
          0.16041909803819968,
          0.16120459254533967,
          0.025584868812292216,
          0.16186935159060065,
          0.6819593272389096,
          0.15981214212465428,
          0.15905408670136256,
          0.9384004384088733,
          0.13327779805674309,
          0.09775334644088564,
          0.025888715808354307,
          0.09804610788009367,
          0.1613483806106919,
          0.16867763114406456,
          0.8895869472343618,
          0.12189011838966098,
          0.15902516296709532,
          0.13003478229854182,
          0.16619199175419597,
          0.07459711513281238,
          0.09761047779788323,
          0.15923363545967836,
          0.11380554584208587,
          1.027480059904669,
          0.21031939999835764,
          0.1691810181344522,
          0.3552667997110081,
          0.6884825320171432,
          0.18972865663604457,
          0.13342590077092456,
          0.13459604848393925,
          0.036034094426498416,
          0.16422793855950904,
          0.037115612230405715,
          0.41902136350072594,
          0.2865397908467057,
          0.09879545197500915,
          0.065972437247848,
          0.10626456261336087,
          0.2561219837558847,
          0.15977174565429805,
          0.4754302477688198,
          0.15952720690481267,
          0.01069519146066783,
          -0.12202038769861324,
          0.09800089408125684,
          0.0977130818255707,
          0.016659374744505902,
          2.526702211991341,
          0.13959623263257484,
          0.12974126502458222,
          0.1332866300359035,
          0.26826651751807584,
          0.13497976495225658,
          0.03660362565473578,
          0.10141775860789687,
          0.16081846026664987,
          0.03683632821694555,
          0.8164284605515651,
          0.005665518008851997,
          0.2961804485179555,
          0.13313139434979432,
          0.03596505503743776,
          0.7043234683623969,
          0.12812949816936864,
          0.1586977665296946,
          0.6824919806898301,
          0.3499300327636611,
          0.5094863234495232,
          0.6944981506614283,
          0.6960391912515752,
          0.15311868698455622,
          0.47738118284147785,
          0.1587767091399896,
          0.12009009854822256,
          0.5607499929072463,
          0.09716370741822984
         ]
        },
        {
         "customdata": [
          [
           60
          ]
         ],
         "hovertemplate": "<b>%{hovertext}</b><br><br>Class=%{marker.color}<br>PC_3=%{x}<br>PC_2=%{y}<br>PC_1=%{z}<br>Algorithm=%{customdata[0]}<extra></extra>",
         "hovertext": [
          "BitTorrent"
         ],
         "legendgroup": "1",
         "marker": {
          "color": [
           1
          ],
          "coloraxis": "coloraxis",
          "symbol": "cross"
         },
         "mode": "markers",
         "name": "1",
         "scene": "scene",
         "showlegend": true,
         "type": "scatter3d",
         "x": [
          -0.7858800338600204
         ],
         "y": [
          3.9314042365811077
         ],
         "z": [
          25.4593576306372
         ]
        }
       ],
       "layout": {
        "coloraxis": {
         "colorbar": {
          "title": {
           "text": "Class"
          }
         },
         "colorscale": [
          [
           0,
           "#0d0887"
          ],
          [
           0.1111111111111111,
           "#46039f"
          ],
          [
           0.2222222222222222,
           "#7201a8"
          ],
          [
           0.3333333333333333,
           "#9c179e"
          ],
          [
           0.4444444444444444,
           "#bd3786"
          ],
          [
           0.5555555555555556,
           "#d8576b"
          ],
          [
           0.6666666666666666,
           "#ed7953"
          ],
          [
           0.7777777777777778,
           "#fb9f3a"
          ],
          [
           0.8888888888888888,
           "#fdca26"
          ],
          [
           1,
           "#f0f921"
          ]
         ]
        },
        "legend": {
         "title": {
          "text": "Class"
         },
         "tracegroupgap": 0,
         "x": 0,
         "y": 1
        },
        "margin": {
         "t": 60
        },
        "scene": {
         "domain": {
          "x": [
           0,
           1
          ],
          "y": [
           0,
           1
          ]
         },
         "xaxis": {
          "title": {
           "text": "PC_3"
          }
         },
         "yaxis": {
          "title": {
           "text": "PC_2"
          }
         },
         "zaxis": {
          "title": {
           "text": "PC_1"
          }
         }
        },
        "template": {
         "data": {
          "bar": [
           {
            "error_x": {
             "color": "#2a3f5f"
            },
            "error_y": {
             "color": "#2a3f5f"
            },
            "marker": {
             "line": {
              "color": "#E5ECF6",
              "width": 0.5
             }
            },
            "type": "bar"
           }
          ],
          "barpolar": [
           {
            "marker": {
             "line": {
              "color": "#E5ECF6",
              "width": 0.5
             }
            },
            "type": "barpolar"
           }
          ],
          "carpet": [
           {
            "aaxis": {
             "endlinecolor": "#2a3f5f",
             "gridcolor": "white",
             "linecolor": "white",
             "minorgridcolor": "white",
             "startlinecolor": "#2a3f5f"
            },
            "baxis": {
             "endlinecolor": "#2a3f5f",
             "gridcolor": "white",
             "linecolor": "white",
             "minorgridcolor": "white",
             "startlinecolor": "#2a3f5f"
            },
            "type": "carpet"
           }
          ],
          "choropleth": [
           {
            "colorbar": {
             "outlinewidth": 0,
             "ticks": ""
            },
            "type": "choropleth"
           }
          ],
          "contour": [
           {
            "colorbar": {
             "outlinewidth": 0,
             "ticks": ""
            },
            "colorscale": [
             [
              0,
              "#0d0887"
             ],
             [
              0.1111111111111111,
              "#46039f"
             ],
             [
              0.2222222222222222,
              "#7201a8"
             ],
             [
              0.3333333333333333,
              "#9c179e"
             ],
             [
              0.4444444444444444,
              "#bd3786"
             ],
             [
              0.5555555555555556,
              "#d8576b"
             ],
             [
              0.6666666666666666,
              "#ed7953"
             ],
             [
              0.7777777777777778,
              "#fb9f3a"
             ],
             [
              0.8888888888888888,
              "#fdca26"
             ],
             [
              1,
              "#f0f921"
             ]
            ],
            "type": "contour"
           }
          ],
          "contourcarpet": [
           {
            "colorbar": {
             "outlinewidth": 0,
             "ticks": ""
            },
            "type": "contourcarpet"
           }
          ],
          "heatmap": [
           {
            "colorbar": {
             "outlinewidth": 0,
             "ticks": ""
            },
            "colorscale": [
             [
              0,
              "#0d0887"
             ],
             [
              0.1111111111111111,
              "#46039f"
             ],
             [
              0.2222222222222222,
              "#7201a8"
             ],
             [
              0.3333333333333333,
              "#9c179e"
             ],
             [
              0.4444444444444444,
              "#bd3786"
             ],
             [
              0.5555555555555556,
              "#d8576b"
             ],
             [
              0.6666666666666666,
              "#ed7953"
             ],
             [
              0.7777777777777778,
              "#fb9f3a"
             ],
             [
              0.8888888888888888,
              "#fdca26"
             ],
             [
              1,
              "#f0f921"
             ]
            ],
            "type": "heatmap"
           }
          ],
          "heatmapgl": [
           {
            "colorbar": {
             "outlinewidth": 0,
             "ticks": ""
            },
            "colorscale": [
             [
              0,
              "#0d0887"
             ],
             [
              0.1111111111111111,
              "#46039f"
             ],
             [
              0.2222222222222222,
              "#7201a8"
             ],
             [
              0.3333333333333333,
              "#9c179e"
             ],
             [
              0.4444444444444444,
              "#bd3786"
             ],
             [
              0.5555555555555556,
              "#d8576b"
             ],
             [
              0.6666666666666666,
              "#ed7953"
             ],
             [
              0.7777777777777778,
              "#fb9f3a"
             ],
             [
              0.8888888888888888,
              "#fdca26"
             ],
             [
              1,
              "#f0f921"
             ]
            ],
            "type": "heatmapgl"
           }
          ],
          "histogram": [
           {
            "marker": {
             "colorbar": {
              "outlinewidth": 0,
              "ticks": ""
             }
            },
            "type": "histogram"
           }
          ],
          "histogram2d": [
           {
            "colorbar": {
             "outlinewidth": 0,
             "ticks": ""
            },
            "colorscale": [
             [
              0,
              "#0d0887"
             ],
             [
              0.1111111111111111,
              "#46039f"
             ],
             [
              0.2222222222222222,
              "#7201a8"
             ],
             [
              0.3333333333333333,
              "#9c179e"
             ],
             [
              0.4444444444444444,
              "#bd3786"
             ],
             [
              0.5555555555555556,
              "#d8576b"
             ],
             [
              0.6666666666666666,
              "#ed7953"
             ],
             [
              0.7777777777777778,
              "#fb9f3a"
             ],
             [
              0.8888888888888888,
              "#fdca26"
             ],
             [
              1,
              "#f0f921"
             ]
            ],
            "type": "histogram2d"
           }
          ],
          "histogram2dcontour": [
           {
            "colorbar": {
             "outlinewidth": 0,
             "ticks": ""
            },
            "colorscale": [
             [
              0,
              "#0d0887"
             ],
             [
              0.1111111111111111,
              "#46039f"
             ],
             [
              0.2222222222222222,
              "#7201a8"
             ],
             [
              0.3333333333333333,
              "#9c179e"
             ],
             [
              0.4444444444444444,
              "#bd3786"
             ],
             [
              0.5555555555555556,
              "#d8576b"
             ],
             [
              0.6666666666666666,
              "#ed7953"
             ],
             [
              0.7777777777777778,
              "#fb9f3a"
             ],
             [
              0.8888888888888888,
              "#fdca26"
             ],
             [
              1,
              "#f0f921"
             ]
            ],
            "type": "histogram2dcontour"
           }
          ],
          "mesh3d": [
           {
            "colorbar": {
             "outlinewidth": 0,
             "ticks": ""
            },
            "type": "mesh3d"
           }
          ],
          "parcoords": [
           {
            "line": {
             "colorbar": {
              "outlinewidth": 0,
              "ticks": ""
             }
            },
            "type": "parcoords"
           }
          ],
          "pie": [
           {
            "automargin": true,
            "type": "pie"
           }
          ],
          "scatter": [
           {
            "marker": {
             "colorbar": {
              "outlinewidth": 0,
              "ticks": ""
             }
            },
            "type": "scatter"
           }
          ],
          "scatter3d": [
           {
            "line": {
             "colorbar": {
              "outlinewidth": 0,
              "ticks": ""
             }
            },
            "marker": {
             "colorbar": {
              "outlinewidth": 0,
              "ticks": ""
             }
            },
            "type": "scatter3d"
           }
          ],
          "scattercarpet": [
           {
            "marker": {
             "colorbar": {
              "outlinewidth": 0,
              "ticks": ""
             }
            },
            "type": "scattercarpet"
           }
          ],
          "scattergeo": [
           {
            "marker": {
             "colorbar": {
              "outlinewidth": 0,
              "ticks": ""
             }
            },
            "type": "scattergeo"
           }
          ],
          "scattergl": [
           {
            "marker": {
             "colorbar": {
              "outlinewidth": 0,
              "ticks": ""
             }
            },
            "type": "scattergl"
           }
          ],
          "scattermapbox": [
           {
            "marker": {
             "colorbar": {
              "outlinewidth": 0,
              "ticks": ""
             }
            },
            "type": "scattermapbox"
           }
          ],
          "scatterpolar": [
           {
            "marker": {
             "colorbar": {
              "outlinewidth": 0,
              "ticks": ""
             }
            },
            "type": "scatterpolar"
           }
          ],
          "scatterpolargl": [
           {
            "marker": {
             "colorbar": {
              "outlinewidth": 0,
              "ticks": ""
             }
            },
            "type": "scatterpolargl"
           }
          ],
          "scatterternary": [
           {
            "marker": {
             "colorbar": {
              "outlinewidth": 0,
              "ticks": ""
             }
            },
            "type": "scatterternary"
           }
          ],
          "surface": [
           {
            "colorbar": {
             "outlinewidth": 0,
             "ticks": ""
            },
            "colorscale": [
             [
              0,
              "#0d0887"
             ],
             [
              0.1111111111111111,
              "#46039f"
             ],
             [
              0.2222222222222222,
              "#7201a8"
             ],
             [
              0.3333333333333333,
              "#9c179e"
             ],
             [
              0.4444444444444444,
              "#bd3786"
             ],
             [
              0.5555555555555556,
              "#d8576b"
             ],
             [
              0.6666666666666666,
              "#ed7953"
             ],
             [
              0.7777777777777778,
              "#fb9f3a"
             ],
             [
              0.8888888888888888,
              "#fdca26"
             ],
             [
              1,
              "#f0f921"
             ]
            ],
            "type": "surface"
           }
          ],
          "table": [
           {
            "cells": {
             "fill": {
              "color": "#EBF0F8"
             },
             "line": {
              "color": "white"
             }
            },
            "header": {
             "fill": {
              "color": "#C8D4E3"
             },
             "line": {
              "color": "white"
             }
            },
            "type": "table"
           }
          ]
         },
         "layout": {
          "annotationdefaults": {
           "arrowcolor": "#2a3f5f",
           "arrowhead": 0,
           "arrowwidth": 1
          },
          "autotypenumbers": "strict",
          "coloraxis": {
           "colorbar": {
            "outlinewidth": 0,
            "ticks": ""
           }
          },
          "colorscale": {
           "diverging": [
            [
             0,
             "#8e0152"
            ],
            [
             0.1,
             "#c51b7d"
            ],
            [
             0.2,
             "#de77ae"
            ],
            [
             0.3,
             "#f1b6da"
            ],
            [
             0.4,
             "#fde0ef"
            ],
            [
             0.5,
             "#f7f7f7"
            ],
            [
             0.6,
             "#e6f5d0"
            ],
            [
             0.7,
             "#b8e186"
            ],
            [
             0.8,
             "#7fbc41"
            ],
            [
             0.9,
             "#4d9221"
            ],
            [
             1,
             "#276419"
            ]
           ],
           "sequential": [
            [
             0,
             "#0d0887"
            ],
            [
             0.1111111111111111,
             "#46039f"
            ],
            [
             0.2222222222222222,
             "#7201a8"
            ],
            [
             0.3333333333333333,
             "#9c179e"
            ],
            [
             0.4444444444444444,
             "#bd3786"
            ],
            [
             0.5555555555555556,
             "#d8576b"
            ],
            [
             0.6666666666666666,
             "#ed7953"
            ],
            [
             0.7777777777777778,
             "#fb9f3a"
            ],
            [
             0.8888888888888888,
             "#fdca26"
            ],
            [
             1,
             "#f0f921"
            ]
           ],
           "sequentialminus": [
            [
             0,
             "#0d0887"
            ],
            [
             0.1111111111111111,
             "#46039f"
            ],
            [
             0.2222222222222222,
             "#7201a8"
            ],
            [
             0.3333333333333333,
             "#9c179e"
            ],
            [
             0.4444444444444444,
             "#bd3786"
            ],
            [
             0.5555555555555556,
             "#d8576b"
            ],
            [
             0.6666666666666666,
             "#ed7953"
            ],
            [
             0.7777777777777778,
             "#fb9f3a"
            ],
            [
             0.8888888888888888,
             "#fdca26"
            ],
            [
             1,
             "#f0f921"
            ]
           ]
          },
          "colorway": [
           "#636efa",
           "#EF553B",
           "#00cc96",
           "#ab63fa",
           "#FFA15A",
           "#19d3f3",
           "#FF6692",
           "#B6E880",
           "#FF97FF",
           "#FECB52"
          ],
          "font": {
           "color": "#2a3f5f"
          },
          "geo": {
           "bgcolor": "white",
           "lakecolor": "white",
           "landcolor": "#E5ECF6",
           "showlakes": true,
           "showland": true,
           "subunitcolor": "white"
          },
          "hoverlabel": {
           "align": "left"
          },
          "hovermode": "closest",
          "mapbox": {
           "style": "light"
          },
          "paper_bgcolor": "white",
          "plot_bgcolor": "#E5ECF6",
          "polar": {
           "angularaxis": {
            "gridcolor": "white",
            "linecolor": "white",
            "ticks": ""
           },
           "bgcolor": "#E5ECF6",
           "radialaxis": {
            "gridcolor": "white",
            "linecolor": "white",
            "ticks": ""
           }
          },
          "scene": {
           "xaxis": {
            "backgroundcolor": "#E5ECF6",
            "gridcolor": "white",
            "gridwidth": 2,
            "linecolor": "white",
            "showbackground": true,
            "ticks": "",
            "zerolinecolor": "white"
           },
           "yaxis": {
            "backgroundcolor": "#E5ECF6",
            "gridcolor": "white",
            "gridwidth": 2,
            "linecolor": "white",
            "showbackground": true,
            "ticks": "",
            "zerolinecolor": "white"
           },
           "zaxis": {
            "backgroundcolor": "#E5ECF6",
            "gridcolor": "white",
            "gridwidth": 2,
            "linecolor": "white",
            "showbackground": true,
            "ticks": "",
            "zerolinecolor": "white"
           }
          },
          "shapedefaults": {
           "line": {
            "color": "#2a3f5f"
           }
          },
          "ternary": {
           "aaxis": {
            "gridcolor": "white",
            "linecolor": "white",
            "ticks": ""
           },
           "baxis": {
            "gridcolor": "white",
            "linecolor": "white",
            "ticks": ""
           },
           "bgcolor": "#E5ECF6",
           "caxis": {
            "gridcolor": "white",
            "linecolor": "white",
            "ticks": ""
           }
          },
          "title": {
           "x": 0.05
          },
          "xaxis": {
           "automargin": true,
           "gridcolor": "white",
           "linecolor": "white",
           "ticks": "",
           "title": {
            "standoff": 15
           },
           "zerolinecolor": "white",
           "zerolinewidth": 2
          },
          "yaxis": {
           "automargin": true,
           "gridcolor": "white",
           "linecolor": "white",
           "ticks": "",
           "title": {
            "standoff": 15
           },
           "zerolinecolor": "white",
           "zerolinewidth": 2
          }
         }
        },
        "width": 800
       }
      },
      "text/html": [
       "<div>                            <div id=\"4ab2813f-48c3-4cc9-98a6-4941b2b9eeac\" class=\"plotly-graph-div\" style=\"height:525px; width:800px;\"></div>            <script type=\"text/javascript\">                require([\"plotly\"], function(Plotly) {                    window.PLOTLYENV=window.PLOTLYENV || {};                                    if (document.getElementById(\"4ab2813f-48c3-4cc9-98a6-4941b2b9eeac\")) {                    Plotly.newPlot(                        \"4ab2813f-48c3-4cc9-98a6-4941b2b9eeac\",                        [{\"customdata\": [[53], [53], [47], [53], [65], [47], [53], [69], [65], [53], [53], [53], [47], [53], [53], [53], [46], [53], [53], [53], [53], [53], [65], [47], [53], [53], [53], [53], [53], [53], [53], [53], [53], [53], [53], [65], [47], [53], [53], [53], [51], [53], [53], [47], [67], [53], [47], [53], [67], [53], [53], [53], [53], [53], [53], [65], [47], [47], [65], [47], [47], [47], [65], [53], [53], [53], [53], [53], [65], [47], [67], [53], [53], [47], [53], [53], [67], [53], [53], [53], [67], [53], [59], [45], [53], [53], [53], [53], [47], [53], [65], [51], [65], [47], [44], [65], [53], [53], [67], [47], [69], [65], [47], [53], [47], [65], [53], [47], [47], [53], [65], [53], [66], [65], [47], [53], [65], [65], [47], [47], [65], [53], [53], [53], [53], [65], [65], [53], [47], [47], [65], [53], [53], [53], [47], [53], [53], [49], [53], [65], [68], [49], [65], [53], [65], [67], [65], [53], [53], [65], [65], [47], [53], [65], [53], [53], [65], [53], [53], [53], [45], [53], [53], [47], [65], [53], [65], [53], [53], [53], [65], [53], [53], [65], [65], [53], [65], [65], [53], [53], [53], [65], [53], [47], [53], [69], [53], [65], [56], [53], [67], [53], [65], [65], [53], [67], [61], [65], [56], [47], [65], [64], [53], [53], [53], [53], [53], [53], [53], [53], [65], [65], [53], [53], [47], [38], [53], [46], [53], [53], [65], [65], [67], [53], [65], [53], [53], [53], [65], [65], [53], [53], [53], [65], [47], [53], [57], [53], [53], [48], [53], [53], [65], [65], [71], [53], [53], [53], [53], [65], [46], [53], [62], [53], [49], [53], [70], [65], [70], [46], [53], [53], [71], [65], [47], [65], [53], [50], [70], [47], [71], [46], [53], [53], [46], [53], [45], [53], [71], [49], [65], [47], [67], [47], [65], [53], [53], [65], [53], [53], [53], [65], [53], [53], [47], [65], [47], [53], [53], [53], [65], [53], [53], [53], [65], [47], [53], [67], [53]], \"hovertemplate\": \"<b>%{hovertext}</b><br><br>Class=%{marker.color}<br>PC_3=%{x}<br>PC_2=%{y}<br>PC_1=%{z}<br>Algorithm=%{customdata[0]}<extra></extra>\", \"hovertext\": [\"42 Coin\", \"404Coin\", \"Bitcoin\", \"Litecoin\", \"Dash\", \"BitcoinDark\", \"ProsperCoin\", \"KoboCoin\", \"Spreadcoin\", \"Argentum\", \"Aurora Coin\", \"BlueCoin\", \"ZetaCoin\", \"SexCoin\", \"Quatloo\", \"EnergyCoin\", \"QuarkCoin\", \"Digitalcoin \", \"BitBar\", \"Catcoin\", \"CryptoBullion\", \"CannaCoin\", \"CryptCoin\", \"DevCoin\", \"EarthCoin\", \"E-Gulden\", \"Einsteinium\", \"Emerald\", \"FlutterCoin\", \"Franko\", \"GrandCoin\", \"GlobalCoin\", \"GoldCoin\", \"HoboNickels\", \"Infinite Coin\", \"IOCoin\", \"IXcoin\", \"KrugerCoin\", \"LuckyCoin\", \"Litebar \", \"MaxCoin\", \"MegaCoin\", \"MinCoin\", \"MazaCoin\", \"NavCoin\", \"NobleCoin\", \"Namecoin\", \"NyanCoin\", \"OpalCoin\", \"PotCoin\", \"PhoenixCoin\", \"Reddcoin\", \"RonPaulCoin\", \"StableCoin\", \"SmartCoin\", \"SyncCoin\", \"SysCoin\", \"TigerCoin\", \"TorCoin\", \"TerraCoin\", \"UnbreakableCoin\", \"Unobtanium\", \"UroCoin\", \"UnitaryStatus Dollar\", \"UltraCoin\", \"ViaCoin\", \"VeriCoin\", \"WorldCoin\", \"X11 Coin\", \"JouleCoin\", \"StealthCoin\", \"ZCC Coin\", \"MonaCoin\", \"Neutron\", \"Gulden\", \"PesetaCoin\", \"Kore\", \"Wild Beast Coin\", \"Flo\", \"8BIT Coin\", \"Sativa Coin\", \"ArtByte\", \"Folding Coin\", \"CypherPunkCoin\", \"OmniCron\", \"Vtorrent\", \"GreenCoin\", \"MasterCoin\", \"SoonCoin\", \"1Credit\", \"IslaCoin\", \"Nexus\", \"MarsCoin \", \"Anarchists Prime\", \"Droidz\", \"BowsCoin\", \"Song Coin\", \"BitZeny\", \"Paycon\", \"Emercoin\", \"EverGreenCoin\", \"MindCoin\", \"I0coin\", \"Revolution VR\", \"EDRCoin\", \"Hitcoin\", \"Gamecredits\", \"DubaiCoin\", \"CarpeDiemCoin\", \"BillaryCoin\", \"Adzcoin\", \"YoCoin\", \"SibCoin\", \"EuropeCoin\", \"SwingCoin\", \"Francs\", \"BolivarCoin\", \"Ratecoin\", \"Revenu\", \"Clockcoin\", \"BitSend\", \"Omni\", \"PutinCoin\", \"iBankCoin\", \"Frankywillcoin\", \"PizzaCoin\", \"GoldBlocks\", \"CarterCoin\", \"BitTokens\", \"ZayedCoin\", \"MustangCoin\", \"ZoneCoin\", \"RootCoin\", \"DopeCoin\", \"DollarCoin\", \"Swiscoin\", \"Shilling\", \"BuzzCoin\", \"PesoBit\", \"Halloween Coin\", \"GanjaCoin V2\", \"LanaCoin\", \"InsaneCoin\", \"KiloCoin\", \"ArtexCoin\", \"EmberCoin\", \"XenixCoin\", \"PLNCoin\", \"AquariusCoin\", \"Kurrent\", \"Eternity\", \"Eurocoin\", \"BitcoinFast\", \"Stakenet\", \"BitConnect Coin\", \"MoneyCoin\", \"Enigma\", \"Russiacoin\", \"GameUnits\", \"GAKHcoin\", \"LiteCreed\", \"OsmiumCoin\", \"Klingon Empire Darsek\", \"Internet of People\", \"KushCoin\", \"Printerium\", \"PacCoin\", \"Impeach\", \"FirstCoin\", \"BeaverCoin\", \"VaultCoin\", \"OpenChat\", \"Canada eCoin\", \"VirtacoinPlus\", \"Impact\", \"EB3coin\", \"HappyCoin\", \"Condensate\", \"Independent Money System\", \"ArgusCoin\", \"LomoCoin\", \"GoldReserve\", \"BenjiRolls\", \"ILCoin\", \"Degas Coin\", \"HTML5 Coin\", \"EquiTrader\", \"DigitalPrice\", \"Bitcoin Planet\", \"Unify\", \"BritCoin\", \"SocialCoin\", \"ArcticCoin\", \"DAS\", \"Linda\", \"DeepOnion\", \"Bitcore\", \"Onix\", \"Cream\", \"Bitcoin Cash\", \"Monoeci\", \"Vechain\", \"Sojourn Coin\", \"NewYorkCoin\", \"FrazCoin\", \"Kronecoin\", \"AdCoin\", \"Linx\", \"CoinonatX\", \"Ethereum Dark\", \"Regalcoin\", \"Elements\", \"TerraNovaCoin\", \"WomenCoin\", \"Theresa May Coin\", \"LUXCoin\", \"Xios\", \"Bitcloud 2.0\", \"eBoost\", \"BlackholeCoin\", \"Pura\", \"Magnet\", \"Bitcoin Diamond\", \"Cash & Back Coin\", \"AC3\", \"GermanCoin\", \"LiteCoin Ultra\", \"PopularCoin\", \"PhantomX\", \"Sucre\", \"IrishCoin\", \"Trollcoin\", \"Litecoin Plus\", \"Pioneer Coin\", \"UnitedBitcoin\", \"My Big Coin\", \"MUNcoin\", \"Unified Society USDEX\", \"ShareChain\", \"LitecoinCash\", \"BitFlip\", \"LottoCoin\", \"Crypto Improvement Fund\", \"Pushi\", \"Ellerium\", \"Poseidon\", \"Briacoin\", \"Ignition\", \"Abjcoin\", \"FuturoCoin\", \"Carebit\", \"iDealCash\", \"KEYCO\", \"Swisscoin\", \"TheVig\", \"EmaratCoin\", \"Motion\", \"Axe\", \"Trivechain\", \"Giant\", \"HexCoin\", \"TPCash\", \"Urals Coin\", \"EUNO\", \"Project Pai\", \"Azart\", \"ThunderStake\", \"Kcash\", \"Xchange\", \"Bitcoin SV\", \"BitMoney\", \"HerbCoin\", \"Block-Logic\", \"Oduwa\", \"Galilel\", \"Credit\", \"SLICE\", \"Nasdacoin\", \"Beetle Coin\", \"Titan Coin\", \"Award\", \"BLAST\", \"Bitcoin Rhodium\", \"GlobalToken\", \"Insane Coin\", \"LiteDoge\", \"SolarCoin\", \"TruckCoin\", \"OrangeCoin\", \"BitstarCoin\", \"HyperCoin\", \"PinkCoin\", \"Crypto Escudo\", \"AudioCoin\", \"IncaKoin\", \"Piggy Coin\", \"Crown Coin\", \"Genstake\", \"SmileyCoin\", \"XiaoMiCoin\", \"CapriCoin\", \" ClubCoin\", \"Bata\", \"Pakcoin\", \"Creditbit \", \"OKCash\", \"WhiteCoin\", \"Triangles Coin\", \"Gapcoin\"], \"legendgroup\": \"0\", \"marker\": {\"color\": [0, 0, 0, 0, 0, 0, 0, 0, 0, 0, 0, 0, 0, 0, 0, 0, 0, 0, 0, 0, 0, 0, 0, 0, 0, 0, 0, 0, 0, 0, 0, 0, 0, 0, 0, 0, 0, 0, 0, 0, 0, 0, 0, 0, 0, 0, 0, 0, 0, 0, 0, 0, 0, 0, 0, 0, 0, 0, 0, 0, 0, 0, 0, 0, 0, 0, 0, 0, 0, 0, 0, 0, 0, 0, 0, 0, 0, 0, 0, 0, 0, 0, 0, 0, 0, 0, 0, 0, 0, 0, 0, 0, 0, 0, 0, 0, 0, 0, 0, 0, 0, 0, 0, 0, 0, 0, 0, 0, 0, 0, 0, 0, 0, 0, 0, 0, 0, 0, 0, 0, 0, 0, 0, 0, 0, 0, 0, 0, 0, 0, 0, 0, 0, 0, 0, 0, 0, 0, 0, 0, 0, 0, 0, 0, 0, 0, 0, 0, 0, 0, 0, 0, 0, 0, 0, 0, 0, 0, 0, 0, 0, 0, 0, 0, 0, 0, 0, 0, 0, 0, 0, 0, 0, 0, 0, 0, 0, 0, 0, 0, 0, 0, 0, 0, 0, 0, 0, 0, 0, 0, 0, 0, 0, 0, 0, 0, 0, 0, 0, 0, 0, 0, 0, 0, 0, 0, 0, 0, 0, 0, 0, 0, 0, 0, 0, 0, 0, 0, 0, 0, 0, 0, 0, 0, 0, 0, 0, 0, 0, 0, 0, 0, 0, 0, 0, 0, 0, 0, 0, 0, 0, 0, 0, 0, 0, 0, 0, 0, 0, 0, 0, 0, 0, 0, 0, 0, 0, 0, 0, 0, 0, 0, 0, 0, 0, 0, 0, 0, 0, 0, 0, 0, 0, 0, 0, 0, 0, 0, 0, 0, 0, 0, 0, 0, 0, 0, 0, 0, 0, 0, 0, 0, 0, 0, 0, 0, 0, 0, 0, 0, 0, 0, 0, 0, 0, 0, 0, 0, 0], \"coloraxis\": \"coloraxis\", \"symbol\": \"circle\"}, \"mode\": \"markers\", \"name\": \"0\", \"scene\": \"scene\", \"showlegend\": true, \"type\": \"scatter3d\", \"x\": [0.35722699423775595, 0.3583355649057405, -0.04368780606873787, -0.2800440795954826, -0.11570799958505339, 0.5937659899207637, -0.28017846026634385, -0.2726562637810687, -0.7531633047083481, -0.2800852434135061, 0.357262629446208, 0.35719786757006017, -0.04337120096347369, -0.2796861008387988, -0.2800067321292985, 0.3572213531922689, -0.0037921986582029866, -0.2801206510233888, 0.3572280795446638, -0.2801785268069629, 0.3572291212134406, -0.2801955045866934, -0.7531673720708262, 0.0010754096210554326, -0.2514402301698003, -0.28017915435349605, -0.2795819396292165, -0.28015516789496436, -0.7052122729334481, -0.2801994823788606, -0.2771749968014998, -0.2800746460549896, -0.2800686615821268, 0.35748386586624037, -0.08734912386835833, -0.11570839469141464, -0.0436879510165569, -0.27965359694707365, -0.28018125643489217, -0.28022097925871026, 0.43627205105422684, -0.2801342760516592, -0.2802023835693508, 0.5989052555479992, -0.1945888620711184, -0.24771187803204908, -0.04368765980990513, -0.2795063342854531, -0.1945865275068233, 0.3581301594467382, 0.3574367242238273, 0.3558832263703417, -0.28017824647078915, -0.2796813004160844, -0.2801136932010742, -0.11575542680289952, -0.041827344995817514, -0.04363241183675843, -0.11573374759536459, -0.04364236701654884, -0.04355878167541506, -0.043732118476918797, -0.7532063428902532, 0.3606561341699154, 0.35744216108040594, -0.28017490765732456, -0.4927089518039712, -0.2796521374317838, -0.11574378670720423, -0.04363658827016558, -0.19458734972007613, 0.3593949067182772, -0.2799983863275978, 0.5938642917612903, -0.2765893992121696, -0.2798683290218904, -0.1945598291209712, -0.28021815771488795, -0.2798828928804083, 0.35722692686541135, -0.19456441111234388, -0.27808549667137133, -0.5145733565188688, 0.03509745913166607, -0.2802169976435934, 0.357269956133791, -0.258688231893778, -0.2802225456967799, -0.043687555584314655, -0.08015182267070196, -0.11575549830884999, 1.073674964997913, -0.7531359995500132, -0.04361641725906389, 0.7119744226728842, -0.7531613460974044, -0.2797681490879824, -0.27968365645945586, -0.19447815418896772, 0.5958909280588269, -0.27335966666896, -0.7531722197549771, -0.04368794680531949, -0.2797768042717404, 0.5937658807882197, -0.05852129565950632, -0.28004439114998786, 0.593740804890039, 0.002301417491057849, 0.3573179189020293, -0.7530256808411763, -0.27985778072769085, -0.7925700880827403, -0.11492082265055416, 0.5938049928935779, -0.28018067174740413, -0.7531525460219913, -0.11559849444546409, 0.5942025100839664, 0.5948591573725776, -0.11545426404390773, -0.2802225521472201, 0.3615391159003578, 0.3573231981991991, 0.3574398799606392, -0.753151983306778, -0.11564740753335752, 0.35742073818051523, 0.5937638470102142, -0.04371176630514492, -0.11574893497994555, 0.35727254441509704, 0.3572269052276622, -0.2797942812022327, -0.04370993530965521, 0.7889052998403829, -0.2801591332752326, 0.5574843176965671, 0.3572254575221183, -0.11250551703630844, -0.23378814887935087, 0.5311614669442281, -0.11569102883749703, -0.25848590088389745, -0.7521567100090408, -0.1969632781966535, -0.11574722573763457, 0.35731002358443287, 0.35731821910287354, -0.7527132696692133, -0.1156252253676987, 0.5937611304570093, 0.35729783117520064, 1.3717928072122159, 0.3572873777221047, 0.3586414812870947, -0.11574459278580335, 0.3575397663688525, 0.3572551060036141, 0.3572340529926941, 0.6727186665552036, -0.28021800271062497, 0.3583132436982375, 0.5937637585130502, -0.11573534621769456, 0.35726994618666397, -0.5357612866939516, 0.35727467835687404, 0.5699447880838349, -0.2802167002957687, -0.7510329842122186, 0.359355852271261, -0.2800109714874069, -0.11553856266304588, -0.11552128342585959, -0.2715280179119654, -0.11553894580354238, -0.11467365775270517, 0.35727287796488627, 0.357289137821346, 0.35940166737988133, -0.11566922817990476, -0.2801475478167993, -0.03835631551150748, 0.35745435820054083, -0.07955731234737808, -0.2800679131166947, -0.7529904286357963, 0.2391985460968712, -0.28018277448469076, -0.19452156677184868, -0.2800609991468744, -0.7530769995111289, -0.7531653060202197, 0.46554719988119264, -0.19454573958598215, -0.5955006272421058, -0.7508197358256387, 0.23919668839893476, -0.04368780920473024, -0.11573532964820166, 1.1721095674196842, -0.2573895771380573, -0.2867790081570323, -0.28018081536868655, -0.2800419900463537, -0.280007891324258, -0.28000794036154797, 0.35733103193082927, 0.35723593535246406, -0.11569704502176496, -0.7494157280513986, 0.35726115707801953, 0.4093731112745523, 0.5939314558722845, 0.9485851240370119, 0.35727256423005144, 0.6335669390802174, -0.280010978206949, 0.35725840412842896, -0.7524531754462391, -0.11544402362621092, -0.19413755941506602, 0.3576785933742107, -0.7520138862032589, 0.46573666819064335, 0.3575528126421337, -0.26953209489338276, -0.11564876481299165, -0.7531634224166388, -0.2800867687771897, 0.35915712936678523, 0.357235578132241, -0.7531566581576625, -0.04368972238864953, 0.144808184643575, -0.43784879307527275, 0.35772075876565396, -0.2589352832484192, 0.1311332472572193, -0.2801374471362061, -0.24085851579577666, -0.752128624941263, -0.11570116088879898, -0.3521161779093639, -0.2801783824288876, 0.35723347947442985, 0.35723781344151584, 0.3572917821301233, -0.7529902756507459, 0.6335619414496332, 0.3683013179381352, -0.6349215737125579, 0.3789413470020633, 0.5151037478812825, 0.357408678553865, -0.9502346616966886, -0.7531608478010619, -0.3126536173250256, 0.6331443381291455, -0.28017585718424004, 0.359401442599247, -0.9892414888284982, -0.11564810460383985, -0.03926205088343828, -0.7531521500638895, 0.3963229386537711, 2.177470414374993, -0.9500652746406469, -0.0436878090637783, 0.6499070102905907, 0.6332492225581934, -0.27996451832132735, 0.35727198539379174, 0.6331739678886665, 0.5184812764624708, 0.03531462802609195, 0.35740872681266617, -0.3511684113165254, 0.5257201951637599, -0.1148427633735513, -0.0435958694342496, -0.8320321781768599, -0.04337118248588024, -0.11569127788225404, 0.43263917184816353, -0.06688871910235974, -0.11576654804218287, 0.3576617712424777, 0.35734404153383836, 0.35722655267313624, -0.11468808243786814, -0.2780849316466318, 0.3800163488843304, 0.5933090763405716, -0.1136033877904043, -0.04364236937872385, 0.3572568643089479, -0.1728451286702935, 0.35807833953878776, -0.11531232226793556, 0.35757019571001203, -0.28021322259599735, -0.2798312639761466, 1.159181405528329, 0.5939431257766224, 0.3578678515554965, -0.1945855782584128, 0.3577699837762782], \"y\": [0.8231502329380407, 0.82787258690934, -0.0038285427857423786, 0.25375181908503575, 1.3378144202429372, 0.5659076197497603, 0.2534234505957639, 1.5100923194938338, 0.7680266223431018, 0.2535362064095147, 0.823247495787238, 0.8253175090988915, -0.0029949643802058977, 0.25432712060546725, 0.25359568892321466, 0.8235699699928414, -0.04540942244167045, 0.25357520611884976, 0.823151433738019, 0.25342840180944526, 0.8231558884876509, 0.2534032228484088, 0.7680014136019657, 0.10444278504558205, 0.32463366329943444, 0.25347509685110536, 0.2547389953101867, 0.2534935027707512, -0.12492591141269972, 0.2533870557454934, 0.2593747403522009, 0.25373123873219633, 0.2536540746076785, 0.8237080933909787, 0.7536711406488631, 1.3378438196691647, -0.003817757379247674, 0.2544364481557614, 0.25346758206039266, 0.25336604985815264, 0.737806482035372, 0.2535782472414134, 0.2534003453435466, 0.576469571381124, 1.4237270564499214, 0.2931036196862462, -0.0038394257432959097, 0.25521265598130055, 1.4235533441094435, 0.8247966056615269, 0.823609427326727, 0.9231385030039224, 0.25340754230560464, 0.2539699264743315, 0.2535548408485815, 1.3377371674583283, -0.00013752049617880673, -0.00368626751987216, 1.3377631611013978, -0.0037671172073290146, -0.0037573329701067067, -0.0039328186113609465, 0.7679504790055823, 0.8302770645174675, 0.8235327335304107, 0.2534869615709496, 0.06353838202964275, 0.2543278472414552, 1.3377724827672202, -0.003705322308431381, 1.4236145240858677, 0.8257665987769397, 0.25381400015579, 0.566133792277586, 0.2583225075540025, 0.2541798137166722, 1.4235338868608123, 0.2533656023250577, 0.2542166479228938, 0.8231552391547823, 1.4235469710850917, 0.25817419171868966, 0.5152182606071839, -0.08967680943967404, 0.25340113670425457, 0.8232320457378467, 0.290200256857639, 0.2533628535217287, -0.0038471810539104606, 0.4476276104545865, 1.3377423242084834, 1.307558369439716, 0.768125944163313, -0.003770212650035567, 0.4372499444648791, 0.7680448126110747, 0.25391444918848394, 0.2541452370490564, 1.4236858225230418, 0.5681152422404545, 1.5093678180287287, 0.7680342677312729, -0.0038180707327540894, 0.2545191290136908, 0.5659157401813624, 1.4313061035354033, 0.2537750015102972, 0.5658964340897072, 0.11588193748403862, 0.8232696127399555, 0.7682775965276373, 0.25371709520163255, 0.8109381648991733, 1.3385835152244596, 0.5659561618482827, 0.25342407611275086, 0.7680457221035972, 1.3383544660657578, 0.5663311537871201, 0.567022195083331, 1.3381138553525536, 0.2533628367889653, 0.8301467076536263, 0.8232592854887152, 0.8237024691227995, 0.768003851088548, 1.3378958262860094, 0.8234875043914123, 0.5659031430110758, -0.003892176945425547, 1.3377457391919803, 0.8232033829323961, 0.8231568491957121, 0.25418028466731685, -0.00388050707934308, 1.2118255845874784, 0.253460705646492, 0.760628474856799, 0.8232645713599056, 1.3418073262245007, 1.4669361299055013, 0.6711619749115993, 1.3378630724273497, 0.27514503077119085, 0.7718126284540261, 1.73974381342888, 1.3377584408059775, 0.8232899025232643, 0.8232472751280291, 0.7686371080963713, 1.3378845593011248, 0.5659413503862867, 0.8232889631904019, 2.6676683867183626, 0.8232471513614386, 0.8245613972232696, 1.3377504980137154, 0.823482879053188, 0.8231895291021787, 0.8231685437004577, 0.48036184878123717, 0.2533682133501776, 0.8242877764413811, 0.565909727986917, 1.337776215110971, 0.8232327858925386, 0.9809386123455377, 0.8231975984170947, 1.0136879594869626, 0.25337715292677765, 0.7701616062113571, 0.8286725968731059, 0.25391113485916716, 1.337993217004231, 1.3383467714902835, 0.26202447802098106, 1.3380217260637353, 1.3392079362793152, 0.8232133365050974, 0.8232145413304714, 0.8252635454436644, 1.3378801930346829, 0.25350359451986015, 0.005839502880089312, 0.8234448010285308, 1.8379888291308633, 0.2535581049325551, 0.7682773723988988, 0.9520313336225698, 0.2534619854896545, 1.4236375379469741, 0.25353542911431903, 0.7681618817779098, 0.7679952165701495, 0.9595806604553412, 1.4236163086071962, 0.5965224465433914, 0.7706868638772912, 0.9521695628660826, -0.003828309440019662, 1.3378001076534334, 2.6167519022096206, 0.2755329647567709, 0.7411204049274017, 0.25343476281311755, 0.25359633805139187, 0.2536819433347625, 0.2536855921451268, 0.8233187667671866, 0.8231734266356003, 1.3378189450181657, 0.7809660377844356, 0.8231873460972292, 1.041223892262227, 0.5663818920217019, 0.18007159734465628, 0.823201908523622, 0.523501595442718, 0.25391163485284574, 0.8232372684002357, 0.7692830424244138, 1.3381715189093604, 1.4245710769069087, 0.8239721857323403, 0.7693816842621252, 0.9454825336448098, 0.8234956903437574, 0.2774383957295737, 1.337996819958526, 0.7680025952191812, 0.2536497070297829, 0.8270665141906769, 0.8231672213289867, 0.7680238448861356, -0.003822667778669575, 0.6333153730758984, 0.4249398956120128, 0.8244411291132377, 0.3085830742086921, 0.23282959606749612, 0.25348634745330134, 0.3416530727177186, 0.7697228497033587, 1.337797345447279, 1.595158752133247, 0.25341765879695916, 0.8231594517931056, 0.8231648227809925, 0.823247280917603, 0.7682659889509389, 0.5238734635927811, 0.8387550224484124, 0.6393403510169758, 0.8794783472095731, 0.6519457845947065, 0.8234012778191023, 0.9824319119856995, 0.7680077349327658, 1.5524486233102, 0.5230055911703705, 0.25341094206784304, 0.8252802711214114, 1.0257335585653478, 1.3379476945276267, 0.007662932976253854, 0.7680162593003002, 0.8647744107668547, 2.2194679984965107, 0.9826020098431422, -0.003828319928096796, 2.5032754045805667, 0.5232089924161579, 0.2537331730110326, 0.8232449790878402, 0.5230770184078769, 1.0862374634106688, -0.08944327241522448, 0.8233976869352244, 1.5967649589551494, 0.6652365632492312, 1.3386766310930402, -0.003620527344188471, 0.8537192752277065, -0.003290687031264367, 1.337881603571562, 0.9493054886769468, 0.4606976334349459, 1.3385645226130594, 0.823584618536374, 0.8233349818728595, 0.8231830823870431, 1.3402812611071995, 0.2581321488543599, 0.8486671501271901, 0.6274460131205094, 1.341534503407793, -0.0037669414405070746, 0.8233865522249568, 0.4598435934830893, 0.8253739008212543, 1.3388631804135964, 0.823841518903143, 0.25338722361491556, 0.2539814218087752, 2.4774112575958758, 0.5663331890626374, 0.824643244607532, 1.423502382988184, 0.8237290607132095], \"z\": [-0.41266542545356155, -0.39130558072105875, -0.19030134717362865, -0.21967866006234618, -0.47370285277092566, -0.38172438302719025, -0.22118388243616516, -0.4905940203953464, -0.28250967235078783, -0.22065061164542413, -0.4122210307693855, -0.4030499948813664, -0.18648881870234674, -0.21699880513799172, -0.22035906975890843, -0.41080320202048626, -0.1792377212032364, -0.22048974050331027, -0.41265971408708235, -0.2211619156686528, -0.4126395660754216, -0.22127966029038124, -0.28262305004723476, 0.30616663017038714, 0.10509898951177424, -0.2209547464390159, -0.21513323566498901, -0.2208646406307568, -0.08704121317342114, -0.22135284990493595, -0.1937055760167855, -0.21978071632179103, -0.22012134184536622, -0.41009826711794717, 2.067779081128012, -0.47357241801239985, -0.19025349617542014, -0.2165019184189085, -0.22098885463840934, -0.22145363541813928, -0.40048914129826535, -0.22048098211040745, -0.2212948375053742, -0.33302431008389666, -0.48329531100428685, -0.03363692402975763, -0.19034963097105942, -0.21300320605896556, -0.48406601064338856, -0.4050386000360269, -0.4105529038485493, 0.030946832814495184, -0.22125446184031525, -0.21858354797893095, -0.22057776456597536, -0.4740624856565739, -0.1732599547025812, -0.1896501517723262, -0.47393948435186334, -0.1900127009395685, -0.18994011705182715, -0.19077991271797898, -0.28286284827194336, -0.379817808788305, -0.4108916313314013, -0.2209005714012041, -0.15727234524316924, -0.21698374190497458, -0.47390158234953433, -0.18973623576666118, -0.48379457692934963, -0.4002897885115574, -0.21938656984778643, -0.3806856194986766, -0.19817480882171626, -0.21771654834773355, -0.4841431224397652, -0.22145463977080673, -0.21755803101310342, -0.412643214689341, -0.4840866079193156, -0.19935490717397317, -0.2311599291826073, -0.18045631771255743, -0.22129641571485514, -0.4122870961844834, -0.05035688736526277, -0.2214683772842531, -0.19038403851559713, 0.7110480538271583, -0.4740396077648606, -0.5918600699058468, -0.2820590360672456, -0.19001740550564075, -0.36643666779190903, -0.2824282008699549, -0.21886020686112403, -0.21780575754504838, -0.4834398634275655, -0.3711790849943383, -0.4940568988338246, -0.2824788235160643, -0.19025488641306038, -0.2161776426097952, -0.38168835557118014, -0.03854660498626953, -0.2195758079176263, -0.3817828389991786, 0.3573988958417138, -0.41210353418014, -0.28134705312139224, -0.21976795633720714, -0.28749303824951783, -0.470012725308665, -0.3814951994613648, -0.22118187499639863, -0.28242109475314603, -0.4712661711952577, -0.3796912059240278, -0.37639322901299793, -0.4722845386604912, -0.2214684538478508, -0.3800890533379127, -0.4121475610771166, -0.4101385751038669, -0.28260686149889624, -0.4733201860576747, -0.4110999744321989, -0.3817450124743249, -0.19059231722390454, -0.47402215343485743, -0.41241349506380237, -0.4126360715125235, -0.21768865156459072, -0.19053984944974114, -0.4986314450173654, -0.2210116852740546, 0.10678149716198505, -0.41215814672699164, -0.4548530113412774, -0.48688493396470145, -0.29974176429393, -0.47348085835124604, -0.11715155076958175, -0.26534399206605924, 0.9194108136180147, -0.47396514576147086, -0.4120161720901338, -0.41220263818969144, -0.27964147180281074, -0.4733624960893341, -0.3815762677464057, -0.4120245929417998, -0.9182331609573456, -0.41221393587898764, -0.40590504548351375, -0.47399950473013736, -0.41107903659376593, -0.41248110160898976, -0.4125816414537081, -0.370477529775651, -0.22144298933791365, -0.40723467316939155, -0.3817157972873647, -0.4738820643419337, -0.41228381238235223, 0.7388650416411335, -0.41243844232129473, -0.4736130219434375, -0.2214028318773181, -0.27228511044199655, -0.3873969124051174, -0.21895954875582122, -0.4728497104198741, -0.4712734378268682, -0.17996929402718947, -0.4727232259006342, -0.4671533323355325, -0.4123691717580442, -0.41235815429107503, -0.40252165656040706, -0.47339722277065255, -0.22081716433523443, -0.14550441344949738, -0.41127791767121963, 1.0329950401937964, -0.220547313670151, -0.2813357634078856, -0.4268981121898298, -0.2210142398657791, -0.48366943996978456, -0.22064561491297646, -0.2818788642946293, -0.282649853084837, 0.23101546521870964, -0.4837721504522467, -0.2619331783377829, -0.26987795411671583, -0.4262848383844375, -0.19030031190196187, -0.47377594398600864, 0.9305134405138312, -0.11504654827161083, 1.9425372724216436, -0.22113446192204167, -0.2203684739016315, -0.21997638972784153, -0.21996020125888688, -0.4118806553001625, -0.41255929875557856, -0.4736789391796177, -0.22373550011737905, -0.4124886882903665, 0.5740434431214635, -0.37956032132065326, -0.33518520985657096, -0.412420036489168, -0.3743584815738686, -0.21895733046236815, -0.41226792642726706, -0.2766820255820582, -0.4720248672659565, -0.4793894648366124, -0.40885748565927266, -0.2760908358046198, 0.16846710961556705, -0.41101759093639784, -0.11081548815561491, -0.4728721131876323, -0.2826164256730576, -0.22014704991320766, -0.3945993034722222, -0.41258698303687624, -0.2825196916684082, -0.19027592217296646, -0.34849197465233966, -0.24170855268522123, -0.40676006066434234, 0.031201110524381896, -0.24145443219414875, -0.22089024417346884, 0.18437539534629088, -0.2746155943282121, -0.4737763042761482, -0.5041465403147282, -0.22120957857977946, -0.4126222214496378, -0.41259685678224645, -0.4122118255729481, -0.2813862677025725, -0.37270863534959886, -0.3395001376384228, -0.26733735727011093, -0.1549265825956763, -0.39068313992844345, -0.4114871374852706, -0.3081165103765325, -0.28259270129181735, -0.49824919230929016, -0.3767086719046291, -0.2212385297369121, -0.4024474506993377, -0.31122791504345143, -0.47309006518667096, -0.13772160739808714, -0.2825518106931035, -0.21417420406789395, -0.8818646964782908, -0.3073020200754585, -0.19030035843381585, -0.04697999235684659, -0.37576874908887503, -0.21973374682743108, -0.4122289477719954, -0.3763811144630257, 0.811986826931322, -0.17934342172878012, -0.4115030689550846, -0.4966825615151109, -0.3279546964778221, -0.46957196423370745, -0.1893454434221738, -0.29307497025237306, -0.18780221310469586, -0.47339864228002615, 0.1739118593804383, 0.7737183901145621, -0.4703918069699812, -0.41058466050356923, -0.41180410496796077, -0.4125196842078818, -0.4623913732529936, -0.1995414363536304, -0.29139453766235984, -0.10857151797859345, -0.45644730667784433, -0.19001192112492862, -0.41160544483922346, 0.733000266046351, -0.40249270262354936, -0.4689070757251701, -0.4094755955218448, -0.22135689270980094, -0.2185847546778556, -0.8560022627759768, -0.37977256018401234, -0.4058111389777357, -0.48429201481451345, -0.40990543434134813]}, {\"customdata\": [[67], [53], [10], [53], [10], [11]], \"hovertemplate\": \"<b>%{hovertext}</b><br><br>Class=%{marker.color}<br>PC_3=%{x}<br>PC_2=%{y}<br>PC_1=%{z}<br>Algorithm=%{customdata[0]}<extra></extra>\", \"hovertext\": [\"EliteCoin\", \"MoonCoin\", \"ByteCoin\", \"gCn Coin\", \"TurtleCoin\", \"Qwertycoin\"], \"legendgroup\": \"2\", \"marker\": {\"color\": [2, 2, 2, 2, 2, 2], \"coloraxis\": \"coloraxis\", \"symbol\": \"diamond\"}, \"mode\": \"markers\", \"name\": \"2\", \"scene\": \"scene\", \"showlegend\": true, \"type\": \"scatter3d\", \"x\": [0.4872730011910807, 0.5548594573286131, 1.8073531910791225, 0.14724124156684107, 3.5868901435094793, 1.7718174969344178], \"y\": [2.1867476629785227, 1.0642166587568611, -0.5732470668474775, 1.2318221882230087, 0.7022773521797389, -0.8186151586300707], \"z\": [3.1431523167574063, 3.6708182296812657, 4.653678143255549, 4.273157062352416, 10.938854473739452, 3.369699849981999]}, {\"customdata\": [[20], [12], [20], [18], [34], [34], [23], [23], [34], [36], [25], [36], [31], [10], [9], [23], [34], [33], [30], [20], [6], [3], [0], [35], [15], [35], [18], [10], [34], [32], [20], [18], [10], [10], [30], [12], [18], [30], [16], [5], [35], [12], [1], [2], [6], [8], [10], [35], [35], [10], [28], [10], [18], [36], [36], [18], [35], [15], [36], [20], [36], [35], [34], [10], [10], [20], [12], [3], [36], [36], [7], [20], [10], [15], [31], [7], [20], [10], [26], [35], [18], [32], [10], [35], [30], [32], [10], [11], [10], [27], [10], [14], [24], [31], [12], [13], [28], [18], [32], [10], [4], [4], [18], [21], [18], [18], [36], [4], [23], [36], [34], [19], [20], [10], [18]], \"hovertemplate\": \"<b>%{hovertext}</b><br><br>Class=%{marker.color}<br>PC_3=%{x}<br>PC_2=%{y}<br>PC_1=%{z}<br>Algorithm=%{customdata[0]}<extra></extra>\", \"hovertext\": [\"Ethereum\", \"Monero\", \"Ethereum Classic\", \"ZCash\", \"DigiByte\", \"MyriadCoin\", \"Riecoin\", \"Diamond\", \"Verge\", \"FeatherCoin\", \"MediterraneanCoin\", \"Orbitcoin\", \"Vertcoin\", \"DigitalNote \", \"StorjCoin\", \"FairCoin\", \"Unitus\", \"Cryptonite\", \"Crypto\", \"Expanse\", \"Siacoin\", \"Decred\", \"HOdlcoin\", \"PWR Coin\", \"SoilCoin\", \"VIP Tokens\", \"Komodo\", \"Karbo\", \"Circuits of Value\", \"ZCoin\", \"Elementrem\", \"ZClassic\", \"Cannabis Industry Coin\", \"Bikercoins\", \"HexxCoin\", \"Citadel\", \"Zero\", \"Zoin\", \"DubaiCoin\", \"TajCoin\", \"Coinonat\", \"Quantum Resistant Ledger\", \"Espers\", \"Dynamic\", \"Nano\", \"ChanCoin\", \"Dinastycoin\", \"Denarius\", \"Virta Unique Coin\", \"LeviarCoin\", \"SmartCash\", \"Sumokoin\", \"BitcoinZ\", \"TrezarCoin\", \"VIVO Coin\", \"Bitcoin Gold\", \"NamoCoin\", \"Pirl\", \"Innova\", \"Ellaism\", \"GoByte\", \"Electra\", \"SHIELD\", \"UltraNote\", \"BitCoal\", \"DaxxCoin\", \"Lethean\", \"Photon\", \"SparksPay\", \"GunCoin\", \"Interzone\", \"1717 Masonic Commemorative Token\", \"Niobio Cash\", \"Travelflex\", \"KREDS\", \"Stipend\", \"Callisto Network\", \"BitTube\", \"Aidos Kuneen\", \"Bitspace\", \"Bitrolium\", \"Alpenschillling\", \"Monero Classic\", \"Jumpcoin\", \"Infinex\", \"GINcoin\", \"PlatinCoin\", \"Loki\", \"Newton Coin\", \"MassGrid\", \"PluraCoin\", \"Muse\", \"PlusOneCoin\", \"Absolute Coin\", \"Webchain\", \"Ryo\", \"XDNA\", \"CrypticCoin\", \"Actinium\", \"FREDEnergy\", \"Universal Molecule\", \"Lithium\", \"PirateCash\", \"Exosis\", \"Beam\", \"Bithereum\", \"UFO Coin\", \"BlakeCoin\", \"Groestlcoin\", \"FriendshipCoin\", \"JoinCoin\", \"Vollar\", \"Reality Clash\", \"Beldex\", \"Horizen\"], \"legendgroup\": \"3\", \"marker\": {\"color\": [3, 3, 3, 3, 3, 3, 3, 3, 3, 3, 3, 3, 3, 3, 3, 3, 3, 3, 3, 3, 3, 3, 3, 3, 3, 3, 3, 3, 3, 3, 3, 3, 3, 3, 3, 3, 3, 3, 3, 3, 3, 3, 3, 3, 3, 3, 3, 3, 3, 3, 3, 3, 3, 3, 3, 3, 3, 3, 3, 3, 3, 3, 3, 3, 3, 3, 3, 3, 3, 3, 3, 3, 3, 3, 3, 3, 3, 3, 3, 3, 3, 3, 3, 3, 3, 3, 3, 3, 3, 3, 3, 3, 3, 3, 3, 3, 3, 3, 3, 3, 3, 3, 3, 3, 3, 3, 3, 3, 3, 3, 3, 3, 3, 3, 3], \"coloraxis\": \"coloraxis\", \"symbol\": \"square\"}, \"mode\": \"markers\", \"name\": \"3\", \"scene\": \"scene\", \"showlegend\": true, \"type\": \"scatter3d\", \"x\": [1.0204728629380504, 1.3357986258852788, 1.020929288976842, 1.0993535330101827, 0.5138107526264114, 0.4729369781092317, 0.9024125964696588, 1.5396924255262665, 0.5039368885584046, 0.39055570113470206, 0.8238348752706314, 1.0272934778114593, 0.5870909065951794, 1.4360601953488177, 0.3927119248092032, 1.5396806135280323, 0.4686619873877654, 0.5120491383513323, 0.6264682211062795, 1.020514084164058, 1.570773465256766, 2.328032283787501, 1.8089595552898656, 1.0662390650733502, 1.2176187880976383, 1.066892526208006, 3.649541264007735, 1.4146512065937031, 0.47122876940612457, 0.5475415674809704, 1.0205335868449914, 1.0993536141208593, 1.4146754419800096, 1.4146837566903905, 0.6263474407042441, 1.3362012303276791, 1.0993448553753542, 0.6263705982619825, 1.1781433601905211, 2.249236374224761, 0.4293542395415707, 1.3360245929727135, 2.5145071083171984, 1.729950526708577, 1.5730245288022437, 1.4935246191744829, 1.418896268093277, 1.0667221845099177, 1.0669587071538282, 1.4147466026400979, 0.7159269409025244, 1.4148227144227181, 1.1447379346549957, 1.0281469335098625, 0.38989309404409767, 1.0993530829126161, 1.0692845690246238, 1.2178921703375563, 0.38993213730524434, 1.0210861291658757, 0.38990345620391353, 1.1306397522407383, 0.47007818993344047, 1.5985951503308262, 1.4146567956278433, 1.0422008838240937, 1.337952756916751, 1.8848796340098959, 0.3898798771167986, 0.3909081741361893, 1.5329248957436519, -0.041936854176712134, 1.4153543769035106, 1.2177663586203007, 0.589273233251918, 2.1703678267669706, 1.0346019738825205, 1.4168008450555585, 0.7840398088875028, 1.0668087315558017, 1.0994571607519694, 0.5481465315089278, 1.4146690984248012, 0.42929447297232154, 0.6263826970905604, 0.5475178899652319, 1.4159346331497606, 1.3755399427322887, 1.8128810505481299, 0.7449305067998752, 1.416778841112269, 0.19458940121051238, 0.8628622636105563, 1.2244749968539939, 1.3396044184496056, 1.2965757722752707, 1.3434027668272792, 1.1156417644017638, 0.5476774253804487, 1.4321157809806324, 1.6513495614502562, 1.6511751683248779, 0.03711783049213892, 0.9811082470524685, 1.0998780771185936, 1.0993742176185712, 0.3983580367926876, 1.6663428321577207, 0.9024571764531399, 1.0274162229107482, 0.4686709084277297, 1.0644552790064779, 1.0205299303289195, 1.4176299454465644, 1.0993535369760314], \"y\": [-1.1613873364876992, -1.504753904684681, -1.160924541259158, -1.247449583723775, -0.4781556103234629, -0.5514217650579178, -1.0327615158345247, -0.4632965692149908, -0.472113789446393, -0.4742174967462014, -0.9467831762194162, 0.09417102931768061, -0.6896980204642833, -1.545904297402413, -2.581880296540913, -0.4631356576380862, -0.5611811188147252, -0.5979835475276326, -0.7327463867766187, -1.1616831246701136, -1.6492157976960566, -1.32088227349399, -2.01918738087265, 0.08561428160374948, -1.3760830449244157, 0.05174451345933084, 1.0324617131933898, -1.5905292652158647, -0.5554585188139634, -0.6470966905928816, -1.1616099046537738, -1.2474556190792634, -1.5905293817358657, -1.5904923567695481, -0.7329046655107884, -1.504384512561491, -1.2474596038844188, -0.7328245818383311, -1.3332712664995745, -1.2350780061577913, -0.5183845433490115, -1.5043553897636506, -1.2233744128152206, -1.9335675349436485, -1.7609330176273694, -1.6762154189044602, -1.5801821946102423, 0.05130518341000288, 0.051737912760762235, -1.5904147324417368, -0.8004950947579201, -1.5903588484174496, -1.1854000139910639, 0.09561966192887547, -0.4755674938474776, -1.247416092462947, 0.055715713416693555, -1.3757198616737352, -0.475521949559108, -1.1611198622571708, -0.47555167465404213, 0.21148065545067288, -0.5583664777862933, -1.3453248325226486, -1.5905353182075006, -1.1388619124069217, -1.5011970638387795, -1.5980795557272653, -0.47556760696180594, -0.47356037475968893, -1.719134582308435, -2.1113970194283302, -1.589410750556195, -1.3755886203265506, -0.685531337226117, -1.1493537783616001, -1.1471846274889963, -1.5881924263914817, -0.904323097766069, 0.05142244715385201, -1.2471279205935886, -0.646440958547277, -1.5904835785017888, -0.5184047542299137, -0.7328593006402394, -0.6471216917695382, -1.5893098086690165, -1.5473127481683318, -1.0611957423446736, -0.8607607691212864, -1.586555137370821, -2.368599178932424, -0.9901518138421181, -0.12010280273809794, -1.501064120451373, -1.4617274275834493, -0.2481170834965468, -1.2170259579638025, -0.6469438123815321, -1.5671472041234245, -1.847643170715836, -1.8477632033860834, -2.196902761041556, -1.118826648295804, -1.246842457421902, -1.2473681069631017, -0.454147216469252, -1.8330096101730629, -1.0326361679061606, 0.0942829566775891, -0.5613859241640905, -1.1998614141004809, -1.1616193898385285, -1.5842770404482844, -1.2474498788181905], \"z\": [-0.05101253000577025, -0.011450356650793204, -0.04879804407865732, -0.04208461025289084, 0.26119075127958724, -0.07845238122329858, -0.06639008716622741, -0.2590783076865199, 0.28458347906613235, -0.12794141391974206, -0.07558509253438572, -0.32559927095264235, -0.10729688645593959, 0.2043968630609139, 0.32811675178315547, -0.2583677632358774, -0.1232866613245783, -0.08978359658344105, -0.10293146921825538, -0.05231185659000749, 0.5198415876968501, -0.15647452292577416, 0.05069047100052423, -0.16819576847553977, -0.026669550185003922, -0.31839474014617564, -0.8033537297563524, -0.001258068321084158, -0.09697622114620269, -0.11370768782597918, -0.051979866047026965, -0.042111386970562034, -0.0012501399649918353, -0.0010828023842450487, -0.10367652786152864, -0.009669460851906704, -0.04213213715162901, -0.10331277988234047, -0.03211992329235481, -0.16651867720634303, -0.12874612043037822, -0.009601673858302911, 0.7052439747662989, 0.039752970580674535, 0.02445341985753211, 0.009337676480137804, 0.046176024064538926, -0.32040531119699805, -0.31840099241544173, -0.0007161460357327314, -0.00898076762047866, -0.0004414224247501554, 0.24931392765362562, -0.3188679973427798, -0.13416810564722267, -0.041936021485034336, -0.29992373472904343, -0.024961263032900652, -0.13395222229482104, -0.04961087071132582, -0.13409423630561598, 0.41326107159686315, -0.11029238508895138, 1.151878026079663, -0.0012830038945571684, 0.05660229296689088, 0.005097434109246996, 1.4019217543041176, -0.13417321402987947, -0.12490008630902055, 0.014284928129996035, 0.2660345041140266, 0.0039546703011134115, -0.024422221849112104, -0.08803076055438791, -0.17694362700450136, 0.016990232091827075, 0.009869729523427868, -0.08270887177059205, -0.3198543435971315, -0.04061988574462688, -0.11058454207285218, -0.001048923532290285, -0.12885671177452343, -0.10346276106114276, -0.11382697765949802, 0.004605201345434015, -0.004783956489613076, 2.4884651882466775, -0.08469821407006967, 0.017133796393139895, 0.2971507746569756, -0.07276405152654856, -0.2993701961742143, 0.0062634713728172324, -0.015859162497911923, -0.28097427189349117, 0.09871297712147882, -0.11298136026729311, 0.1086755785688758, 0.03031014250645639, 0.02971626346763177, 0.2774946898745302, -0.057539459614248493, -0.039205364245589854, -0.04171553691934363, -0.03608368822549166, 0.10052761049722614, -0.06581784028582226, -0.3250593892123862, -0.12419315982763139, -0.024726358145419118, -0.05202326711906928, 0.02754817238172002, -0.042085919481463514]}, {\"customdata\": [[50], [47], [53], [41], [65], [53], [53], [65], [34], [38], [34], [55], [53], [53], [65], [65], [53], [53], [53], [53], [41], [40], [67], [65], [53], [41], [41], [67], [41], [14], [41], [41], [53], [46], [53], [67], [53], [41], [41], [47], [53], [41], [47], [40], [58], [53], [41], [50], [37], [31], [39], [47], [14], [35], [46], [46], [65], [40], [67], [43], [42], [53], [63], [53], [22], [41], [54], [41], [70], [71], [53], [53], [69], [53], [46], [47], [46], [53], [46], [65], [53], [41], [65], [17], [71], [65], [46], [65], [14], [47], [41], [14], [53], [52], [14], [14], [47], [29], [41], [41], [47], [53]], \"hovertemplate\": \"<b>%{hovertext}</b><br><br>Class=%{marker.color}<br>PC_3=%{x}<br>PC_2=%{y}<br>PC_1=%{z}<br>Algorithm=%{customdata[0]}<extra></extra>\", \"hovertext\": [\"Bitshares\", \"PayCoin\", \"CasinoCoin\", \"Exclusive Coin\", \"HyperStake\", \"MintCoin\", \"Nautilus Coin\", \"SuperCoin\", \"TeslaCoin\", \"TittieCoin\", \"Crypti\", \"BurstCoin\", \"RubyCoin\", \"Dnotes\", \"Ucoin\", \"Squall Coin\", \"Diggits\", \"GPU Coin\", \"ZeitCoin\", \"SafeExchangeCoin\", \"Nebuchadnezzar\", \"Let it Ride\", \"MudraCoin\", \"Lutetium Coin\", \"BitCurrency\", \"Opair\", \"CoffeeCoin\", \"RoyalCoin\", \"TeamUP\", \"ARK\", \"FreeCoin\", \"Creatio\", \"PandaCoin\", \"Allsafe\", \"Zilbercoin\", \"FindCoin\", \"RenosCoin\", \"Atmos\", \"MacronCoin\", \"ProCurrency\", \"GrowthCoin\", \"Phreak\", \"Ultimate Secure Cash\", \"QTUM\", \"Signatum\", \"Draftcoin\", \"Stakecoin\", \"Obsidian\", \"Cardano\", \"Rupee\", \"KekCoin\", \"Infinity Economics\", \"Lamden Tau\", \"Bulwark\", \"Kalkulus\", \"Digiwage\", \"Monkey Project\", \"TokenPay\", \"Tokyo Coin\", \"BiblePay\", \"Poa Network\", \"Velox\", \"Ontology\", \"MedicCoin\", \"Bitcoin Green\", \"Deviant Coin\", \"Semux\", \"Zealium\", \"Proton\", \"Bitcoin Incognito\", \"HollyWoodCoin\", \"Xt3ch\", \"Dekado\", \"Lynx\", \"Poseidon Quark\", \"BitcoinWSpectrum\", \"Dystem\", \"Peony Coin\", \"Vitae\", \"ARENON\", \"MMOCoin\", \"Ketan\", \"PAXEX\", \"Acute Angle Cloud\", \"Bettex coin\", \"Junson Ming Chan Coin\", \"Crypto Sports\", \"Dash Platinum\", \"ALAX\", \"NeosCoin\", \"Radium\", \"Lisk\", \"HiCoin\", \"Fiii\", \"EOS\", \"Oxycoin\", \"TigerCash\", \"Waves\", \"Particl\", \"Nxt\", \"ZEPHYR\", \"BitcoinPlus\"], \"legendgroup\": \"4\", \"marker\": {\"color\": [4, 4, 4, 4, 4, 4, 4, 4, 4, 4, 4, 4, 4, 4, 4, 4, 4, 4, 4, 4, 4, 4, 4, 4, 4, 4, 4, 4, 4, 4, 4, 4, 4, 4, 4, 4, 4, 4, 4, 4, 4, 4, 4, 4, 4, 4, 4, 4, 4, 4, 4, 4, 4, 4, 4, 4, 4, 4, 4, 4, 4, 4, 4, 4, 4, 4, 4, 4, 4, 4, 4, 4, 4, 4, 4, 4, 4, 4, 4, 4, 4, 4, 4, 4, 4, 4, 4, 4, 4, 4, 4, 4, 4, 4, 4, 4, 4, 4, 4, 4, 4, 4], \"coloraxis\": \"coloraxis\", \"symbol\": \"x\"}, \"mode\": \"markers\", \"name\": \"4\", \"scene\": \"scene\", \"showlegend\": true, \"type\": \"scatter3d\", \"x\": [-1.2166918777703342, -1.1061241167919993, -1.4699712566890508, -0.8696597994618681, -1.8157013253096823, -1.3436180337303945, -1.3426075172629564, -1.8156267095985776, -0.5935393350230312, -0.7464864964476381, -0.5937577094594947, -1.629344329587698, -1.3426432082708073, -1.3415626195455082, -1.815581014632043, -1.3906571612653233, -1.342429076375094, -1.3421630952672765, -1.1290417318227737, -1.5505538937236125, -0.8696169619529353, -0.8301732537523999, -1.8940200790647381, -1.8142257254726233, -1.3426497362534318, -0.8695020051639346, -0.869579368376712, -1.8944494666954232, -0.8690057723473238, -1.0800839272065095, -0.8695530962092475, -0.8696169619529353, -1.2734818253948372, -1.0667034104004225, -1.3425224878659647, -1.8944238677566458, -1.3425687476554373, -0.8694247860592709, -0.8688080610204464, -0.9430531481789726, -1.3383060983139534, -0.8695948203363698, -1.1057161024197633, -0.8300314513804361, -1.5394239003386467, -1.3426049651515422, -0.8695257612607444, -1.2241987591810093, -0.615325850425889, -0.4754564272937833, -0.7907840318707398, -1.0869910275447112, -1.0792766618833325, -0.6331086606623018, -1.0666928320245324, -1.0664758365541438, -1.815578918659955, -0.8301909069869298, -1.8927255886327596, -1.5747136107852127, -1.333502327507909, -1.3423734719436857, -1.734649118880756, -1.3415668665103855, -0.12072548334745324, -0.8694691686337382, -2.656741468180147, -0.869486071091153, -2.0126027354074387, -1.6271031889542777, -1.3425871943312728, -1.3425466253009126, -1.9730908584643219, -2.2085575156753405, -1.0653221207390953, -1.1059353607623916, -1.0666902047524534, -1.305933138929941, -1.0665211068931368, -1.8155056602474264, -1.3420814808713986, -0.8692032804610943, -1.8154071221280896, -1.6214347911842288, -2.052007173109112, -1.816413254218817, -1.0667065617240994, -1.8155815765496286, -1.0782219463322982, -1.1061052833646825, -0.8696401420084061, -1.0800085316461192, -1.321334177352373, -2.7794673478873664, -1.080397584203262, -1.0804022522453327, -1.1040218925284762, -1.2463987083989763, -0.8696411880050882, -0.6550470614505135, -2.3767947516571475, -1.3426397933734915], \"y\": [-0.8079848135194977, -0.9535180571248171, -0.6653276103255803, -1.2108594576075125, -0.17597994862098124, -0.6236634998948618, -0.6962025492216243, -0.1815320209451635, -1.5105696284062737, -1.32913550380858, -1.510713462384484, -0.7897152969109519, -0.6961991813881746, -0.6946404219721991, -0.18165356600591093, 0.1981566838184983, -0.6957396646571457, -0.6956870673627901, -0.3611428774757237, -0.8743629810549126, -1.2107683824166675, -1.2535587144530356, -0.09550110908745327, -0.17807677918996123, -0.695713441439723, -1.210470059444893, -1.210287128728412, -0.095926677748134, -1.2101824606933975, -3.5076480175293088, -1.2106027114916573, -1.2107683824166675, -0.5123047527845175, -0.9964000617637462, -0.6961657943436173, -0.09586027282396556, -0.6960962469578409, -1.2102668831487529, -1.208665035980067, -0.7948718763655406, -0.6910620510543924, -1.2107766321884483, -0.953127588274676, -1.2532088373354873, -0.4812220659543647, -0.696191490697412, -1.2107351117333582, -0.824660386739271, -1.1989545424014754, -1.6395687334818005, -1.2965569166682738, -0.9038840879179691, -3.506242608899894, -1.4680685855424653, -0.9963675453013521, -0.9961211039865958, -0.18164559662837976, -1.2536385477067882, -0.09346570482971218, -1.6778806101775794, -1.5466265927353036, -0.695942848664934, -0.26313796681428786, -0.6943244100250615, -2.0255636849298333, -1.2106183925348601, -1.7927758974776977, -1.2106721261129783, 0.032816290435208284, 0.45553056324203073, -0.6961049797686102, -0.6961729662755468, -0.009882659547703846, -1.1860726995808986, -0.9950858001364716, -0.9531764717117712, -0.996399109366991, -0.6606444148001313, -0.996031154990395, -0.18152311043071942, -0.6953753268143243, -1.2104035795769912, -0.18147844748363276, -3.7539724565652692, 0.07571722242177942, -0.12300610792879213, -0.9964327784518052, -0.18166093284239423, -3.5027586552768226, -0.9535260407076686, -1.2108467918938481, -3.507534002349996, -0.641048767475753, -2.078312757598078, -3.504800190264051, -3.5044528464298206, -0.94806300121992, -2.4846345887994414, -1.2108289352618267, -1.0154261988105073, -2.0821222374038832, -0.6962893517743108], \"z\": [0.1904833054824113, 0.12815839255207892, 1.1716192848406382, 0.1586346634777, 0.061154429117700276, 0.4193779168992328, 0.09756047388879607, 0.03652186631454157, 0.19659183051035528, 0.22176080480821886, 0.19587691491860207, 0.19996347184914717, 0.09756299347474129, 0.1048625304207119, 0.035997969387679615, -0.09169474016269943, 0.09967848074147302, 0.10000477501881228, 1.6600960218799317, 0.21514248214578477, 0.15905408670136256, 0.16458865613005136, 0.027624596705129706, 0.05235595601192056, 0.09971804821603474, 0.16041909803819968, 0.16120459254533967, 0.025584868812292216, 0.16186935159060065, 0.6819593272389096, 0.15981214212465428, 0.15905408670136256, 0.9384004384088733, 0.13327779805674309, 0.09775334644088564, 0.025888715808354307, 0.09804610788009367, 0.1613483806106919, 0.16867763114406456, 0.8895869472343618, 0.12189011838966098, 0.15902516296709532, 0.13003478229854182, 0.16619199175419597, 0.07459711513281238, 0.09761047779788323, 0.15923363545967836, 0.11380554584208587, 1.027480059904669, 0.21031939999835764, 0.1691810181344522, 0.3552667997110081, 0.6884825320171432, 0.18972865663604457, 0.13342590077092456, 0.13459604848393925, 0.036034094426498416, 0.16422793855950904, 0.037115612230405715, 0.41902136350072594, 0.2865397908467057, 0.09879545197500915, 0.065972437247848, 0.10626456261336087, 0.2561219837558847, 0.15977174565429805, 0.4754302477688198, 0.15952720690481267, 0.01069519146066783, -0.12202038769861324, 0.09800089408125684, 0.0977130818255707, 0.016659374744505902, 2.526702211991341, 0.13959623263257484, 0.12974126502458222, 0.1332866300359035, 0.26826651751807584, 0.13497976495225658, 0.03660362565473578, 0.10141775860789687, 0.16081846026664987, 0.03683632821694555, 0.8164284605515651, 0.005665518008851997, 0.2961804485179555, 0.13313139434979432, 0.03596505503743776, 0.7043234683623969, 0.12812949816936864, 0.1586977665296946, 0.6824919806898301, 0.3499300327636611, 0.5094863234495232, 0.6944981506614283, 0.6960391912515752, 0.15311868698455622, 0.47738118284147785, 0.1587767091399896, 0.12009009854822256, 0.5607499929072463, 0.09716370741822984]}, {\"customdata\": [[60]], \"hovertemplate\": \"<b>%{hovertext}</b><br><br>Class=%{marker.color}<br>PC_3=%{x}<br>PC_2=%{y}<br>PC_1=%{z}<br>Algorithm=%{customdata[0]}<extra></extra>\", \"hovertext\": [\"BitTorrent\"], \"legendgroup\": \"1\", \"marker\": {\"color\": [1], \"coloraxis\": \"coloraxis\", \"symbol\": \"cross\"}, \"mode\": \"markers\", \"name\": \"1\", \"scene\": \"scene\", \"showlegend\": true, \"type\": \"scatter3d\", \"x\": [-0.7858800338600204], \"y\": [3.9314042365811077], \"z\": [25.4593576306372]}],                        {\"coloraxis\": {\"colorbar\": {\"title\": {\"text\": \"Class\"}}, \"colorscale\": [[0.0, \"#0d0887\"], [0.1111111111111111, \"#46039f\"], [0.2222222222222222, \"#7201a8\"], [0.3333333333333333, \"#9c179e\"], [0.4444444444444444, \"#bd3786\"], [0.5555555555555556, \"#d8576b\"], [0.6666666666666666, \"#ed7953\"], [0.7777777777777778, \"#fb9f3a\"], [0.8888888888888888, \"#fdca26\"], [1.0, \"#f0f921\"]]}, \"legend\": {\"title\": {\"text\": \"Class\"}, \"tracegroupgap\": 0, \"x\": 0, \"y\": 1}, \"margin\": {\"t\": 60}, \"scene\": {\"domain\": {\"x\": [0.0, 1.0], \"y\": [0.0, 1.0]}, \"xaxis\": {\"title\": {\"text\": \"PC_3\"}}, \"yaxis\": {\"title\": {\"text\": \"PC_2\"}}, \"zaxis\": {\"title\": {\"text\": \"PC_1\"}}}, \"template\": {\"data\": {\"bar\": [{\"error_x\": {\"color\": \"#2a3f5f\"}, \"error_y\": {\"color\": \"#2a3f5f\"}, \"marker\": {\"line\": {\"color\": \"#E5ECF6\", \"width\": 0.5}}, \"type\": \"bar\"}], \"barpolar\": [{\"marker\": {\"line\": {\"color\": \"#E5ECF6\", \"width\": 0.5}}, \"type\": \"barpolar\"}], \"carpet\": [{\"aaxis\": {\"endlinecolor\": \"#2a3f5f\", \"gridcolor\": \"white\", \"linecolor\": \"white\", \"minorgridcolor\": \"white\", \"startlinecolor\": \"#2a3f5f\"}, \"baxis\": {\"endlinecolor\": \"#2a3f5f\", \"gridcolor\": \"white\", \"linecolor\": \"white\", \"minorgridcolor\": \"white\", \"startlinecolor\": \"#2a3f5f\"}, \"type\": \"carpet\"}], \"choropleth\": [{\"colorbar\": {\"outlinewidth\": 0, \"ticks\": \"\"}, \"type\": \"choropleth\"}], \"contour\": [{\"colorbar\": {\"outlinewidth\": 0, \"ticks\": \"\"}, \"colorscale\": [[0.0, \"#0d0887\"], [0.1111111111111111, \"#46039f\"], [0.2222222222222222, \"#7201a8\"], [0.3333333333333333, \"#9c179e\"], [0.4444444444444444, \"#bd3786\"], [0.5555555555555556, \"#d8576b\"], [0.6666666666666666, \"#ed7953\"], [0.7777777777777778, \"#fb9f3a\"], [0.8888888888888888, \"#fdca26\"], [1.0, \"#f0f921\"]], \"type\": \"contour\"}], \"contourcarpet\": [{\"colorbar\": {\"outlinewidth\": 0, \"ticks\": \"\"}, \"type\": \"contourcarpet\"}], \"heatmap\": [{\"colorbar\": {\"outlinewidth\": 0, \"ticks\": \"\"}, \"colorscale\": [[0.0, \"#0d0887\"], [0.1111111111111111, \"#46039f\"], [0.2222222222222222, \"#7201a8\"], [0.3333333333333333, \"#9c179e\"], [0.4444444444444444, \"#bd3786\"], [0.5555555555555556, \"#d8576b\"], [0.6666666666666666, \"#ed7953\"], [0.7777777777777778, \"#fb9f3a\"], [0.8888888888888888, \"#fdca26\"], [1.0, \"#f0f921\"]], \"type\": \"heatmap\"}], \"heatmapgl\": [{\"colorbar\": {\"outlinewidth\": 0, \"ticks\": \"\"}, \"colorscale\": [[0.0, \"#0d0887\"], [0.1111111111111111, \"#46039f\"], [0.2222222222222222, \"#7201a8\"], [0.3333333333333333, \"#9c179e\"], [0.4444444444444444, \"#bd3786\"], [0.5555555555555556, \"#d8576b\"], [0.6666666666666666, \"#ed7953\"], [0.7777777777777778, \"#fb9f3a\"], [0.8888888888888888, \"#fdca26\"], [1.0, \"#f0f921\"]], \"type\": \"heatmapgl\"}], \"histogram\": [{\"marker\": {\"colorbar\": {\"outlinewidth\": 0, \"ticks\": \"\"}}, \"type\": \"histogram\"}], \"histogram2d\": [{\"colorbar\": {\"outlinewidth\": 0, \"ticks\": \"\"}, \"colorscale\": [[0.0, \"#0d0887\"], [0.1111111111111111, \"#46039f\"], [0.2222222222222222, \"#7201a8\"], [0.3333333333333333, \"#9c179e\"], [0.4444444444444444, \"#bd3786\"], [0.5555555555555556, \"#d8576b\"], [0.6666666666666666, \"#ed7953\"], [0.7777777777777778, \"#fb9f3a\"], [0.8888888888888888, \"#fdca26\"], [1.0, \"#f0f921\"]], \"type\": \"histogram2d\"}], \"histogram2dcontour\": [{\"colorbar\": {\"outlinewidth\": 0, \"ticks\": \"\"}, \"colorscale\": [[0.0, \"#0d0887\"], [0.1111111111111111, \"#46039f\"], [0.2222222222222222, \"#7201a8\"], [0.3333333333333333, \"#9c179e\"], [0.4444444444444444, \"#bd3786\"], [0.5555555555555556, \"#d8576b\"], [0.6666666666666666, \"#ed7953\"], [0.7777777777777778, \"#fb9f3a\"], [0.8888888888888888, \"#fdca26\"], [1.0, \"#f0f921\"]], \"type\": \"histogram2dcontour\"}], \"mesh3d\": [{\"colorbar\": {\"outlinewidth\": 0, \"ticks\": \"\"}, \"type\": \"mesh3d\"}], \"parcoords\": [{\"line\": {\"colorbar\": {\"outlinewidth\": 0, \"ticks\": \"\"}}, \"type\": \"parcoords\"}], \"pie\": [{\"automargin\": true, \"type\": \"pie\"}], \"scatter\": [{\"marker\": {\"colorbar\": {\"outlinewidth\": 0, \"ticks\": \"\"}}, \"type\": \"scatter\"}], \"scatter3d\": [{\"line\": {\"colorbar\": {\"outlinewidth\": 0, \"ticks\": \"\"}}, \"marker\": {\"colorbar\": {\"outlinewidth\": 0, \"ticks\": \"\"}}, \"type\": \"scatter3d\"}], \"scattercarpet\": [{\"marker\": {\"colorbar\": {\"outlinewidth\": 0, \"ticks\": \"\"}}, \"type\": \"scattercarpet\"}], \"scattergeo\": [{\"marker\": {\"colorbar\": {\"outlinewidth\": 0, \"ticks\": \"\"}}, \"type\": \"scattergeo\"}], \"scattergl\": [{\"marker\": {\"colorbar\": {\"outlinewidth\": 0, \"ticks\": \"\"}}, \"type\": \"scattergl\"}], \"scattermapbox\": [{\"marker\": {\"colorbar\": {\"outlinewidth\": 0, \"ticks\": \"\"}}, \"type\": \"scattermapbox\"}], \"scatterpolar\": [{\"marker\": {\"colorbar\": {\"outlinewidth\": 0, \"ticks\": \"\"}}, \"type\": \"scatterpolar\"}], \"scatterpolargl\": [{\"marker\": {\"colorbar\": {\"outlinewidth\": 0, \"ticks\": \"\"}}, \"type\": \"scatterpolargl\"}], \"scatterternary\": [{\"marker\": {\"colorbar\": {\"outlinewidth\": 0, \"ticks\": \"\"}}, \"type\": \"scatterternary\"}], \"surface\": [{\"colorbar\": {\"outlinewidth\": 0, \"ticks\": \"\"}, \"colorscale\": [[0.0, \"#0d0887\"], [0.1111111111111111, \"#46039f\"], [0.2222222222222222, \"#7201a8\"], [0.3333333333333333, \"#9c179e\"], [0.4444444444444444, \"#bd3786\"], [0.5555555555555556, \"#d8576b\"], [0.6666666666666666, \"#ed7953\"], [0.7777777777777778, \"#fb9f3a\"], [0.8888888888888888, \"#fdca26\"], [1.0, \"#f0f921\"]], \"type\": \"surface\"}], \"table\": [{\"cells\": {\"fill\": {\"color\": \"#EBF0F8\"}, \"line\": {\"color\": \"white\"}}, \"header\": {\"fill\": {\"color\": \"#C8D4E3\"}, \"line\": {\"color\": \"white\"}}, \"type\": \"table\"}]}, \"layout\": {\"annotationdefaults\": {\"arrowcolor\": \"#2a3f5f\", \"arrowhead\": 0, \"arrowwidth\": 1}, \"autotypenumbers\": \"strict\", \"coloraxis\": {\"colorbar\": {\"outlinewidth\": 0, \"ticks\": \"\"}}, \"colorscale\": {\"diverging\": [[0, \"#8e0152\"], [0.1, \"#c51b7d\"], [0.2, \"#de77ae\"], [0.3, \"#f1b6da\"], [0.4, \"#fde0ef\"], [0.5, \"#f7f7f7\"], [0.6, \"#e6f5d0\"], [0.7, \"#b8e186\"], [0.8, \"#7fbc41\"], [0.9, \"#4d9221\"], [1, \"#276419\"]], \"sequential\": [[0.0, \"#0d0887\"], [0.1111111111111111, \"#46039f\"], [0.2222222222222222, \"#7201a8\"], [0.3333333333333333, \"#9c179e\"], [0.4444444444444444, \"#bd3786\"], [0.5555555555555556, \"#d8576b\"], [0.6666666666666666, \"#ed7953\"], [0.7777777777777778, \"#fb9f3a\"], [0.8888888888888888, \"#fdca26\"], [1.0, \"#f0f921\"]], \"sequentialminus\": [[0.0, \"#0d0887\"], [0.1111111111111111, \"#46039f\"], [0.2222222222222222, \"#7201a8\"], [0.3333333333333333, \"#9c179e\"], [0.4444444444444444, \"#bd3786\"], [0.5555555555555556, \"#d8576b\"], [0.6666666666666666, \"#ed7953\"], [0.7777777777777778, \"#fb9f3a\"], [0.8888888888888888, \"#fdca26\"], [1.0, \"#f0f921\"]]}, \"colorway\": [\"#636efa\", \"#EF553B\", \"#00cc96\", \"#ab63fa\", \"#FFA15A\", \"#19d3f3\", \"#FF6692\", \"#B6E880\", \"#FF97FF\", \"#FECB52\"], \"font\": {\"color\": \"#2a3f5f\"}, \"geo\": {\"bgcolor\": \"white\", \"lakecolor\": \"white\", \"landcolor\": \"#E5ECF6\", \"showlakes\": true, \"showland\": true, \"subunitcolor\": \"white\"}, \"hoverlabel\": {\"align\": \"left\"}, \"hovermode\": \"closest\", \"mapbox\": {\"style\": \"light\"}, \"paper_bgcolor\": \"white\", \"plot_bgcolor\": \"#E5ECF6\", \"polar\": {\"angularaxis\": {\"gridcolor\": \"white\", \"linecolor\": \"white\", \"ticks\": \"\"}, \"bgcolor\": \"#E5ECF6\", \"radialaxis\": {\"gridcolor\": \"white\", \"linecolor\": \"white\", \"ticks\": \"\"}}, \"scene\": {\"xaxis\": {\"backgroundcolor\": \"#E5ECF6\", \"gridcolor\": \"white\", \"gridwidth\": 2, \"linecolor\": \"white\", \"showbackground\": true, \"ticks\": \"\", \"zerolinecolor\": \"white\"}, \"yaxis\": {\"backgroundcolor\": \"#E5ECF6\", \"gridcolor\": \"white\", \"gridwidth\": 2, \"linecolor\": \"white\", \"showbackground\": true, \"ticks\": \"\", \"zerolinecolor\": \"white\"}, \"zaxis\": {\"backgroundcolor\": \"#E5ECF6\", \"gridcolor\": \"white\", \"gridwidth\": 2, \"linecolor\": \"white\", \"showbackground\": true, \"ticks\": \"\", \"zerolinecolor\": \"white\"}}, \"shapedefaults\": {\"line\": {\"color\": \"#2a3f5f\"}}, \"ternary\": {\"aaxis\": {\"gridcolor\": \"white\", \"linecolor\": \"white\", \"ticks\": \"\"}, \"baxis\": {\"gridcolor\": \"white\", \"linecolor\": \"white\", \"ticks\": \"\"}, \"bgcolor\": \"#E5ECF6\", \"caxis\": {\"gridcolor\": \"white\", \"linecolor\": \"white\", \"ticks\": \"\"}}, \"title\": {\"x\": 0.05}, \"xaxis\": {\"automargin\": true, \"gridcolor\": \"white\", \"linecolor\": \"white\", \"ticks\": \"\", \"title\": {\"standoff\": 15}, \"zerolinecolor\": \"white\", \"zerolinewidth\": 2}, \"yaxis\": {\"automargin\": true, \"gridcolor\": \"white\", \"linecolor\": \"white\", \"ticks\": \"\", \"title\": {\"standoff\": 15}, \"zerolinecolor\": \"white\", \"zerolinewidth\": 2}}}, \"width\": 800},                        {\"responsive\": true}                    ).then(function(){\n",
       "                            \n",
       "var gd = document.getElementById('4ab2813f-48c3-4cc9-98a6-4941b2b9eeac');\n",
       "var x = new MutationObserver(function (mutations, observer) {{\n",
       "        var display = window.getComputedStyle(gd).display;\n",
       "        if (!display || display === 'none') {{\n",
       "            console.log([gd, 'removed!']);\n",
       "            Plotly.purge(gd);\n",
       "            observer.disconnect();\n",
       "        }}\n",
       "}});\n",
       "\n",
       "// Listen for the removal of the full notebook cells\n",
       "var notebookContainer = gd.closest('#notebook-container');\n",
       "if (notebookContainer) {{\n",
       "    x.observe(notebookContainer, {childList: true});\n",
       "}}\n",
       "\n",
       "// Listen for the clearing of the current output cell\n",
       "var outputEl = gd.closest('.output');\n",
       "if (outputEl) {{\n",
       "    x.observe(outputEl, {childList: true});\n",
       "}}\n",
       "\n",
       "                        })                };                });            </script>        </div>"
      ]
     },
     "metadata": {},
     "output_type": "display_data"
    }
   ],
   "source": [
    "# Create a 3D-Scatter with the PCA data and the clusters\n",
    "fig = px.scatter_3d(\n",
    "    clustered_df,\n",
    "    x=\"PC_3\",\n",
    "    y=\"PC_2\",\n",
    "    z=\"PC_1\",\n",
    "    color=\"Class\",\n",
    "    symbol=\"Class\",\n",
    "    width=800,\n",
    "    hover_name=\"CoinName\",\n",
    "    hover_data=[\"Algorithm\"]\n",
    ")\n",
    "fig.update_layout(legend=dict(x=0, y=1))\n",
    "fig.show()\n"
   ]
  },
  {
   "cell_type": "markdown",
   "metadata": {},
   "source": [
    "#### Table of Tradable Cryptocurrencies"
   ]
  },
  {
   "cell_type": "code",
   "execution_count": 48,
   "metadata": {},
   "outputs": [
    {
     "data": {},
     "metadata": {},
     "output_type": "display_data"
    },
    {
     "data": {
      "application/vnd.holoviews_exec.v0+json": "",
      "text/html": [
       "<div id='2521'>\n",
       "\n",
       "\n",
       "\n",
       "\n",
       "\n",
       "  <div class=\"bk-root\" id=\"4dc7c354-20df-4d60-9a33-6f1f7669388d\" data-root-id=\"2521\"></div>\n",
       "</div>\n",
       "<script type=\"application/javascript\">(function(root) {\n",
       "  function embed_document(root) {\n",
       "    var docs_json = {\"9af78196-7ff1-4e9a-ad0d-9649b6b16775\":{\"defs\":[],\"roots\":{\"references\":[{\"attributes\":{},\"id\":\"2551\",\"type\":\"IntEditor\"},{\"attributes\":{},\"id\":\"2536\",\"type\":\"IntEditor\"},{\"attributes\":{},\"id\":\"2524\",\"type\":\"Selection\"},{\"attributes\":{\"editor\":{\"id\":\"2551\"},\"field\":\"Class\",\"formatter\":{\"id\":\"2550\"},\"title\":\"Class\"},\"id\":\"2552\",\"type\":\"TableColumn\"},{\"attributes\":{\"editor\":{\"id\":\"2536\"},\"field\":\"ProofType\",\"formatter\":{\"id\":\"2535\"},\"title\":\"ProofType\"},\"id\":\"2537\",\"type\":\"TableColumn\"},{\"attributes\":{\"columns\":[{\"id\":\"2527\"},{\"id\":\"2532\"},{\"id\":\"2537\"},{\"id\":\"2542\"},{\"id\":\"2547\"},{\"id\":\"2552\"}],\"height\":300,\"reorderable\":false,\"source\":{\"id\":\"2523\"},\"view\":{\"id\":\"2557\"},\"width\":700},\"id\":\"2555\",\"type\":\"DataTable\"},{\"attributes\":{},\"id\":\"2540\",\"type\":\"StringFormatter\"},{\"attributes\":{},\"id\":\"2525\",\"type\":\"StringFormatter\"},{\"attributes\":{\"source\":{\"id\":\"2523\"}},\"id\":\"2557\",\"type\":\"CDSView\"},{\"attributes\":{},\"id\":\"2559\",\"type\":\"UnionRenderers\"},{\"attributes\":{},\"id\":\"2541\",\"type\":\"StringEditor\"},{\"attributes\":{},\"id\":\"2526\",\"type\":\"StringEditor\"},{\"attributes\":{\"editor\":{\"id\":\"2541\"},\"field\":\"TotalCoinSupply\",\"formatter\":{\"id\":\"2540\"},\"title\":\"TotalCoinSupply\"},\"id\":\"2542\",\"type\":\"TableColumn\"},{\"attributes\":{\"editor\":{\"id\":\"2526\"},\"field\":\"CoinName\",\"formatter\":{\"id\":\"2525\"},\"title\":\"CoinName\"},\"id\":\"2527\",\"type\":\"TableColumn\"},{\"attributes\":{\"data\":{\"Algorithm\":[53,53,67,47,20,53,65,12,20,18,50,34,47,47,53,69,65,53,53,53,34,53,47,53,53,53,46,23,53,53,53,53,53,65,53,23,34,47,53,53,53,53,41,53,53,36,53,53,53,53,65,53,65,47,53,53,53,51,53,25,53,53,47,53,67,53,47,53,67,36,53,53,53,53,53,53,65,65,47,34,47,38,65,47,47,47,65,53,53,53,53,31,53,65,34,47,67,53,10,10,55,9,53,47,23,53,53,53,67,53,53,53,53,67,53,59,65,34,45,53,53,53,33,53,47,53,65,51,65,30,47,44,65,65,53,53,53,20,67,6,47,69,65,47,3,53,0,47,65,53,47,47,35,53,53,65,15,53,66,65,53,47,53,41,53,65,65,47,47,35,65,53,40,53,53,53,67,65,65,18,65,53,10,47,47,65,53,34,53,53,53,47,53,53,49,41,53,65,32,41,67,68,41,49,20,18,14,65,53,65,67,65,41,53,53,65,41,65,47,53,65,53,53,65,10,53,53,53,53,46,45,53,10,30,53,47,65,53,65,53,12,53,53,53,67,65,18,53,53,30,53,16,65,5,65,53,41,65,35,41,65,53,53,53,47,65,53,53,47,41,53,69,47,53,40,12,1,2,6,8,10,35,65,35,56,53,67,53,65,65,53,10,67,61,53,28,58,65,56,47,65,53,64,53,41,53,53,53,53,53,53,53,10,50,37,65,18,36,65,53,36,31,18,53,47,35,38,15,53,46,53,39,53,47,65,36,20,36,65,14,35,67,34,53,10,10,20,35,46,65,12,53,53,53,65,3,65,36,46,36,53,53,53,65,65,47,7,40,20,53,10,57,53,10,53,15,31,67,43,48,53,53,65,7,42,65,71,53,63,20,10,53,26,35,53,53,18,53,32,22,41,53,54,65,46,41,10,70,53,35,30,71,62,53,32,10,11,10,53,53,27,49,10,53,69,53,46,47,14,70,24,65,70,46,46,53,31,46,53,53,12,13,71,11,65,65,53,41,47,28,65,65,53,50,70,17,18,71,32,47,71,65,10,46,4,4,18,21,53,53,18,46,18,46,53,45,65,53,71,49,65,47,67,47,65,14,53,53,65,36,53,4,53,47,53,65,53,53,47,65,47,53,53,53,23,65,53,41,53,53,65,47,14,53,53,36,52,34,67,19,14,20,14,47,29,41,60,41,47,53,10,18,53],\"Class\":{\"__ndarray__\":\"AAAAAAAAAAACAAAAAAAAAAMAAAAAAAAAAAAAAAMAAAADAAAAAwAAAAQAAAADAAAAAAAAAAQAAAAAAAAAAAAAAAAAAAAAAAAAAAAAAAAAAAADAAAAAgAAAAAAAAAAAAAAAAAAAAAAAAAAAAAAAwAAAAAAAAAAAAAAAAAAAAAAAAAAAAAAAAAAAAQAAAADAAAAAwAAAAAAAAAAAAAAAAAAAAAAAAAAAAAABAAAAAAAAAAAAAAAAwAAAAAAAAAAAAAAAAAAAAAAAAAEAAAAAAAAAAAAAAAAAAAAAAAAAAAAAAAAAAAAAAAAAAAAAAADAAAABAAAAAAAAAAAAAAABAAAAAAAAAAAAAAAAAAAAAAAAAAAAAAAAwAAAAAAAAAAAAAAAAAAAAAAAAAAAAAAAAAAAAQAAAAAAAAAAAAAAAQAAAAAAAAABAAAAAAAAAAAAAAAAAAAAAAAAAAAAAAAAAAAAAAAAAAAAAAAAAAAAAMAAAAAAAAAAAAAAAQAAAAAAAAAAAAAAAAAAAACAAAAAwAAAAQAAAADAAAAAAAAAAAAAAADAAAAAAAAAAQAAAAAAAAAAAAAAAAAAAAEAAAAAAAAAAAAAAAAAAAAAAAAAAAAAAAEAAAAAwAAAAAAAAAAAAAAAAAAAAAAAAADAAAAAAAAAAAAAAAAAAAAAAAAAAAAAAAAAAAAAwAAAAAAAAAAAAAAAAAAAAQAAAAAAAAAAAAAAAQAAAADAAAAAAAAAAMAAAAAAAAAAAAAAAAAAAAAAAAAAwAAAAAAAAADAAAAAAAAAAAAAAAAAAAAAAAAAAAAAAADAAAAAAAAAAQAAAAAAAAAAwAAAAAAAAAAAAAAAAAAAAQAAAAAAAAABAAAAAQAAAAAAAAAAAAAAAAAAAAAAAAAAAAAAAMAAAAAAAAAAAAAAAQAAAAAAAAAAAAAAAAAAAAEAAAAAAAAAAQAAAADAAAAAAAAAAAAAAADAAAAAAAAAAAAAAAAAAAAAAAAAAMAAAAAAAAAAAAAAAQAAAAAAAAAAAAAAAAAAAAAAAAABAAAAAAAAAAAAAAAAwAAAAQAAAAEAAAAAAAAAAQAAAAAAAAAAwAAAAMAAAAEAAAAAAAAAAAAAAAAAAAAAAAAAAAAAAAEAAAAAAAAAAAAAAAAAAAABAAAAAAAAAAAAAAAAAAAAAAAAAAAAAAAAAAAAAAAAAADAAAAAAAAAAQAAAAAAAAAAAAAAAQAAAAAAAAAAAAAAAMAAAADAAAAAAAAAAAAAAAAAAAAAAAAAAAAAAAAAAAAAwAAAAQAAAAAAAAAAAAAAAQAAAAAAAAAAwAAAAAAAAAAAAAAAwAAAAQAAAADAAAAAAAAAAMAAAAAAAAAAAAAAAQAAAAAAAAAAwAAAAQAAAAAAAAAAAAAAAAAAAAAAAAABAAAAAAAAAAAAAAABAAAAAAAAAAEAAAAAAAAAAAAAAAEAAAAAAAAAAQAAAADAAAAAwAAAAMAAAADAAAAAwAAAAMAAAADAAAAAAAAAAMAAAAAAAAAAAAAAAAAAAAAAAAAAAAAAAAAAAAAAAAAAwAAAAAAAAAAAAAAAgAAAAMAAAAEAAAAAAAAAAAAAAAAAAAAAAAAAAQAAAAAAAAAAAAAAAQAAAAAAAAAAAAAAAAAAAAAAAAAAAAAAAAAAAAAAAAAAwAAAAQAAAAEAAAAAAAAAAMAAAADAAAAAAAAAAAAAAADAAAABAAAAAMAAAAAAAAAAAAAAAMAAAAAAAAAAwAAAAAAAAAAAAAAAAAAAAQAAAAAAAAABAAAAAAAAAADAAAAAwAAAAMAAAAAAAAABAAAAAMAAAAAAAAAAwAAAAAAAAADAAAAAwAAAAMAAAAEAAAABAAAAAAAAAADAAAAAAAAAAAAAAAAAAAAAAAAAAMAAAAAAAAAAwAAAAQAAAADAAAAAAAAAAAAAAAAAAAABAAAAAAAAAAAAAAAAwAAAAQAAAADAAAAAAAAAAIAAAAAAAAAAAAAAAMAAAAAAAAAAwAAAAMAAAAEAAAABAAAAAAAAAAAAAAAAAAAAAAAAAADAAAABAAAAAAAAAAAAAAABAAAAAQAAAADAAAAAwAAAAAAAAADAAAAAwAAAAAAAAAAAAAAAwAAAAQAAAADAAAABAAAAAQAAAAAAAAABAAAAAAAAAAAAAAABAAAAAMAAAAEAAAAAAAAAAMAAAADAAAABAAAAAAAAAAEAAAAAwAAAAMAAAADAAAAAwAAAAAAAAAEAAAAAwAAAAAAAAADAAAAAAAAAAQAAAAEAAAABAAAAAQAAAADAAAAAAAAAAMAAAAAAAAAAAAAAAQAAAAAAAAABAAAAAMAAAAEAAAAAAAAAAAAAAADAAAAAwAAAAAAAAACAAAABAAAAAAAAAAEAAAABAAAAAAAAAADAAAABAAAAAAAAAAAAAAAAAAAAAAAAAAEAAAAAwAAAAQAAAADAAAAAAAAAAAAAAAEAAAAAwAAAAAAAAADAAAAAwAAAAMAAAADAAAAAAAAAAAAAAADAAAAAAAAAAMAAAAEAAAAAAAAAAAAAAAEAAAAAAAAAAAAAAAAAAAAAAAAAAAAAAAAAAAAAAAAAAAAAAAEAAAAAAAAAAAAAAAAAAAAAwAAAAAAAAADAAAAAAAAAAQAAAAAAAAAAAAAAAAAAAAAAAAAAAAAAAAAAAAAAAAAAAAAAAAAAAAAAAAAAwAAAAAAAAAAAAAABAAAAAAAAAAAAAAAAAAAAAAAAAAEAAAABAAAAAAAAAADAAAABAAAAAMAAAAAAAAAAwAAAAQAAAADAAAABAAAAAQAAAAEAAAABAAAAAEAAAAEAAAABAAAAAAAAAADAAAAAwAAAAQAAAA=\",\"dtype\":\"int32\",\"order\":\"little\",\"shape\":[533]},\"CoinName\":[\"42 Coin\",\"404Coin\",\"EliteCoin\",\"Bitcoin\",\"Ethereum\",\"Litecoin\",\"Dash\",\"Monero\",\"Ethereum Classic\",\"ZCash\",\"Bitshares\",\"DigiByte\",\"BitcoinDark\",\"PayCoin\",\"ProsperCoin\",\"KoboCoin\",\"Spreadcoin\",\"Argentum\",\"Aurora Coin\",\"BlueCoin\",\"MyriadCoin\",\"MoonCoin\",\"ZetaCoin\",\"SexCoin\",\"Quatloo\",\"EnergyCoin\",\"QuarkCoin\",\"Riecoin\",\"Digitalcoin \",\"BitBar\",\"Catcoin\",\"CryptoBullion\",\"CannaCoin\",\"CryptCoin\",\"CasinoCoin\",\"Diamond\",\"Verge\",\"DevCoin\",\"EarthCoin\",\"E-Gulden\",\"Einsteinium\",\"Emerald\",\"Exclusive Coin\",\"FlutterCoin\",\"Franko\",\"FeatherCoin\",\"GrandCoin\",\"GlobalCoin\",\"GoldCoin\",\"HoboNickels\",\"HyperStake\",\"Infinite Coin\",\"IOCoin\",\"IXcoin\",\"KrugerCoin\",\"LuckyCoin\",\"Litebar \",\"MaxCoin\",\"MegaCoin\",\"MediterraneanCoin\",\"MintCoin\",\"MinCoin\",\"MazaCoin\",\"Nautilus Coin\",\"NavCoin\",\"NobleCoin\",\"Namecoin\",\"NyanCoin\",\"OpalCoin\",\"Orbitcoin\",\"PotCoin\",\"PhoenixCoin\",\"Reddcoin\",\"RonPaulCoin\",\"StableCoin\",\"SmartCoin\",\"SuperCoin\",\"SyncCoin\",\"SysCoin\",\"TeslaCoin\",\"TigerCoin\",\"TittieCoin\",\"TorCoin\",\"TerraCoin\",\"UnbreakableCoin\",\"Unobtanium\",\"UroCoin\",\"UnitaryStatus Dollar\",\"UltraCoin\",\"ViaCoin\",\"VeriCoin\",\"Vertcoin\",\"WorldCoin\",\"X11 Coin\",\"Crypti\",\"JouleCoin\",\"StealthCoin\",\"ZCC Coin\",\"ByteCoin\",\"DigitalNote \",\"BurstCoin\",\"StorjCoin\",\"MonaCoin\",\"Neutron\",\"FairCoin\",\"Gulden\",\"RubyCoin\",\"PesetaCoin\",\"Kore\",\"Wild Beast Coin\",\"Dnotes\",\"Flo\",\"8BIT Coin\",\"Sativa Coin\",\"ArtByte\",\"Folding Coin\",\"Ucoin\",\"Unitus\",\"CypherPunkCoin\",\"OmniCron\",\"Vtorrent\",\"GreenCoin\",\"Cryptonite\",\"MasterCoin\",\"SoonCoin\",\"1Credit\",\"IslaCoin\",\"Nexus\",\"MarsCoin \",\"Crypto\",\"Anarchists Prime\",\"Droidz\",\"BowsCoin\",\"Squall Coin\",\"Song Coin\",\"BitZeny\",\"Diggits\",\"Expanse\",\"Paycon\",\"Siacoin\",\"Emercoin\",\"EverGreenCoin\",\"MindCoin\",\"I0coin\",\"Decred\",\"Revolution VR\",\"HOdlcoin\",\"EDRCoin\",\"Hitcoin\",\"Gamecredits\",\"DubaiCoin\",\"CarpeDiemCoin\",\"PWR Coin\",\"BillaryCoin\",\"GPU Coin\",\"Adzcoin\",\"SoilCoin\",\"YoCoin\",\"SibCoin\",\"EuropeCoin\",\"ZeitCoin\",\"SwingCoin\",\"SafeExchangeCoin\",\"Nebuchadnezzar\",\"Francs\",\"BolivarCoin\",\"Ratecoin\",\"Revenu\",\"Clockcoin\",\"VIP Tokens\",\"BitSend\",\"Omni\",\"Let it Ride\",\"PutinCoin\",\"iBankCoin\",\"Frankywillcoin\",\"MudraCoin\",\"PizzaCoin\",\"Lutetium Coin\",\"Komodo\",\"GoldBlocks\",\"CarterCoin\",\"Karbo\",\"BitTokens\",\"ZayedCoin\",\"MustangCoin\",\"ZoneCoin\",\"Circuits of Value\",\"RootCoin\",\"DopeCoin\",\"BitCurrency\",\"DollarCoin\",\"Swiscoin\",\"Shilling\",\"BuzzCoin\",\"Opair\",\"PesoBit\",\"Halloween Coin\",\"ZCoin\",\"CoffeeCoin\",\"RoyalCoin\",\"GanjaCoin V2\",\"TeamUP\",\"LanaCoin\",\"Elementrem\",\"ZClassic\",\"ARK\",\"InsaneCoin\",\"KiloCoin\",\"ArtexCoin\",\"EmberCoin\",\"XenixCoin\",\"FreeCoin\",\"PLNCoin\",\"AquariusCoin\",\"Kurrent\",\"Creatio\",\"Eternity\",\"Eurocoin\",\"BitcoinFast\",\"Stakenet\",\"BitConnect Coin\",\"MoneyCoin\",\"Enigma\",\"Cannabis Industry Coin\",\"Russiacoin\",\"PandaCoin\",\"GameUnits\",\"GAKHcoin\",\"Allsafe\",\"LiteCreed\",\"OsmiumCoin\",\"Bikercoins\",\"HexxCoin\",\"Klingon Empire Darsek\",\"Internet of People\",\"KushCoin\",\"Printerium\",\"PacCoin\",\"Impeach\",\"Citadel\",\"Zilbercoin\",\"FirstCoin\",\"BeaverCoin\",\"FindCoin\",\"VaultCoin\",\"Zero\",\"OpenChat\",\"Canada eCoin\",\"Zoin\",\"RenosCoin\",\"DubaiCoin\",\"VirtacoinPlus\",\"TajCoin\",\"Impact\",\"EB3coin\",\"Atmos\",\"HappyCoin\",\"Coinonat\",\"MacronCoin\",\"Condensate\",\"Independent Money System\",\"ArgusCoin\",\"LomoCoin\",\"ProCurrency\",\"GoldReserve\",\"BenjiRolls\",\"GrowthCoin\",\"ILCoin\",\"Phreak\",\"Degas Coin\",\"HTML5 Coin\",\"Ultimate Secure Cash\",\"EquiTrader\",\"QTUM\",\"Quantum Resistant Ledger\",\"Espers\",\"Dynamic\",\"Nano\",\"ChanCoin\",\"Dinastycoin\",\"Denarius\",\"DigitalPrice\",\"Virta Unique Coin\",\"Bitcoin Planet\",\"Unify\",\"BritCoin\",\"SocialCoin\",\"ArcticCoin\",\"DAS\",\"Linda\",\"LeviarCoin\",\"DeepOnion\",\"Bitcore\",\"gCn Coin\",\"SmartCash\",\"Signatum\",\"Onix\",\"Cream\",\"Bitcoin Cash\",\"Monoeci\",\"Draftcoin\",\"Vechain\",\"Sojourn Coin\",\"Stakecoin\",\"NewYorkCoin\",\"FrazCoin\",\"Kronecoin\",\"AdCoin\",\"Linx\",\"CoinonatX\",\"Ethereum Dark\",\"Sumokoin\",\"Obsidian\",\"Cardano\",\"Regalcoin\",\"BitcoinZ\",\"TrezarCoin\",\"Elements\",\"TerraNovaCoin\",\"VIVO Coin\",\"Rupee\",\"Bitcoin Gold\",\"WomenCoin\",\"Theresa May Coin\",\"NamoCoin\",\"LUXCoin\",\"Pirl\",\"Xios\",\"Bitcloud 2.0\",\"eBoost\",\"KekCoin\",\"BlackholeCoin\",\"Infinity Economics\",\"Pura\",\"Innova\",\"Ellaism\",\"GoByte\",\"Magnet\",\"Lamden Tau\",\"Electra\",\"Bitcoin Diamond\",\"SHIELD\",\"Cash & Back Coin\",\"UltraNote\",\"BitCoal\",\"DaxxCoin\",\"Bulwark\",\"Kalkulus\",\"AC3\",\"Lethean\",\"GermanCoin\",\"LiteCoin Ultra\",\"PopularCoin\",\"PhantomX\",\"Photon\",\"Sucre\",\"SparksPay\",\"Digiwage\",\"GunCoin\",\"IrishCoin\",\"Trollcoin\",\"Litecoin Plus\",\"Monkey Project\",\"Pioneer Coin\",\"UnitedBitcoin\",\"Interzone\",\"TokenPay\",\"1717 Masonic Commemorative Token\",\"My Big Coin\",\"TurtleCoin\",\"MUNcoin\",\"Unified Society USDEX\",\"Niobio Cash\",\"ShareChain\",\"Travelflex\",\"KREDS\",\"Tokyo Coin\",\"BiblePay\",\"LitecoinCash\",\"BitFlip\",\"LottoCoin\",\"Crypto Improvement Fund\",\"Stipend\",\"Poa Network\",\"Pushi\",\"Ellerium\",\"Velox\",\"Ontology\",\"Callisto Network\",\"BitTube\",\"Poseidon\",\"Aidos Kuneen\",\"Bitspace\",\"Briacoin\",\"Ignition\",\"Bitrolium\",\"MedicCoin\",\"Alpenschillling\",\"Bitcoin Green\",\"Deviant Coin\",\"Abjcoin\",\"Semux\",\"FuturoCoin\",\"Carebit\",\"Zealium\",\"Monero Classic\",\"Proton\",\"iDealCash\",\"Jumpcoin\",\"Infinex\",\"Bitcoin Incognito\",\"KEYCO\",\"HollyWoodCoin\",\"GINcoin\",\"PlatinCoin\",\"Loki\",\"Newton Coin\",\"Swisscoin\",\"Xt3ch\",\"MassGrid\",\"TheVig\",\"PluraCoin\",\"EmaratCoin\",\"Dekado\",\"Lynx\",\"Poseidon Quark\",\"BitcoinWSpectrum\",\"Muse\",\"Motion\",\"PlusOneCoin\",\"Axe\",\"Trivechain\",\"Dystem\",\"Giant\",\"Peony Coin\",\"Absolute Coin\",\"Vitae\",\"HexCoin\",\"TPCash\",\"Webchain\",\"Ryo\",\"Urals Coin\",\"Qwertycoin\",\"ARENON\",\"EUNO\",\"MMOCoin\",\"Ketan\",\"Project Pai\",\"XDNA\",\"PAXEX\",\"Azart\",\"ThunderStake\",\"Kcash\",\"Xchange\",\"Acute Angle Cloud\",\"CrypticCoin\",\"Bettex coin\",\"Actinium\",\"Bitcoin SV\",\"BitMoney\",\"Junson Ming Chan Coin\",\"FREDEnergy\",\"HerbCoin\",\"Universal Molecule\",\"Lithium\",\"PirateCash\",\"Exosis\",\"Block-Logic\",\"Oduwa\",\"Beam\",\"Galilel\",\"Bithereum\",\"Crypto Sports\",\"Credit\",\"SLICE\",\"Dash Platinum\",\"Nasdacoin\",\"Beetle Coin\",\"Titan Coin\",\"Award\",\"BLAST\",\"Bitcoin Rhodium\",\"GlobalToken\",\"Insane Coin\",\"ALAX\",\"LiteDoge\",\"SolarCoin\",\"TruckCoin\",\"UFO Coin\",\"OrangeCoin\",\"BlakeCoin\",\"BitstarCoin\",\"NeosCoin\",\"HyperCoin\",\"PinkCoin\",\"Crypto Escudo\",\"AudioCoin\",\"IncaKoin\",\"Piggy Coin\",\"Crown Coin\",\"Genstake\",\"SmileyCoin\",\"XiaoMiCoin\",\"Groestlcoin\",\"CapriCoin\",\" ClubCoin\",\"Radium\",\"Bata\",\"Pakcoin\",\"Creditbit \",\"OKCash\",\"Lisk\",\"HiCoin\",\"WhiteCoin\",\"FriendshipCoin\",\"Fiii\",\"JoinCoin\",\"Triangles Coin\",\"Vollar\",\"EOS\",\"Reality Clash\",\"Oxycoin\",\"TigerCash\",\"Waves\",\"Particl\",\"BitTorrent\",\"Nxt\",\"ZEPHYR\",\"Gapcoin\",\"Beldex\",\"Horizen\",\"BitcoinPlus\"],\"ProofType\":[16,16,16,13,13,13,16,13,13,13,8,13,16,8,13,16,13,13,16,16,13,13,13,13,13,16,13,13,13,16,13,16,13,13,7,16,13,13,13,13,13,13,8,11,13,13,13,13,13,16,8,13,16,13,13,13,13,16,13,13,8,13,16,8,16,13,13,13,16,16,16,16,16,13,13,13,8,16,13,8,13,8,16,13,13,13,13,16,16,13,12,13,13,16,8,13,16,16,13,13,7,8,13,16,16,13,8,13,16,13,8,13,16,16,13,13,8,13,13,13,16,13,13,13,13,13,16,19,13,13,13,16,13,10,13,13,8,13,16,13,16,16,13,13,16,13,13,16,16,13,16,13,16,16,8,13,13,13,13,16,8,16,7,8,13,13,16,16,16,16,16,13,8,16,16,16,8,13,8,25,16,16,13,16,13,16,16,13,16,13,8,13,18,13,16,8,16,16,13,8,8,16,8,16,13,13,2,16,13,13,16,16,8,16,16,13,8,16,16,16,23,16,16,16,13,16,8,16,16,8,16,13,13,13,16,16,16,16,13,16,13,8,17,13,8,13,13,16,13,13,8,13,16,16,16,13,8,16,13,8,16,16,16,16,8,16,13,8,13,8,16,16,8,13,8,13,16,13,13,13,13,16,13,16,16,13,16,13,13,13,16,13,16,13,13,13,8,13,16,13,16,8,21,13,8,13,13,13,13,13,16,16,13,8,8,16,13,16,13,16,13,8,13,16,16,16,16,13,16,16,13,8,16,8,13,13,13,13,16,2,16,16,13,16,13,13,13,8,8,13,13,16,16,13,16,13,13,13,8,13,13,16,16,8,13,13,13,8,8,15,13,13,16,13,13,13,13,8,5,14,13,13,13,16,6,16,16,8,8,13,13,13,13,16,16,16,13,8,13,8,8,16,2,13,16,8,13,8,16,13,13,10,13,8,13,13,13,13,16,8,13,16,13,16,8,3,8,8,8,13,13,13,16,8,16,8,16,8,13,16,13,13,13,13,8,16,8,8,13,16,8,13,16,24,13,0,13,8,13,13,20,8,13,16,13,13,8,13,13,16,13,16,13,8,16,13,8,16,16,16,16,13,13,13,16,2,16,13,16,13,16,13,16,8,16,16,13,16,16,16,13,16,13,16,13,16,16,8,13,13,22,16,2,8,16,16,1,13,16,13,2,13,2,8,4,8,2,9,2,16,13,13,8],\"TotalCoinSupply\":[\"42\",\"532000000\",\"314159265359\",\"21000000\",\"0\",\"84000000\",\"22000000\",\"0\",\"210000000\",\"21000000\",\"3600570502\",\"21000000000\",\"22000000\",\"12500000\",\"21000000\",\"350000000\",\"20000000\",\"64000000\",\"16768584\",\"0\",\"2000000000\",\"384000000000\",\"169795588\",\"250000000\",\"100000000\",\"0\",\"247000000\",\"84000000\",\"48166000\",\"500000\",\"21000000 \",\"1000000\",\"13140000\",\"18000000\",\"40000000000\",\"4380000\",\"16555000000\",\"21000000000\",\"13500000000\",\"21000000 \",\"299792458\",\"32000000\",\"0\",\"0\",\"11235813\",\"336000000\",\"1420609614\",\"70000000\",\"72245700\",\"120000000\",\"0\",\"90600000000\",\"22000000\",\"21000000\",\"265420800\",\"20000000\",\"1350000\",\"100000000\",\"42000000\",\"200000000\",\"0\",\"10000000\",\"2419200000\",\"16180000\",\"0\",\"15000000000\",\"21000000\",\"337000000\",\"0\",\"3770000\",\"420000000\",\"98000000\",\"0\",\"21000000\",\"250000000\",\"51200000\",\"0\",\"1000\",\"888000000\",\"100000000\",\"47011968\",\"2300000000\",\"10000000\",\"42000000\",\"80000000\",\"250000\",\"0\",\"1600000000\",\"100000000\",\"23000000\",\"0\",\"84000000\",\"265420800\",\"5500000\",\"0\",\"45000000\",\"0\",\"1000000000\",\"184467440735\",\"10000000000\",\"2158812800\",\"500000000\",\"105120000\",\"68000000\",\"0\",\"1680000000\",\"0\",\"166386000\",\"12000000\",\"2628000\",\"500000000\",\"160000000\",\"0\",\"10000000\",\"1000000000\",\"1000000000\",\"20000000\",\"0\",\"0\",\"3371337\",\"20000000\",\"10000000000\",\"1840000000\",\"619478\",\"21000000\",\"92000000000\",\"0\",\"78000000\",\"33000000\",\"65789100\",\"53760000\",\"5060000\",\"21000000\",\"0\",\"210240000\",\"250000000\",\"100000000\",\"16906397\",\"50000000\",\"0\",\"1000000000\",\"26298000\",\"16000000\",\"21000000\",\"21000000\",\"210000000\",\"81962100\",\"22000000\",\"26550000000\",\"84000000\",\"10500000\",\"21626280000 \",\"0\",\"42000000\",\"221052632\",\"84000000\",\"30000000\",\"168351300\",\"24000000\",\"384000000\",\" 99000000000\",\"40000000\",\"2147483647\",\"20000000\",\"20000000\",\"25000000\",\"75000000\",\"222725000\",\"525000000\",\"90000000\",\"139000000\",\"616448\",\"33500000\",\"2000000000\",\"44333333\",\"100000000\",\"200000000\",\"25000000\",\"657000000\",\"200000000\",\"50000000\",\"90000000\",\"10000000\",\"21000000\",\"9736000\",\"3000000\",\"21000000\",\"1200000000\",\"0\",\"200000000\",\"0\",\"10638298\",\"3100000000\",\"30000000\",\"20000000000\",\"74000000\",\"0\",\"1500000000\",\"21400000\",\"39999898\",\"2500124\",\"100000000\",\"301000000\",\"7506000000\",\"26205539\",\"21000000\",\"125000000\",\"30000000\",\"10000000000\",\"500000000\",\"850000000\",\"3853326.77707314\",\"50000000\",\"38540000 \",\"42000000\",\"228000000\",\"20000000\",\"60000000\",\"20000000\",\"33000000\",\"76500000\",\"28000000\",\"650659833\",\"5000000\",\"21000000\",\"144000000\",\"32514916898\",\"13000000\",\"3315789\",\"15000000\",\"78835200\",\"2714286\",\"25000000\",\"9999999\",\"500000000\",\"21000000\",\"9354000\",\"20000000\",\"100000000000\",\"21933333\",\"185000000\",\"55000000\",\"110000000\",\"3360000\",\"14524851.4827\",\"1000000000\",\"17000000\",\"1000000000\",\"100000000 \",\"21000000\",\"34426423\",\"2232901\",\"100000000\",\"36900000\",\"110000000\",\"4000000000\",\"110290030\",\"100000000\",\"48252000\",\"400000000\",\"500000000\",\"21212121\",\"28600000\",\"1000000000\",\"75000000000\",\"40000000\",\"35520400\",\"2000000000\",\"2500000000\",\"30000000\",\"105000000\",\"90000000000\",\"200084200\",\"72000000\",\"100000000\",\"105000000\",\"50000000000\",\"0\",\"340282367\",\"30000000\",\"2000000000\",\"10000000\",\"100000000\",\"120000000\",\"100000000\",\"19276800\",\"30000000\",\" 75000000\",\"60000000\",\"18900000\",\"50000000000\",\"54000000\",\"18898187.6216583\",\"21000000\",\"200000000000\",\"5000000000\",\"137500000\",\"1100000000\",\"100000000\",\"21000000\",\"9507271\",\"17405891.19707116\",\"86712634466\",\"10500000000\",\"61599965\",\"0\",\"20000000\",\"84000000\",\"100000000\",\"100000000\",\"48252000\",\"4200000\",\"88888888\",\"91388946\",\"45000000000\",\"27000000\",\"21000000000\",\"400000000\",\"1800000000\",\"15733333\",\"27000000\",\"24000000\",\"21000000\",\"25000000000\",\"100000000\",\"1200000000\",\"60000000\",\"156306732.71\",\"21000000\",\"200000000\",\"100000000\",\"21000000\",\"14788275.991\",\"9000000000\",\"350000000\",\"45000000\",\"280000000\",\"31800000\",\"144000000\",\"500000000\",\"30000000000\",\"210000000\",\"660000000\",\"210000000\",\"85000000000\",\"12500000\",\"10000000000\",\"27716121\",\"20000000\",\"550000000\",\"999481516\",\"50000000000\",\"150000000\",\"4999999999\",\"50000000\",\" 90000000000\",\"19800000\",\"21000000\",\"120000000\",\"500000000\",\"64000000\",\"900000000\",\"4000000\",\"21000000\",\"23000000\",\"20166000\",\"23000000\",\"25000000\",\"1618033\",\"30000000\",\"1000000000000\",\"16600000\",\"232000000\",\"336000000\",\"10000000000\",\"100000000\",\"1100000000\",\"800000000\",\"5200000000\",\"840000000\",\"40000000\",\"18406979840\",\"500000000\",\"19340594\",\"252460800\",\"25000000\",\"60000000\",\"124000000\",\"1000000000\",\"6500000000\",\"1000000000\",\"21000000\",\"25000000\",\"50000000\",\"3000000\",\"5000000\",\"70000000\",\"500000000\",\"300000000\",\"21000000\",\"88000000\",\"30000000\",\"100000000\",\"100000000\",\"200000000\",\"80000000\",\"18400000\",\"45000000\",\"5121951220\",\"21000000\",\"26280000\",\"21000000\",\"18000000\",\"26000000\",\"10500000\",\"600000518\",\"150000000\",\"184000000000\",\"10200000000\",\"44000000\",\"168000000\",\"100000000\",\"1000000000\",\"84000000\",\"90000000\",\"92000000000\",\"650000000 \",\"100262205\",\"18081806 \",\"22075700\",\"21000000\",\"21000000\",\"82546564\",\"21000000\",\"5151000\",\"16880000000\",\"52500000\",\"100000000\",\"22105263\",\"1000000000\",\"1750000000\",\"88188888\",\"210000000\",\"184470000000\",\"55000000\",\"50000000\",\"260000000\",\"210000000\",\"2100000000\",\"366000000\",\"100000000\",\"25000000\",\"18000000000\",\"1000000000\",\"100000000\",\"1000000000\",\"7600000000\",\"50000000\",\"84000000\",\"21000000\",\"70000000000\",\"0\",\"8080000000\",\"54000000\",\"105120001.44\",\"25228800\",\"105000000\",\"21000000\",\"120000000\",\"21000000\",\"262800000\",\"19035999\",\"30886000\",\"13370000\",\"74800000000\",\"100000000\",\"19700000\",\"84000000\",\"500000000\",\"5000000000\",\"420000000\",\"64000000\",\"2100000\",\"168000000\",\"30000000\",\"1000000000\",\"35000000000\",\"98100000000\",\"0\",\"4000000000\",\"200000000\",\"7000000000\",\"54256119\",\"21000000\",\"0\",\"500000000\",\"1000000000\",\"10500000000\",\"190000000\",\"1000000000\",\"42000000\",\"15000000\",\"50000000000\",\"400000000\",\"105000000\",\"208000000\",\"160000000\",\"9000000\",\"5000000\",\"182000000\",\"16504333\",\"105000000\",\"159918400\",\"10008835635\",\"300000000\",\"60168145\",\"5000000000\",\"2800000\",\"120000\",\"2100000000\",\"0\",\"24487944\",\"0\",\"1000000000\",\"100000000\",\"8634140\",\"990000000000\",\"1000000000\",\"2000000000\",\"250000000\",\"1400222610\",\"21000000\",\"1000000\"],\"TotalCoinsMined\":{\"__ndarray__\":\"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\",\"dtype\":\"float64\",\"order\":\"little\",\"shape\":[533]}},\"selected\":{\"id\":\"2524\"},\"selection_policy\":{\"id\":\"2559\"}},\"id\":\"2523\",\"type\":\"ColumnDataSource\"},{\"attributes\":{\"children\":[{\"id\":\"2522\"},{\"id\":\"2555\"},{\"id\":\"2562\"}],\"margin\":[0,0,0,0],\"name\":\"Row04649\",\"tags\":[\"embedded\"]},\"id\":\"2521\",\"type\":\"Row\"},{\"attributes\":{\"format\":\"0,0.0[00000]\"},\"id\":\"2545\",\"type\":\"NumberFormatter\"},{\"attributes\":{},\"id\":\"2530\",\"type\":\"NumberFormatter\"},{\"attributes\":{\"margin\":[5,5,5,5],\"name\":\"HSpacer04653\",\"sizing_mode\":\"stretch_width\"},\"id\":\"2522\",\"type\":\"Spacer\"},{\"attributes\":{},\"id\":\"2546\",\"type\":\"NumberEditor\"},{\"attributes\":{},\"id\":\"2531\",\"type\":\"IntEditor\"},{\"attributes\":{\"margin\":[5,5,5,5],\"name\":\"HSpacer04654\",\"sizing_mode\":\"stretch_width\"},\"id\":\"2562\",\"type\":\"Spacer\"},{\"attributes\":{\"editor\":{\"id\":\"2546\"},\"field\":\"TotalCoinsMined\",\"formatter\":{\"id\":\"2545\"},\"title\":\"TotalCoinsMined\"},\"id\":\"2547\",\"type\":\"TableColumn\"},{\"attributes\":{\"editor\":{\"id\":\"2531\"},\"field\":\"Algorithm\",\"formatter\":{\"id\":\"2530\"},\"title\":\"Algorithm\"},\"id\":\"2532\",\"type\":\"TableColumn\"},{\"attributes\":{},\"id\":\"2550\",\"type\":\"NumberFormatter\"},{\"attributes\":{},\"id\":\"2535\",\"type\":\"NumberFormatter\"}],\"root_ids\":[\"2521\"]},\"title\":\"Bokeh Application\",\"version\":\"2.3.2\"}};\n",
       "    var render_items = [{\"docid\":\"9af78196-7ff1-4e9a-ad0d-9649b6b16775\",\"root_ids\":[\"2521\"],\"roots\":{\"2521\":\"4dc7c354-20df-4d60-9a33-6f1f7669388d\"}}];\n",
       "    root.Bokeh.embed.embed_items_notebook(docs_json, render_items);\n",
       "  }\n",
       "  if (root.Bokeh !== undefined && root.Bokeh.Panel !== undefined) {\n",
       "    embed_document(root);\n",
       "  } else {\n",
       "    var attempts = 0;\n",
       "    var timer = setInterval(function(root) {\n",
       "      if (root.Bokeh !== undefined && root.Bokeh.Panel !== undefined) {\n",
       "        clearInterval(timer);\n",
       "        embed_document(root);\n",
       "      } else if (document.readyState == \"complete\") {\n",
       "        attempts++;\n",
       "        if (attempts > 100) {\n",
       "          clearInterval(timer);\n",
       "          console.log(\"Bokeh: ERROR: Unable to run BokehJS code because BokehJS library is missing\");\n",
       "        }\n",
       "      }\n",
       "    }, 10, root)\n",
       "  }\n",
       "})(window);</script>"
      ],
      "text/plain": [
       ":Table   [CoinName,Algorithm,ProofType,TotalCoinSupply,TotalCoinsMined,Class]"
      ]
     },
     "execution_count": 48,
     "metadata": {
      "application/vnd.holoviews_exec.v0+json": {
       "id": "2521"
      }
     },
     "output_type": "execute_result"
    }
   ],
   "source": [
    "# Table with tradable cryptos\n",
    "clustered_df.hvplot.table(columns=['CoinName', 'Algorithm', 'ProofType', 'TotalCoinSupply', 'TotalCoinsMined', 'Class'], \n",
    "sortable=True, selectable=True)"
   ]
  },
  {
   "cell_type": "code",
   "execution_count": 49,
   "metadata": {},
   "outputs": [
    {
     "data": {
      "text/plain": [
       "533"
      ]
     },
     "execution_count": 49,
     "metadata": {},
     "output_type": "execute_result"
    }
   ],
   "source": [
    "# Print the total number of tradable cryptocurrencies\n",
    "len(clustered_df.CoinName)"
   ]
  },
  {
   "cell_type": "markdown",
   "metadata": {},
   "source": [
    "#### Scatter Plot with Tradable Cryptocurrencies"
   ]
  },
  {
   "cell_type": "code",
   "execution_count": 50,
   "metadata": {},
   "outputs": [],
   "source": [
    "# Scale data to create the scatter plot\n",
    "\n",
    "clustered_df[\"TotalCoinSupply\"]= clustered_df[\"TotalCoinSupply\"].astype(float)/100000000\n",
    "clustered_df[\"TotalCoinsMined\"]= clustered_df[\"TotalCoinsMined\"].astype(float)/100000000"
   ]
  },
  {
   "cell_type": "code",
   "execution_count": 42,
   "metadata": {},
   "outputs": [],
   "source": []
  },
  {
   "cell_type": "code",
   "execution_count": 51,
   "metadata": {},
   "outputs": [
    {
     "data": {},
     "metadata": {},
     "output_type": "display_data"
    },
    {
     "data": {
      "application/vnd.holoviews_exec.v0+json": "",
      "text/html": [
       "<div id='2574'>\n",
       "\n",
       "\n",
       "\n",
       "\n",
       "\n",
       "  <div class=\"bk-root\" id=\"190796b5-c3c4-4f69-8a2c-f8610559e16f\" data-root-id=\"2574\"></div>\n",
       "</div>\n",
       "<script type=\"application/javascript\">(function(root) {\n",
       "  function embed_document(root) {\n",
       "    var docs_json = {\"09a8fc1f-1713-4441-b10e-8bf565d76c7e\":{\"defs\":[],\"roots\":{\"references\":[{\"attributes\":{\"source\":{\"id\":\"2619\"}},\"id\":\"2626\",\"type\":\"CDSView\"},{\"attributes\":{\"callback\":null,\"renderers\":[{\"id\":\"2625\"},{\"id\":\"2646\"},{\"id\":\"2668\"},{\"id\":\"2692\"},{\"id\":\"2718\"}],\"tags\":[\"hv_created\"],\"tooltips\":[[\"Class\",\"@{Class}\"],[\"TotalCoinsMined\",\"@{TotalCoinsMined}\"],[\"TotalCoinSupply\",\"@{TotalCoinSupply}\"],[\"CoinName\",\"@{CoinName}\"]]},\"id\":\"2578\",\"type\":\"HoverTool\"},{\"attributes\":{\"angle\":{\"value\":0.0},\"fill_alpha\":{\"value\":1.0},\"fill_color\":{\"value\":\"#6d904f\"},\"hatch_alpha\":{\"value\":1.0},\"hatch_color\":{\"value\":\"black\"},\"hatch_scale\":{\"value\":12.0},\"hatch_weight\":{\"value\":1.0},\"line_alpha\":{\"value\":1.0},\"line_cap\":{\"value\":\"butt\"},\"line_color\":{\"value\":\"#6d904f\"},\"line_dash\":{\"value\":[]},\"line_dash_offset\":{\"value\":0},\"line_join\":{\"value\":\"bevel\"},\"line_width\":{\"value\":1},\"marker\":{\"value\":\"circle\"},\"size\":{\"value\":5.477225575051661},\"x\":{\"field\":\"TotalCoinsMined\"},\"y\":{\"field\":\"TotalCoinSupply\"}},\"id\":\"2711\",\"type\":\"Scatter\"},{\"attributes\":{},\"id\":\"2635\",\"type\":\"UnionRenderers\"},{\"attributes\":{\"fill_alpha\":{\"value\":0.2},\"fill_color\":{\"value\":\"#30a2da\"},\"line_alpha\":{\"value\":0.2},\"line_color\":{\"value\":\"#30a2da\"},\"size\":{\"value\":5.477225575051661},\"x\":{\"field\":\"TotalCoinsMined\"},\"y\":{\"field\":\"TotalCoinSupply\"}},\"id\":\"2624\",\"type\":\"Scatter\"},{\"attributes\":{\"data\":{\"Class\":[4,4,4,4,4,4,4,4,4,4,4,4,4,4,4,4,4,4,4,4,4,4,4,4,4,4,4,4,4,4,4,4,4,4,4,4,4,4,4,4,4,4,4,4,4,4,4,4,4,4,4,4,4,4,4,4,4,4,4,4,4,4,4,4,4,4,4,4,4,4,4,4,4,4,4,4,4,4,4,4,4,4,4,4,4,4,4,4,4,4,4,4,4,4,4,4,4,4,4,4,4,4],\"CoinName\":[\"Bitshares\",\"PayCoin\",\"CasinoCoin\",\"Exclusive Coin\",\"HyperStake\",\"MintCoin\",\"Nautilus Coin\",\"SuperCoin\",\"TeslaCoin\",\"TittieCoin\",\"Crypti\",\"BurstCoin\",\"RubyCoin\",\"Dnotes\",\"Ucoin\",\"Squall Coin\",\"Diggits\",\"GPU Coin\",\"ZeitCoin\",\"SafeExchangeCoin\",\"Nebuchadnezzar\",\"Let it Ride\",\"MudraCoin\",\"Lutetium Coin\",\"BitCurrency\",\"Opair\",\"CoffeeCoin\",\"RoyalCoin\",\"TeamUP\",\"ARK\",\"FreeCoin\",\"Creatio\",\"PandaCoin\",\"Allsafe\",\"Zilbercoin\",\"FindCoin\",\"RenosCoin\",\"Atmos\",\"MacronCoin\",\"ProCurrency\",\"GrowthCoin\",\"Phreak\",\"Ultimate Secure Cash\",\"QTUM\",\"Signatum\",\"Draftcoin\",\"Stakecoin\",\"Obsidian\",\"Cardano\",\"Rupee\",\"KekCoin\",\"Infinity Economics\",\"Lamden Tau\",\"Bulwark\",\"Kalkulus\",\"Digiwage\",\"Monkey Project\",\"TokenPay\",\"Tokyo Coin\",\"BiblePay\",\"Poa Network\",\"Velox\",\"Ontology\",\"MedicCoin\",\"Bitcoin Green\",\"Deviant Coin\",\"Semux\",\"Zealium\",\"Proton\",\"Bitcoin Incognito\",\"HollyWoodCoin\",\"Xt3ch\",\"Dekado\",\"Lynx\",\"Poseidon Quark\",\"BitcoinWSpectrum\",\"Dystem\",\"Peony Coin\",\"Vitae\",\"ARENON\",\"MMOCoin\",\"Ketan\",\"PAXEX\",\"Acute Angle Cloud\",\"Bettex coin\",\"Junson Ming Chan Coin\",\"Crypto Sports\",\"Dash Platinum\",\"ALAX\",\"NeosCoin\",\"Radium\",\"Lisk\",\"HiCoin\",\"Fiii\",\"EOS\",\"Oxycoin\",\"TigerCash\",\"Waves\",\"Particl\",\"Nxt\",\"ZEPHYR\",\"BitcoinPlus\"],\"TotalCoinSupply\":{\"__ndarray__\":\"WSkt8boAQkAAAAAAAADAPwAAAAAAAHlAAAAAAAAAAAAAAAAAAAAAAAAAAAAAAAAAEhQ/xty1xD8AAAAAAAAAAAAAAAAAAPA/AAAAAAAAN0AAAAAAAAAAAKXcfY6PljVAAAAAAAAAAAAAAAAAAAAUQJqZmZmZmck/AAAAAAAAAAAAAAAAAADwPyHHWmworwFAAAAAAADwjkAcmQXijnk1QJqZmZmZmck/cT0K16Nw1T8AAAAAAAAAQEjhehSuRxpAAAAAAAAAAACuR+F6FK7nP4oiYlKVmdk/Fkaj0OyZmT8UrkfhehQIQAAAAAAAAPQ/AAAAAAAA4D+amZmZmZnJP9gqA/9iUnRAMzMzMzMzwz+amZmZmZnhP5m9fNqAl8I/exZC1mwI1j84+vPIeqXxPwAAAAAAABBAAAAAAABwh0AAAAAAAAA0QDMzMzMzM9M/s7RTc7kBAEAAAAAAAADwPwAAAAAAAPY/Fus++49Hxj9IHuPlRLbjP8B92xuVPu0/AAAAAAAgfEC4HoXrUbjOP+F6FK5H4co/AAAAAACAVkAAAAAAAAAUQM/dKl8CvdE/mpmZmZmZyT8zMzMzMzPzP+F6FK5H4co/AAAAAAAA0D8AAAAAAAAgQAAAAAAAAEpAf8LZrWUyBEDXo3A9CtfzPwAAAAAAACRAAAAAAAAAFEDhehSuR+HKPylcj8L1KOw/AAAAAAAA8D+amZmZmZnpP83MzMzMzNw/4XoUrkfhyj+kcD0K16PQPylcj8L1KNw/zczMzMzM7D8AAAAAAMCMQAAAAAAAABpAw/kva70K8D/hehSuR+HKP5qZmZmZGWVAAAAAAAAA8D+amZmZmZnhP83MzMzMzARAzczMzMzMAEAAAAAAAADwPwAAAAAAACRAAAAAAAAA4D8AAAAAAAAAAFvTvOMUHcE/nu+nxks3yT8AAAAAAAAkQOF6FK5H4co/CtejcD0Ktz9blUT2QZb5PzZpZKGnBVlAAAAAAAAASUAAAAAAAAAAAAAAAAAAAAAAAAAAAAAAJEAAAAAAAADwP291SlF4GrY/AAAAAAAAJEAAAAAAAAA0QHsUrkfheoQ/\",\"dtype\":\"float64\",\"order\":\"little\",\"shape\":[102]},\"TotalCoinsMined\":{\"__ndarray__\":\"fPKwUGtqO0DYTlg+Q7W+P7jbr+P//3hA7r+EwIAUrT+3ajvtAskwQNrWW18OnmpAEhQ/xty1xD9Gbha++DngP+eZnuvvruk/8r6H4yc5MEAAAAAAAADwPwZj6ehdITJALXf6Kuhl0T8/p1M8gfH7P7lB5UYui5s/TidbIdP3aj8AAAAAAADwP51xEjHC59k/YxUX1GUbd0AcmQXijnk1QJqZmZmZmck/kkVy442y2D+amZmZmZmpP0jhehSuRxpArrI6YsIi+z+ifLp12bDnP9KjLddwy/c/Fkaj0OyZmT+7gspl087GP0c/lhX1T/E/AAAAAAAA4D+amZmZmZnJPzsT9l4aInVA6jBqc+3suj/qsc8Hde2dP5m9fNqAl8I/H6y15n0S1z+WS4i2H8jxP0xhEB6ODhBAGVAUjVoW8D8wHnnVX5wHQNYjidCyKL0/1QK9aHZ6uj8AAAAAAADwP/KVxIKQRvE/0zi/2pbjxz97FK5H4XqkPwAAAAAAANA/OB8qz1Q0cEC4HoXrUbjOP1zhIwIekb8/NqCU//9/VkA5yUVGGAwHQOLySOjV9MA/HkeqphC0xT/naPqRx3jRP9fHGmCskKY/BP4kLbMryj8JUb6ghWwCQHrgCuuNuDFA+sxhELtbAEALQG4VZF3QP9vcmJ6wCBpA8LckpEFiBUAIesp58hi5P7DNaB2FAMw/hR8giME2iT+ZRD5NR1q8P73/jxMmjKY/IQV1Nq3quz/YafpBucXYPzOiWJVliLM/y0V6QsNh0z/oHtLIw1WIQJYAn42G0Js/Lk9PkOB/4j/zXM0+hCGyP3ROXXAlV4U/lVA4NyIj5T9G4AKnO6rIPx2APw4CPvE/pfC/A6Hgtz9BqrQHUhCnPwAAAAAAACRAkOK7oDFgsT97xarzLINlQB966FC0z5M/4dADsDtQfT8AAAAAAAAkQD7ze04FfaY//GrLTZWQoz/+rEN/sjPzPxHNhhYoAFlAGesG4gKXTcDsIwYeMGkkQNitDeiYciZAAAAAAAAAJEAAAAAAAADwP3w0EQrMw7c/AAAAAAAAJECGYDb///8zQOkglaFsBlU/\",\"dtype\":\"float64\",\"order\":\"little\",\"shape\":[102]}},\"selected\":{\"id\":\"2713\"},\"selection_policy\":{\"id\":\"2736\"}},\"id\":\"2712\",\"type\":\"ColumnDataSource\"},{\"attributes\":{\"data_source\":{\"id\":\"2619\"},\"glyph\":{\"id\":\"2622\"},\"hover_glyph\":null,\"muted_glyph\":{\"id\":\"2624\"},\"nonselection_glyph\":{\"id\":\"2623\"},\"selection_glyph\":{\"id\":\"2639\"},\"view\":{\"id\":\"2626\"}},\"id\":\"2625\",\"type\":\"GlyphRenderer\"},{\"attributes\":{},\"id\":\"2713\",\"type\":\"Selection\"},{\"attributes\":{\"fill_color\":{\"value\":\"#8b8b8b\"},\"line_color\":{\"value\":\"#8b8b8b\"},\"size\":{\"value\":5.477225575051661},\"x\":{\"field\":\"TotalCoinsMined\"},\"y\":{\"field\":\"TotalCoinSupply\"}},\"id\":\"2715\",\"type\":\"Scatter\"},{\"attributes\":{},\"id\":\"2708\",\"type\":\"UnionRenderers\"},{\"attributes\":{},\"id\":\"2614\",\"type\":\"BasicTickFormatter\"},{\"attributes\":{\"fill_color\":{\"value\":\"#fc4f30\"},\"line_color\":{\"value\":\"#fc4f30\"},\"size\":{\"value\":5.477225575051661},\"x\":{\"field\":\"TotalCoinsMined\"},\"y\":{\"field\":\"TotalCoinSupply\"}},\"id\":\"2643\",\"type\":\"Scatter\"},{\"attributes\":{\"fill_alpha\":{\"value\":0.1},\"fill_color\":{\"value\":\"#8b8b8b\"},\"line_alpha\":{\"value\":0.1},\"line_color\":{\"value\":\"#8b8b8b\"},\"size\":{\"value\":5.477225575051661},\"x\":{\"field\":\"TotalCoinsMined\"},\"y\":{\"field\":\"TotalCoinSupply\"}},\"id\":\"2716\",\"type\":\"Scatter\"},{\"attributes\":{\"text_color\":\"black\",\"text_font_size\":\"12pt\"},\"id\":\"2584\",\"type\":\"Title\"},{\"attributes\":{},\"id\":\"2641\",\"type\":\"Selection\"},{\"attributes\":{\"below\":[{\"id\":\"2592\"}],\"center\":[{\"id\":\"2595\"},{\"id\":\"2599\"}],\"height\":300,\"left\":[{\"id\":\"2596\"}],\"margin\":[5,5,5,5],\"min_border_bottom\":10,\"min_border_left\":10,\"min_border_right\":10,\"min_border_top\":10,\"renderers\":[{\"id\":\"2625\"},{\"id\":\"2646\"},{\"id\":\"2668\"},{\"id\":\"2692\"},{\"id\":\"2718\"}],\"right\":[{\"id\":\"2637\"}],\"sizing_mode\":\"fixed\",\"title\":{\"id\":\"2584\"},\"toolbar\":{\"id\":\"2606\"},\"width\":700,\"x_range\":{\"id\":\"2576\"},\"x_scale\":{\"id\":\"2588\"},\"y_range\":{\"id\":\"2577\"},\"y_scale\":{\"id\":\"2590\"}},\"id\":\"2583\",\"subtype\":\"Figure\",\"type\":\"Plot\"},{\"attributes\":{\"fill_alpha\":{\"value\":0.1},\"fill_color\":{\"value\":\"#fc4f30\"},\"line_alpha\":{\"value\":0.1},\"line_color\":{\"value\":\"#fc4f30\"},\"size\":{\"value\":5.477225575051661},\"x\":{\"field\":\"TotalCoinsMined\"},\"y\":{\"field\":\"TotalCoinSupply\"}},\"id\":\"2644\",\"type\":\"Scatter\"},{\"attributes\":{\"source\":{\"id\":\"2712\"}},\"id\":\"2719\",\"type\":\"CDSView\"},{\"attributes\":{\"source\":{\"id\":\"2686\"}},\"id\":\"2693\",\"type\":\"CDSView\"},{\"attributes\":{},\"id\":\"2588\",\"type\":\"LinearScale\"},{\"attributes\":{},\"id\":\"2658\",\"type\":\"UnionRenderers\"},{\"attributes\":{\"data_source\":{\"id\":\"2712\"},\"glyph\":{\"id\":\"2715\"},\"hover_glyph\":null,\"muted_glyph\":{\"id\":\"2717\"},\"nonselection_glyph\":{\"id\":\"2716\"},\"selection_glyph\":{\"id\":\"2739\"},\"view\":{\"id\":\"2719\"}},\"id\":\"2718\",\"type\":\"GlyphRenderer\"},{\"attributes\":{\"source\":{\"id\":\"2640\"}},\"id\":\"2647\",\"type\":\"CDSView\"},{\"attributes\":{},\"id\":\"2590\",\"type\":\"LinearScale\"},{\"attributes\":{\"fill_alpha\":{\"value\":0.2},\"fill_color\":{\"value\":\"#8b8b8b\"},\"line_alpha\":{\"value\":0.2},\"line_color\":{\"value\":\"#8b8b8b\"},\"size\":{\"value\":5.477225575051661},\"x\":{\"field\":\"TotalCoinsMined\"},\"y\":{\"field\":\"TotalCoinSupply\"}},\"id\":\"2717\",\"type\":\"Scatter\"},{\"attributes\":{\"data_source\":{\"id\":\"2640\"},\"glyph\":{\"id\":\"2643\"},\"hover_glyph\":null,\"muted_glyph\":{\"id\":\"2645\"},\"nonselection_glyph\":{\"id\":\"2644\"},\"selection_glyph\":{\"id\":\"2661\"},\"view\":{\"id\":\"2647\"}},\"id\":\"2646\",\"type\":\"GlyphRenderer\"},{\"attributes\":{\"axis_label\":\"TotalCoinsMined\",\"formatter\":{\"id\":\"2614\"},\"major_label_policy\":{\"id\":\"2615\"},\"ticker\":{\"id\":\"2593\"}},\"id\":\"2592\",\"type\":\"LinearAxis\"},{\"attributes\":{\"fill_alpha\":{\"value\":0.2},\"fill_color\":{\"value\":\"#fc4f30\"},\"line_alpha\":{\"value\":0.2},\"line_color\":{\"value\":\"#fc4f30\"},\"size\":{\"value\":5.477225575051661},\"x\":{\"field\":\"TotalCoinsMined\"},\"y\":{\"field\":\"TotalCoinSupply\"}},\"id\":\"2645\",\"type\":\"Scatter\"},{\"attributes\":{},\"id\":\"2736\",\"type\":\"UnionRenderers\"},{\"attributes\":{},\"id\":\"2593\",\"type\":\"BasicTicker\"},{\"attributes\":{\"label\":{\"value\":\"4\"},\"renderers\":[{\"id\":\"2718\"}]},\"id\":\"2738\",\"type\":\"LegendItem\"},{\"attributes\":{\"margin\":[5,5,5,5],\"name\":\"HSpacer04869\",\"sizing_mode\":\"stretch_width\"},\"id\":\"2902\",\"type\":\"Spacer\"},{\"attributes\":{\"axis\":{\"id\":\"2592\"},\"grid_line_color\":null,\"ticker\":null},\"id\":\"2595\",\"type\":\"Grid\"},{\"attributes\":{\"label\":{\"value\":\"1\"},\"renderers\":[{\"id\":\"2646\"}]},\"id\":\"2660\",\"type\":\"LegendItem\"},{\"attributes\":{\"axis_label\":\"TotalCoinSupply\",\"formatter\":{\"id\":\"2617\"},\"major_label_policy\":{\"id\":\"2618\"},\"ticker\":{\"id\":\"2597\"}},\"id\":\"2596\",\"type\":\"LinearAxis\"},{\"attributes\":{\"angle\":{\"value\":0.0},\"fill_alpha\":{\"value\":1.0},\"fill_color\":{\"value\":\"#8b8b8b\"},\"hatch_alpha\":{\"value\":1.0},\"hatch_color\":{\"value\":\"black\"},\"hatch_scale\":{\"value\":12.0},\"hatch_weight\":{\"value\":1.0},\"line_alpha\":{\"value\":1.0},\"line_cap\":{\"value\":\"butt\"},\"line_color\":{\"value\":\"#8b8b8b\"},\"line_dash\":{\"value\":[]},\"line_dash_offset\":{\"value\":0},\"line_join\":{\"value\":\"bevel\"},\"line_width\":{\"value\":1},\"marker\":{\"value\":\"circle\"},\"size\":{\"value\":5.477225575051661},\"x\":{\"field\":\"TotalCoinsMined\"},\"y\":{\"field\":\"TotalCoinSupply\"}},\"id\":\"2739\",\"type\":\"Scatter\"},{\"attributes\":{\"end\":10326.7042876769,\"reset_end\":10326.7042876769,\"reset_start\":-485.99692876008453,\"start\":-485.99692876008453,\"tags\":[[[\"TotalCoinsMined\",\"TotalCoinsMined\",null]]]},\"id\":\"2576\",\"type\":\"Range1d\"},{\"attributes\":{\"data\":{\"Class\":[2,2,2,2,2,2],\"CoinName\":[\"EliteCoin\",\"MoonCoin\",\"ByteCoin\",\"gCn Coin\",\"TurtleCoin\",\"Qwertycoin\"],\"TotalCoinSupply\":{\"__ndarray__\":\"0JVKcC+LqEAAAAAAAACuQLoh15ey0pxAAAAAAABAn0AAAAAAAIjDQM3MzMzM0pxA\",\"dtype\":\"float64\",\"order\":\"little\",\"shape\":[6]},\"TotalCoinsMined\":{\"__ndarray__\":\"ZpeHO7VMckDQwAJ3JIetPmvmuVOswpxAqFfKMjR6mUC03T7TL5uAQEwWIbQ/HI9A\",\"dtype\":\"float64\",\"order\":\"little\",\"shape\":[6]}},\"selected\":{\"id\":\"2663\"},\"selection_policy\":{\"id\":\"2682\"}},\"id\":\"2662\",\"type\":\"ColumnDataSource\"},{\"attributes\":{},\"id\":\"2597\",\"type\":\"BasicTicker\"},{\"attributes\":{\"angle\":{\"value\":0.0},\"fill_alpha\":{\"value\":1.0},\"fill_color\":{\"value\":\"#fc4f30\"},\"hatch_alpha\":{\"value\":1.0},\"hatch_color\":{\"value\":\"black\"},\"hatch_scale\":{\"value\":12.0},\"hatch_weight\":{\"value\":1.0},\"line_alpha\":{\"value\":1.0},\"line_cap\":{\"value\":\"butt\"},\"line_color\":{\"value\":\"#fc4f30\"},\"line_dash\":{\"value\":[]},\"line_dash_offset\":{\"value\":0},\"line_join\":{\"value\":\"bevel\"},\"line_width\":{\"value\":1},\"marker\":{\"value\":\"circle\"},\"size\":{\"value\":5.477225575051661},\"x\":{\"field\":\"TotalCoinsMined\"},\"y\":{\"field\":\"TotalCoinSupply\"}},\"id\":\"2661\",\"type\":\"Scatter\"},{\"attributes\":{\"axis\":{\"id\":\"2596\"},\"dimension\":1,\"grid_line_color\":null,\"ticker\":null},\"id\":\"2599\",\"type\":\"Grid\"},{\"attributes\":{},\"id\":\"2663\",\"type\":\"Selection\"},{\"attributes\":{},\"id\":\"2615\",\"type\":\"AllLabels\"},{\"attributes\":{\"end\":11000.0,\"reset_end\":11000.0,\"reset_start\":-1000.0,\"start\":-1000.0,\"tags\":[[[\"TotalCoinSupply\",\"TotalCoinSupply\",null]]]},\"id\":\"2577\",\"type\":\"Range1d\"},{\"attributes\":{},\"id\":\"2617\",\"type\":\"BasicTickFormatter\"},{\"attributes\":{\"angle\":{\"value\":0.0},\"fill_alpha\":{\"value\":1.0},\"fill_color\":{\"value\":\"#30a2da\"},\"hatch_alpha\":{\"value\":1.0},\"hatch_color\":{\"value\":\"black\"},\"hatch_scale\":{\"value\":12.0},\"hatch_weight\":{\"value\":1.0},\"line_alpha\":{\"value\":1.0},\"line_cap\":{\"value\":\"butt\"},\"line_color\":{\"value\":\"#30a2da\"},\"line_dash\":{\"value\":[]},\"line_dash_offset\":{\"value\":0},\"line_join\":{\"value\":\"bevel\"},\"line_width\":{\"value\":1},\"marker\":{\"value\":\"circle\"},\"size\":{\"value\":5.477225575051661},\"x\":{\"field\":\"TotalCoinsMined\"},\"y\":{\"field\":\"TotalCoinSupply\"}},\"id\":\"2639\",\"type\":\"Scatter\"},{\"attributes\":{\"fill_color\":{\"value\":\"#e5ae38\"},\"line_color\":{\"value\":\"#e5ae38\"},\"size\":{\"value\":5.477225575051661},\"x\":{\"field\":\"TotalCoinsMined\"},\"y\":{\"field\":\"TotalCoinSupply\"}},\"id\":\"2665\",\"type\":\"Scatter\"},{\"attributes\":{},\"id\":\"2600\",\"type\":\"SaveTool\"},{\"attributes\":{\"fill_alpha\":{\"value\":0.1},\"fill_color\":{\"value\":\"#e5ae38\"},\"line_alpha\":{\"value\":0.1},\"line_color\":{\"value\":\"#e5ae38\"},\"size\":{\"value\":5.477225575051661},\"x\":{\"field\":\"TotalCoinsMined\"},\"y\":{\"field\":\"TotalCoinSupply\"}},\"id\":\"2666\",\"type\":\"Scatter\"},{\"attributes\":{},\"id\":\"2601\",\"type\":\"PanTool\"},{\"attributes\":{\"children\":[{\"id\":\"2575\"},{\"id\":\"2583\"},{\"id\":\"2902\"}],\"margin\":[0,0,0,0],\"name\":\"Row04864\",\"tags\":[\"embedded\"]},\"id\":\"2574\",\"type\":\"Row\"},{\"attributes\":{},\"id\":\"2602\",\"type\":\"WheelZoomTool\"},{\"attributes\":{},\"id\":\"2682\",\"type\":\"UnionRenderers\"},{\"attributes\":{\"source\":{\"id\":\"2662\"}},\"id\":\"2669\",\"type\":\"CDSView\"},{\"attributes\":{\"margin\":[5,5,5,5],\"name\":\"HSpacer04868\",\"sizing_mode\":\"stretch_width\"},\"id\":\"2575\",\"type\":\"Spacer\"},{\"attributes\":{\"overlay\":{\"id\":\"2605\"}},\"id\":\"2603\",\"type\":\"BoxZoomTool\"},{\"attributes\":{\"data_source\":{\"id\":\"2662\"},\"glyph\":{\"id\":\"2665\"},\"hover_glyph\":null,\"muted_glyph\":{\"id\":\"2667\"},\"nonselection_glyph\":{\"id\":\"2666\"},\"selection_glyph\":{\"id\":\"2685\"},\"view\":{\"id\":\"2669\"}},\"id\":\"2668\",\"type\":\"GlyphRenderer\"},{\"attributes\":{},\"id\":\"2604\",\"type\":\"ResetTool\"},{\"attributes\":{\"fill_alpha\":{\"value\":0.2},\"fill_color\":{\"value\":\"#e5ae38\"},\"line_alpha\":{\"value\":0.2},\"line_color\":{\"value\":\"#e5ae38\"},\"size\":{\"value\":5.477225575051661},\"x\":{\"field\":\"TotalCoinsMined\"},\"y\":{\"field\":\"TotalCoinSupply\"}},\"id\":\"2667\",\"type\":\"Scatter\"},{\"attributes\":{\"active_multi\":null,\"tools\":[{\"id\":\"2578\"},{\"id\":\"2600\"},{\"id\":\"2601\"},{\"id\":\"2602\"},{\"id\":\"2603\"},{\"id\":\"2604\"}]},\"id\":\"2606\",\"type\":\"Toolbar\"},{\"attributes\":{\"data\":{\"Class\":[1],\"CoinName\":[\"BitTorrent\"],\"TotalCoinSupply\":{\"__ndarray__\":\"AAAAAABWw0A=\",\"dtype\":\"float64\",\"order\":\"little\",\"shape\":[1]},\"TotalCoinsMined\":{\"__ndarray__\":\"C7KejfFVw0A=\",\"dtype\":\"float64\",\"order\":\"little\",\"shape\":[1]}},\"selected\":{\"id\":\"2641\"},\"selection_policy\":{\"id\":\"2658\"}},\"id\":\"2640\",\"type\":\"ColumnDataSource\"},{\"attributes\":{\"label\":{\"value\":\"2\"},\"renderers\":[{\"id\":\"2668\"}]},\"id\":\"2684\",\"type\":\"LegendItem\"},{\"attributes\":{\"data\":{\"Class\":[3,3,3,3,3,3,3,3,3,3,3,3,3,3,3,3,3,3,3,3,3,3,3,3,3,3,3,3,3,3,3,3,3,3,3,3,3,3,3,3,3,3,3,3,3,3,3,3,3,3,3,3,3,3,3,3,3,3,3,3,3,3,3,3,3,3,3,3,3,3,3,3,3,3,3,3,3,3,3,3,3,3,3,3,3,3,3,3,3,3,3,3,3,3,3,3,3,3,3,3,3,3,3,3,3,3,3,3,3,3,3,3,3,3,3],\"CoinName\":[\"Ethereum\",\"Monero\",\"Ethereum Classic\",\"ZCash\",\"DigiByte\",\"MyriadCoin\",\"Riecoin\",\"Diamond\",\"Verge\",\"FeatherCoin\",\"MediterraneanCoin\",\"Orbitcoin\",\"Vertcoin\",\"DigitalNote \",\"StorjCoin\",\"FairCoin\",\"Unitus\",\"Cryptonite\",\"Crypto\",\"Expanse\",\"Siacoin\",\"Decred\",\"HOdlcoin\",\"PWR Coin\",\"SoilCoin\",\"VIP Tokens\",\"Komodo\",\"Karbo\",\"Circuits of Value\",\"ZCoin\",\"Elementrem\",\"ZClassic\",\"Cannabis Industry Coin\",\"Bikercoins\",\"HexxCoin\",\"Citadel\",\"Zero\",\"Zoin\",\"DubaiCoin\",\"TajCoin\",\"Coinonat\",\"Quantum Resistant Ledger\",\"Espers\",\"Dynamic\",\"Nano\",\"ChanCoin\",\"Dinastycoin\",\"Denarius\",\"Virta Unique Coin\",\"LeviarCoin\",\"SmartCash\",\"Sumokoin\",\"BitcoinZ\",\"TrezarCoin\",\"VIVO Coin\",\"Bitcoin Gold\",\"NamoCoin\",\"Pirl\",\"Innova\",\"Ellaism\",\"GoByte\",\"Electra\",\"SHIELD\",\"UltraNote\",\"BitCoal\",\"DaxxCoin\",\"Lethean\",\"Photon\",\"SparksPay\",\"GunCoin\",\"Interzone\",\"1717 Masonic Commemorative Token\",\"Niobio Cash\",\"Travelflex\",\"KREDS\",\"Stipend\",\"Callisto Network\",\"BitTube\",\"Aidos Kuneen\",\"Bitspace\",\"Bitrolium\",\"Alpenschillling\",\"Monero Classic\",\"Jumpcoin\",\"Infinex\",\"GINcoin\",\"PlatinCoin\",\"Loki\",\"Newton Coin\",\"MassGrid\",\"PluraCoin\",\"Muse\",\"PlusOneCoin\",\"Absolute Coin\",\"Webchain\",\"Ryo\",\"XDNA\",\"CrypticCoin\",\"Actinium\",\"FREDEnergy\",\"Universal Molecule\",\"Lithium\",\"PirateCash\",\"Exosis\",\"Beam\",\"Bithereum\",\"UFO Coin\",\"BlakeCoin\",\"Groestlcoin\",\"FriendshipCoin\",\"JoinCoin\",\"Vollar\",\"Reality Clash\",\"Beldex\",\"Horizen\"],\"TotalCoinSupply\":{\"__ndarray__\":\"AAAAAAAAAAAAAAAAAAAAAM3MzMzMzABA4XoUrkfhyj8AAAAAAEBqQAAAAAAAADRA4XoUrkfh6j93LSEf9GymP5qZmZmZsWRA4XoUrkfhCkAAAAAAAAAAQHZPHhZqTaM/4XoUrkfh6j8AAAAAAABZQAAAAAAAABRAAAAAAAAAAAAAAAAAAAAAAGZmZmZmZjJAxqUqbXEN5T+GfApf46PFPwAAAAAAAAAA4XoUrkfhyj+TrMPRVTrqPwAAAAAAAAAAMzMzMzMz0z/NzMzMzMzsPwAAAAAAAABAmpmZmZmZuT8AAAAAAAAoQDEIrBxaZMs/+Jdy+IPF0D/hehSuR+HKP+F6FK5H4co/AAAAAAAA0D/Ve6ZumZm5P5qZmZmZmf0/w/UoXI/CxT/hehSuR+HKPwXozn5q3ZY/BFYOLbKd1z9vnuqQm+HeP83MzMzMzPA/AAAAAABAf0AAAAAAAAAAADijxZ37OAtAMzMzMzMz0z8AAAAAAAA0QJqZmZmZmbk/MzMzMzMz8z9I4XoUrkfhPwAAAAAAAElAIxmsF8dx7D8AAAAAAEBqQAAAAAAAABBASOF6FK5H0T/hehSuR+HKPwAAAAAAAChAPnO14lIC+T/NzMzMzMzcP2ZmZmZmZgZAJzEIrBxa1D8AAAAAAMByQGZmZmZmZhpAAAAAAACQikAAAAAAAADAPwAAAAAAAFlAr4ejaVj9I0AAAAAAACCMQOF6FK5H4co/AAAAAAAAFEBxPQrXo3DNP+oCwZCTkZA/4XoUrkfhCkAAAAAAAADwPwAAAAAAACZARHmTnYbByD8AAAAAAEBQQAAAAAAAACRAAAAAAAAA0D8AAAAAAADgP2ZmZmZmZuY/AAAAAAAACEBaZDvfT43HP+F6FK5H4co/GeJYF7fR0D/hehSuR+G6P+24n1sBABhAAAAAAAAA+D8AAAAAAMCcQOF6FK5H4fo/AAAAAAAAJEAA8xzTCyXHP+F6FK5H4co/zczMzMzM4D8AAAAAAIAxQFDLSQdvOOw/SOF6FK5HDUAAAAAAAABTQOF6FK5H4eo/MzMzMzMzVECUcTYbt9HwP38WS5F8JdA/zczMzMzM8D/hehSuR+HKP6AaL90kBgVATrnCu1zE0z8AAAAAAABEQAAAAAAAgFFAzczMzMzM8D/3g8t0+UDjP3npJjEIrJw/AAAAAAAANUA+oyGhNVjPPy9lhccjASxA4XoUrkfhyj8=\",\"dtype\":\"float64\",\"order\":\"little\",\"shape\":[115]},\"TotalCoinsMined\":{\"__ndarray__\":\"TWQ16r468T9gW054eATGP20Vq6M2I/I/Iv5hS4/msj+yAq7x+oNcQIDUJk7u4TBAmb/cSQq23z+mOxkYQuugP6KgBCdz6WNAqVWsA4uxAEAwUMH9WuDZP1VA2H9TfaA//zvCxSZg4D8y4mdQN0RRQM9R5JwaYOA/dxCefaMF4T/j3EfqFNbkP10c8FQbVxxAPGVWaziXwT+aarl1L966P6WJ0jm6r3RAGKDHT9aIuj/iJEnnLk+9P9wkhodyLFlA2rya0ckxrT/SXafLQbTqP/kAcvwvi/I/fLRDb4IGtD8AAAAAAAAkQNe1ieTyX7M/+Jdy+IPF0D8PCkrRyr2sP5IT3P5LCIQ/ljt13UL0tz+RxrWQNDaTP3KqJ0PaFLw/V89W0yy4sT/f0bXlEr3HPwXozn5q3ZY/k7lL3ggxvz8hBU8hV+q5PwdtLzVuF+Y/obWqPpqAbEDVCUUN5VLJP/wHqqnZUfU/BPH4zrCPxz8utwdjPBgyQP7oYYmDW6U/tI8V/DYk5D9+3a8jiiDCPyt6i8H7aDZANcVvTEfntj+2r4bFyQ5KQKwA323eOP0/I+3QwWpUpT9owHSj3gTGPz2e8dgqbBZA1Hn5Qm3A1T/+o836FlKwP+djZ58BVMA/emjEcYXcrT9B+Egx3b9xQDxpw8brRBNA9NNozy4aaEAK16NwPQqnP4Y1Oozu1RRAaEMEA2emEUBu3CXyWM5yQAqVDijiFrQ/a2sbsdz7B0DHgXe5p4G+P+oCwZCTkZA/lvqZtt9t9T/8z0P7CizxP1eHtlp4wBlAptlU+63NvD8QY6lgGs8DQKqOcfGenek/AAAAAAAA0D/CoooTAabBP/DAIdBw1eY/xJIfwXd/0T+5iFLvZ4DEP+D9gd0A+Mo/9Mvb06QZqj9SvHdem+KxP6CKG7eYn0s/YbYyG0OEyD8upTaKH895QFiBB7DsvPU/vxMVuEdnFkBiM13bHUrHPyEEg3faIbY/GikkDtUQwT9cMHvYUfHDP1kYQ7WYCqk/55AHe1vspz+F925W8SxFQHHoLR7ec8E/tuvtFKmrMkAI5P+oXimQP+QDjVOnSMQ/UeVqGso/wT+sWe21LqJwP604MBQL19Y/5e5zfLQY0D/zNOTImB9DQBoNKJGN5c0/ppGwv5Z05z/RbXBMC/KGP22GwDaHEKE/AAAAAAAA8D92ajCjNVjPP0yBFly9miNASIld29utsj8=\",\"dtype\":\"float64\",\"order\":\"little\",\"shape\":[115]}},\"selected\":{\"id\":\"2687\"},\"selection_policy\":{\"id\":\"2708\"}},\"id\":\"2686\",\"type\":\"ColumnDataSource\"},{\"attributes\":{\"label\":{\"value\":\"0\"},\"renderers\":[{\"id\":\"2625\"}]},\"id\":\"2638\",\"type\":\"LegendItem\"},{\"attributes\":{\"angle\":{\"value\":0.0},\"fill_alpha\":{\"value\":1.0},\"fill_color\":{\"value\":\"#e5ae38\"},\"hatch_alpha\":{\"value\":1.0},\"hatch_color\":{\"value\":\"black\"},\"hatch_scale\":{\"value\":12.0},\"hatch_weight\":{\"value\":1.0},\"line_alpha\":{\"value\":1.0},\"line_cap\":{\"value\":\"butt\"},\"line_color\":{\"value\":\"#e5ae38\"},\"line_dash\":{\"value\":[]},\"line_dash_offset\":{\"value\":0},\"line_join\":{\"value\":\"bevel\"},\"line_width\":{\"value\":1},\"marker\":{\"value\":\"circle\"},\"size\":{\"value\":5.477225575051661},\"x\":{\"field\":\"TotalCoinsMined\"},\"y\":{\"field\":\"TotalCoinSupply\"}},\"id\":\"2685\",\"type\":\"Scatter\"},{\"attributes\":{\"bottom_units\":\"screen\",\"fill_alpha\":0.5,\"fill_color\":\"lightgrey\",\"left_units\":\"screen\",\"level\":\"overlay\",\"line_alpha\":1.0,\"line_color\":\"black\",\"line_dash\":[4,4],\"line_width\":2,\"right_units\":\"screen\",\"syncable\":false,\"top_units\":\"screen\"},\"id\":\"2605\",\"type\":\"BoxAnnotation\"},{\"attributes\":{},\"id\":\"2687\",\"type\":\"Selection\"},{\"attributes\":{\"data\":{\"Class\":[0,0,0,0,0,0,0,0,0,0,0,0,0,0,0,0,0,0,0,0,0,0,0,0,0,0,0,0,0,0,0,0,0,0,0,0,0,0,0,0,0,0,0,0,0,0,0,0,0,0,0,0,0,0,0,0,0,0,0,0,0,0,0,0,0,0,0,0,0,0,0,0,0,0,0,0,0,0,0,0,0,0,0,0,0,0,0,0,0,0,0,0,0,0,0,0,0,0,0,0,0,0,0,0,0,0,0,0,0,0,0,0,0,0,0,0,0,0,0,0,0,0,0,0,0,0,0,0,0,0,0,0,0,0,0,0,0,0,0,0,0,0,0,0,0,0,0,0,0,0,0,0,0,0,0,0,0,0,0,0,0,0,0,0,0,0,0,0,0,0,0,0,0,0,0,0,0,0,0,0,0,0,0,0,0,0,0,0,0,0,0,0,0,0,0,0,0,0,0,0,0,0,0,0,0,0,0,0,0,0,0,0,0,0,0,0,0,0,0,0,0,0,0,0,0,0,0,0,0,0,0,0,0,0,0,0,0,0,0,0,0,0,0,0,0,0,0,0,0,0,0,0,0,0,0,0,0,0,0,0,0,0,0,0,0,0,0,0,0,0,0,0,0,0,0,0,0,0,0,0,0,0,0,0,0,0,0,0,0,0,0,0,0,0,0,0,0,0,0,0,0,0,0,0,0,0,0,0,0],\"CoinName\":[\"42 Coin\",\"404Coin\",\"Bitcoin\",\"Litecoin\",\"Dash\",\"BitcoinDark\",\"ProsperCoin\",\"KoboCoin\",\"Spreadcoin\",\"Argentum\",\"Aurora Coin\",\"BlueCoin\",\"ZetaCoin\",\"SexCoin\",\"Quatloo\",\"EnergyCoin\",\"QuarkCoin\",\"Digitalcoin \",\"BitBar\",\"Catcoin\",\"CryptoBullion\",\"CannaCoin\",\"CryptCoin\",\"DevCoin\",\"EarthCoin\",\"E-Gulden\",\"Einsteinium\",\"Emerald\",\"FlutterCoin\",\"Franko\",\"GrandCoin\",\"GlobalCoin\",\"GoldCoin\",\"HoboNickels\",\"Infinite Coin\",\"IOCoin\",\"IXcoin\",\"KrugerCoin\",\"LuckyCoin\",\"Litebar \",\"MaxCoin\",\"MegaCoin\",\"MinCoin\",\"MazaCoin\",\"NavCoin\",\"NobleCoin\",\"Namecoin\",\"NyanCoin\",\"OpalCoin\",\"PotCoin\",\"PhoenixCoin\",\"Reddcoin\",\"RonPaulCoin\",\"StableCoin\",\"SmartCoin\",\"SyncCoin\",\"SysCoin\",\"TigerCoin\",\"TorCoin\",\"TerraCoin\",\"UnbreakableCoin\",\"Unobtanium\",\"UroCoin\",\"UnitaryStatus Dollar\",\"UltraCoin\",\"ViaCoin\",\"VeriCoin\",\"WorldCoin\",\"X11 Coin\",\"JouleCoin\",\"StealthCoin\",\"ZCC Coin\",\"MonaCoin\",\"Neutron\",\"Gulden\",\"PesetaCoin\",\"Kore\",\"Wild Beast Coin\",\"Flo\",\"8BIT Coin\",\"Sativa Coin\",\"ArtByte\",\"Folding Coin\",\"CypherPunkCoin\",\"OmniCron\",\"Vtorrent\",\"GreenCoin\",\"MasterCoin\",\"SoonCoin\",\"1Credit\",\"IslaCoin\",\"Nexus\",\"MarsCoin \",\"Anarchists Prime\",\"Droidz\",\"BowsCoin\",\"Song Coin\",\"BitZeny\",\"Paycon\",\"Emercoin\",\"EverGreenCoin\",\"MindCoin\",\"I0coin\",\"Revolution VR\",\"EDRCoin\",\"Hitcoin\",\"Gamecredits\",\"DubaiCoin\",\"CarpeDiemCoin\",\"BillaryCoin\",\"Adzcoin\",\"YoCoin\",\"SibCoin\",\"EuropeCoin\",\"SwingCoin\",\"Francs\",\"BolivarCoin\",\"Ratecoin\",\"Revenu\",\"Clockcoin\",\"BitSend\",\"Omni\",\"PutinCoin\",\"iBankCoin\",\"Frankywillcoin\",\"PizzaCoin\",\"GoldBlocks\",\"CarterCoin\",\"BitTokens\",\"ZayedCoin\",\"MustangCoin\",\"ZoneCoin\",\"RootCoin\",\"DopeCoin\",\"DollarCoin\",\"Swiscoin\",\"Shilling\",\"BuzzCoin\",\"PesoBit\",\"Halloween Coin\",\"GanjaCoin V2\",\"LanaCoin\",\"InsaneCoin\",\"KiloCoin\",\"ArtexCoin\",\"EmberCoin\",\"XenixCoin\",\"PLNCoin\",\"AquariusCoin\",\"Kurrent\",\"Eternity\",\"Eurocoin\",\"BitcoinFast\",\"Stakenet\",\"BitConnect Coin\",\"MoneyCoin\",\"Enigma\",\"Russiacoin\",\"GameUnits\",\"GAKHcoin\",\"LiteCreed\",\"OsmiumCoin\",\"Klingon Empire Darsek\",\"Internet of People\",\"KushCoin\",\"Printerium\",\"PacCoin\",\"Impeach\",\"FirstCoin\",\"BeaverCoin\",\"VaultCoin\",\"OpenChat\",\"Canada eCoin\",\"VirtacoinPlus\",\"Impact\",\"EB3coin\",\"HappyCoin\",\"Condensate\",\"Independent Money System\",\"ArgusCoin\",\"LomoCoin\",\"GoldReserve\",\"BenjiRolls\",\"ILCoin\",\"Degas Coin\",\"HTML5 Coin\",\"EquiTrader\",\"DigitalPrice\",\"Bitcoin Planet\",\"Unify\",\"BritCoin\",\"SocialCoin\",\"ArcticCoin\",\"DAS\",\"Linda\",\"DeepOnion\",\"Bitcore\",\"Onix\",\"Cream\",\"Bitcoin Cash\",\"Monoeci\",\"Vechain\",\"Sojourn Coin\",\"NewYorkCoin\",\"FrazCoin\",\"Kronecoin\",\"AdCoin\",\"Linx\",\"CoinonatX\",\"Ethereum Dark\",\"Regalcoin\",\"Elements\",\"TerraNovaCoin\",\"WomenCoin\",\"Theresa May Coin\",\"LUXCoin\",\"Xios\",\"Bitcloud 2.0\",\"eBoost\",\"BlackholeCoin\",\"Pura\",\"Magnet\",\"Bitcoin Diamond\",\"Cash & Back Coin\",\"AC3\",\"GermanCoin\",\"LiteCoin Ultra\",\"PopularCoin\",\"PhantomX\",\"Sucre\",\"IrishCoin\",\"Trollcoin\",\"Litecoin Plus\",\"Pioneer Coin\",\"UnitedBitcoin\",\"My Big Coin\",\"MUNcoin\",\"Unified Society USDEX\",\"ShareChain\",\"LitecoinCash\",\"BitFlip\",\"LottoCoin\",\"Crypto Improvement Fund\",\"Pushi\",\"Ellerium\",\"Poseidon\",\"Briacoin\",\"Ignition\",\"Abjcoin\",\"FuturoCoin\",\"Carebit\",\"iDealCash\",\"KEYCO\",\"Swisscoin\",\"TheVig\",\"EmaratCoin\",\"Motion\",\"Axe\",\"Trivechain\",\"Giant\",\"HexCoin\",\"TPCash\",\"Urals Coin\",\"EUNO\",\"Project Pai\",\"Azart\",\"ThunderStake\",\"Kcash\",\"Xchange\",\"Bitcoin SV\",\"BitMoney\",\"HerbCoin\",\"Block-Logic\",\"Oduwa\",\"Galilel\",\"Credit\",\"SLICE\",\"Nasdacoin\",\"Beetle Coin\",\"Titan Coin\",\"Award\",\"BLAST\",\"Bitcoin Rhodium\",\"GlobalToken\",\"Insane Coin\",\"LiteDoge\",\"SolarCoin\",\"TruckCoin\",\"OrangeCoin\",\"BitstarCoin\",\"HyperCoin\",\"PinkCoin\",\"Crypto Escudo\",\"AudioCoin\",\"IncaKoin\",\"Piggy Coin\",\"Crown Coin\",\"Genstake\",\"SmileyCoin\",\"XiaoMiCoin\",\"CapriCoin\",\" ClubCoin\",\"Bata\",\"Pakcoin\",\"Creditbit \",\"OKCash\",\"WhiteCoin\",\"Triangles Coin\",\"Gapcoin\"],\"TotalCoinSupply\":{\"__ndarray__\":\"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\",\"dtype\":\"float64\",\"order\":\"little\",\"shape\":[309]},\"TotalCoinsMined\":{\"__ndarray__\":\"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\",\"dtype\":\"float64\",\"order\":\"little\",\"shape\":[309]}},\"selected\":{\"id\":\"2620\"},\"selection_policy\":{\"id\":\"2635\"}},\"id\":\"2619\",\"type\":\"ColumnDataSource\"},{\"attributes\":{\"click_policy\":\"mute\",\"items\":[{\"id\":\"2638\"},{\"id\":\"2660\"},{\"id\":\"2684\"},{\"id\":\"2710\"},{\"id\":\"2738\"}],\"location\":[0,0],\"title\":\"Class\"},\"id\":\"2637\",\"type\":\"Legend\"},{\"attributes\":{\"fill_color\":{\"value\":\"#6d904f\"},\"line_color\":{\"value\":\"#6d904f\"},\"size\":{\"value\":5.477225575051661},\"x\":{\"field\":\"TotalCoinsMined\"},\"y\":{\"field\":\"TotalCoinSupply\"}},\"id\":\"2689\",\"type\":\"Scatter\"},{\"attributes\":{},\"id\":\"2618\",\"type\":\"AllLabels\"},{\"attributes\":{\"fill_alpha\":{\"value\":0.1},\"fill_color\":{\"value\":\"#6d904f\"},\"line_alpha\":{\"value\":0.1},\"line_color\":{\"value\":\"#6d904f\"},\"size\":{\"value\":5.477225575051661},\"x\":{\"field\":\"TotalCoinsMined\"},\"y\":{\"field\":\"TotalCoinSupply\"}},\"id\":\"2690\",\"type\":\"Scatter\"},{\"attributes\":{},\"id\":\"2620\",\"type\":\"Selection\"},{\"attributes\":{\"data_source\":{\"id\":\"2686\"},\"glyph\":{\"id\":\"2689\"},\"hover_glyph\":null,\"muted_glyph\":{\"id\":\"2691\"},\"nonselection_glyph\":{\"id\":\"2690\"},\"selection_glyph\":{\"id\":\"2711\"},\"view\":{\"id\":\"2693\"}},\"id\":\"2692\",\"type\":\"GlyphRenderer\"},{\"attributes\":{\"fill_alpha\":{\"value\":0.2},\"fill_color\":{\"value\":\"#6d904f\"},\"line_alpha\":{\"value\":0.2},\"line_color\":{\"value\":\"#6d904f\"},\"size\":{\"value\":5.477225575051661},\"x\":{\"field\":\"TotalCoinsMined\"},\"y\":{\"field\":\"TotalCoinSupply\"}},\"id\":\"2691\",\"type\":\"Scatter\"},{\"attributes\":{\"fill_color\":{\"value\":\"#30a2da\"},\"line_color\":{\"value\":\"#30a2da\"},\"size\":{\"value\":5.477225575051661},\"x\":{\"field\":\"TotalCoinsMined\"},\"y\":{\"field\":\"TotalCoinSupply\"}},\"id\":\"2622\",\"type\":\"Scatter\"},{\"attributes\":{\"fill_alpha\":{\"value\":0.1},\"fill_color\":{\"value\":\"#30a2da\"},\"line_alpha\":{\"value\":0.1},\"line_color\":{\"value\":\"#30a2da\"},\"size\":{\"value\":5.477225575051661},\"x\":{\"field\":\"TotalCoinsMined\"},\"y\":{\"field\":\"TotalCoinSupply\"}},\"id\":\"2623\",\"type\":\"Scatter\"},{\"attributes\":{\"label\":{\"value\":\"3\"},\"renderers\":[{\"id\":\"2692\"}]},\"id\":\"2710\",\"type\":\"LegendItem\"}],\"root_ids\":[\"2574\"]},\"title\":\"Bokeh Application\",\"version\":\"2.3.2\"}};\n",
       "    var render_items = [{\"docid\":\"09a8fc1f-1713-4441-b10e-8bf565d76c7e\",\"root_ids\":[\"2574\"],\"roots\":{\"2574\":\"190796b5-c3c4-4f69-8a2c-f8610559e16f\"}}];\n",
       "    root.Bokeh.embed.embed_items_notebook(docs_json, render_items);\n",
       "  }\n",
       "  if (root.Bokeh !== undefined && root.Bokeh.Panel !== undefined) {\n",
       "    embed_document(root);\n",
       "  } else {\n",
       "    var attempts = 0;\n",
       "    var timer = setInterval(function(root) {\n",
       "      if (root.Bokeh !== undefined && root.Bokeh.Panel !== undefined) {\n",
       "        clearInterval(timer);\n",
       "        embed_document(root);\n",
       "      } else if (document.readyState == \"complete\") {\n",
       "        attempts++;\n",
       "        if (attempts > 100) {\n",
       "          clearInterval(timer);\n",
       "          console.log(\"Bokeh: ERROR: Unable to run BokehJS code because BokehJS library is missing\");\n",
       "        }\n",
       "      }\n",
       "    }, 10, root)\n",
       "  }\n",
       "})(window);</script>"
      ],
      "text/plain": [
       ":NdOverlay   [Class]\n",
       "   :Scatter   [TotalCoinsMined]   (TotalCoinSupply,CoinName)"
      ]
     },
     "execution_count": 51,
     "metadata": {
      "application/vnd.holoviews_exec.v0+json": {
       "id": "2574"
      }
     },
     "output_type": "execute_result"
    }
   ],
   "source": [
    "# Plot the scatter with x=\"TotalCoinsMined\" and y=\"TotalCoinSupply\"\n",
    "clustered_df.hvplot(\n",
    "    kind=\"scatter\",\n",
    "    x= \"TotalCoinsMined\",\n",
    "    y= \"TotalCoinSupply\",\n",
    "    hover_cols=[\"CoinName\"],\n",
    "    by= \"Class\")"
   ]
  },
  {
   "cell_type": "code",
   "execution_count": null,
   "metadata": {},
   "outputs": [],
   "source": []
  }
 ],
 "metadata": {
  "file_extension": ".py",
  "kernelspec": {
   "display_name": "conda_python3",
   "language": "python",
   "name": "conda_python3"
  },
  "language_info": {
   "codemirror_mode": {
    "name": "ipython",
    "version": 3
   },
   "file_extension": ".py",
   "mimetype": "text/x-python",
   "name": "python",
   "nbconvert_exporter": "python",
   "pygments_lexer": "ipython3",
   "version": "3.6.13"
  },
  "mimetype": "text/x-python",
  "name": "python",
  "npconvert_exporter": "python",
  "pygments_lexer": "ipython3",
  "version": 3
 },
 "nbformat": 4,
 "nbformat_minor": 4
}
